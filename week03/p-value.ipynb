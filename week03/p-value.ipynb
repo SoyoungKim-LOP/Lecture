{
 "cells": [
  {
   "cell_type": "code",
   "execution_count": 2,
   "metadata": {
    "id": "0uBS1HRvqik5"
   },
   "outputs": [],
   "source": [
    "import matplotlib.pyplot as plt\n",
    "import numpy as np\n",
    "\n",
    "\n",
    "%matplotlib inline"
   ]
  },
  {
   "cell_type": "code",
   "execution_count": 3,
   "metadata": {
    "id": "_AoTVcFFqln4"
   },
   "outputs": [],
   "source": [
    "def pvalue_101(mu, sigma, samp_size, samp_mean=0, deltam=0):\n",
    "    np.random.seed(1234)\n",
    "    s1 = np.random.normal(mu, sigma, samp_size)\n",
    "    \n",
    "    if samp_mean > 0:\n",
    "        print(len(s1[s1>samp_mean]))\n",
    "        outliers = float(len(s1[s1>samp_mean])*100)/float(len(s1))\n",
    "        print('Percentage of numbers larger than {} is {}%'.format(samp_mean, outliers))\n",
    "        if deltam == 0:\n",
    "            deltam = abs(mu-samp_mean)\n",
    "        if deltam > 0 :\n",
    "            outliers = (float(len(s1[s1>(mu+deltam)]))+float(len(s1[s1<(mu-deltam)])))*100.0/float(len(s1))\n",
    "            print('Percentage of numbers further than the population mean of {} by +/-{} is {}%'.format(mu, deltam, outliers))\n",
    "\n",
    "    fig, ax = plt.subplots(figsize=(8,8))\n",
    "    plt.title('Normal Distribution: population_mean={}'.format(mu) )\n",
    "    plt.hist(s1)\n",
    "    plt.axvline(x=mu+deltam, color='red')\n",
    "    plt.axvline(x=mu-deltam, color='green')\n",
    "    plt.show()"
   ]
  },
  {
   "cell_type": "code",
   "execution_count": 4,
   "metadata": {
    "colab": {
     "base_uri": "https://localhost:8080/",
     "height": 499
    },
    "id": "rVw2XaEGqlqn",
    "outputId": "e5f59f69-baf3-4ac4-b116-742398a558d9"
   },
   "outputs": [
    {
     "data": {
      "image/png": "[encoded data removed]",
      "text/plain": [
       "<Figure size 576x576 with 1 Axes>"
      ]
     },
     "metadata": {
      "needs_background": "light"
     },
     "output_type": "display_data"
    }
   ],
   "source": [
    "pvalue_101(0.92, 0.028, 93, 0, 0 )"
   ]
  },
  {
   "cell_type": "code",
   "execution_count": null,
   "metadata": {
    "id": "FLBSJ628qltf"
   },
   "outputs": [],
   "source": []
  },
  {
   "cell_type": "code",
   "execution_count": null,
   "metadata": {
    "id": "JcM6ajdiqlwc"
   },
   "outputs": [],
   "source": []
  },
  {
   "cell_type": "code",
   "execution_count": null,
   "metadata": {
    "id": "qZJU70hpqlzH"
   },
   "outputs": [],
   "source": []
  },
  {
   "cell_type": "code",
   "execution_count": null,
   "metadata": {
    "id": "7HmW7A7fql2R"
   },
   "outputs": [],
   "source": []
  }
 ],
 "metadata": {
  "colab": {
   "name": "Ex_colab-code_ROC-curve.ipynb의 사본",
   "provenance": []
  },
  "kernelspec": {
   "display_name": "Python 3",
   "language": "python",
   "name": "python3"
  },
  "language_info": {
   "codemirror_mode": {
    "name": "ipython",
    "version": 3
   },
   "file_extension": ".py",
   "mimetype": "text/x-python",
   "name": "python",
   "nbconvert_exporter": "python",
   "pygments_lexer": "ipython3",
   "version": "3.7.6"
  }
 },
 "nbformat": 4,
 "nbformat_minor": 4
}
