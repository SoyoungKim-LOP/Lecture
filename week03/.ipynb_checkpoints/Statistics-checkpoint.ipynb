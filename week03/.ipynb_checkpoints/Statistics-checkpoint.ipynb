{
 "cells": [
  {
   "cell_type": "markdown",
   "metadata": {
    "id": "jO_Fo6h3kB36"
   },
   "source": [
    "# 파이썬으로 배우는 통계학\n",
    "### 아래 내용 정리는 다음 웹사이트를 참고하였습니다.\n",
    "참고사이트:  https://partrita.github.io/posts/thinkstat2/"
   ]
  },
  {
   "cell_type": "markdown",
   "metadata": {
    "id": "UZ8pJDfCkScB"
   },
   "source": [
    "0. 통계적사고\n",
    "1. 탐색적 자료 분석: 일화적증거(anecdotal evidence)\n",
    "2. 분포 확인\n",
    "3. 확률 질량 함수\n",
    "4. 누적 분포 함수\n",
    "5. 분포 모델\n",
    "6. 확률밀도함수\n",
    "7. 변수간 관계\n",
    "8. 추정\n",
    "9. 가설검정\n",
    "10. 선형최소제곱(Linear Least Squares)\n",
    "11. 회귀\n",
    "12. 시계열분석\n",
    "13. 생존분석\n",
    "14. 해석적 방법(Analytic method)\n",
    "15. 요약\n"
   ]
  },
  {
   "cell_type": "code",
   "execution_count": 21,
   "metadata": {
    "id": "Whn6EvG8kI8D"
   },
   "outputs": [],
   "source": [
    "import warnings\n",
    "warnings.filterwarnings(\"ignore\")   # 경고문 끄기"
   ]
  },
  {
   "cell_type": "code",
   "execution_count": 22,
   "metadata": {
    "id": "KqD1Ea6_lYv9"
   },
   "outputs": [],
   "source": [
    "import pandas as pd\n",
    "import io"
   ]
  },
  {
   "cell_type": "code",
   "execution_count": 23,
   "metadata": {
    "colab": {
     "base_uri": "https://localhost:8080/",
     "height": 76,
     "resources": {
      "http://localhost:8080/nbextensions/google.colab/files.js": {
       "data": "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",
       "headers": [
        [
         "content-type",
         "application/javascript"
        ]
       ],
       "ok": true,
       "status": 200,
       "status_text": ""
      }
     }
    },
    "id": "QZKAUsTxlYy7",
    "outputId": "9a6a8a45-07b4-40ea-f91a-e89f5e809ab4"
   },
   "outputs": [
    {
     "data": {
      "text/html": [
       "\n",
       "     <input type=\"file\" id=\"files-4b769010-71fc-45db-9ba2-96832bb54440\" name=\"files[]\" multiple disabled\n",
       "        style=\"border:none\" />\n",
       "     <output id=\"result-4b769010-71fc-45db-9ba2-96832bb54440\">\n",
       "      Upload widget is only available when the cell has been executed in the\n",
       "      current browser session. Please rerun this cell to enable.\n",
       "      </output>\n",
       "      <script src=\"/nbextensions/google.colab/files.js\"></script> "
      ],
      "text/plain": [
       "<IPython.core.display.HTML object>"
      ]
     },
     "metadata": {
      "tags": []
     },
     "output_type": "display_data"
    },
    {
     "name": "stdout",
     "output_type": "stream",
     "text": [
      "Saving DCM_toydata.csv to DCM_toydata.csv\n"
     ]
    }
   ],
   "source": [
    "from google.colab import files\n",
    "myfile = files.upload()"
   ]
  },
  {
   "cell_type": "code",
   "execution_count": 26,
   "metadata": {
    "id": "y-wUW0xYlY1h"
   },
   "outputs": [],
   "source": [
    "# data = pd.read_excel(io.BytesIO(myfile['DCM_toydata.xlsx']))\n",
    "data = pd.read_csv(io.BytesIO(myfile['DCM_toydata.csv']))"
   ]
  },
  {
   "cell_type": "code",
   "execution_count": 27,
   "metadata": {
    "colab": {
     "base_uri": "https://localhost:8080/",
     "height": 365
    },
    "id": "boRa3xhblY4U",
    "outputId": "081588c7-420e-450c-fb18-0141b466bd7a"
   },
   "outputs": [
    {
     "data": {
      "text/plain": [
       "Index(['일련번호', 'Unnamed: 1', 'Serial No. ', 'Unit No. ', 'Sex', 'Age',\n",
       "       'exclusion', 'MRI date', 'Height', 'weight', 'BSA(m2)', 'BMI \\n(kg/m2)',\n",
       "       'systolic BP\\n(mmHg)', 'diastolic BP\\n(mmHg)',\n",
       "       'Heart rate\\n(beats/min)', 'Creatinine', 'eGFR \\n(ml/min/1.73m2)',\n",
       "       'Creatinine_시행일자', 'Sodium', 'Sodium_시행일자', 'NT-proBNP(pg/mL)_결과값',\n",
       "       'NT-proBNP_시행일자', 'Hematocrit\\n (%)', 'Hematocrit_시행일자',\n",
       "       'NYHA \\nfunctional class (I~IV)', 'NYHA_binary', '기록 작성일자',\n",
       "       'Diabetes (확진)', '진단일자', 'smoking\\n(current or previous)',\n",
       "       'Family history of cardiomyopathy or sudden cardiac death',\n",
       "       'History of atrial fibrillation', '진단일자.1',\n",
       "       'Initial echocardiography date', 'LVEF1', 'LVEDD1',\n",
       "       'F/U echocardiography date', 'LVEF2', 'LVEDD2', 'Echo_interval',\n",
       "       'Death', 'Cause of death ', 'MI Hx', 'MI _date', 'stress ECG',\n",
       "       'stess_date', 'SPECT', 'SPECT\\n_date', 'Heart_CT', 'HeartCT\\n_date',\n",
       "       'CAG\\n(coronary angiography)', 'CAG\\n(Comment)',\n",
       "       'CAG\\n(a. Clinical diagnosis)', 'CAG\\n(b. Anatomical diagnosis)',\n",
       "       'CAG\\n(Conclusions)', 'CAG_date', 'LVEF호전', 'LVEDDi감소', 'LVRR',\n",
       "       'LVEF2>45%', 'LGE%'],\n",
       "      dtype='object')"
      ]
     },
     "execution_count": 27,
     "metadata": {
      "tags": []
     },
     "output_type": "execute_result"
    }
   ],
   "source": [
    "data.columns"
   ]
  },
  {
   "cell_type": "code",
   "execution_count": 28,
   "metadata": {
    "colab": {
     "base_uri": "https://localhost:8080/",
     "height": 54
    },
    "id": "QdpaSA1BucoM",
    "outputId": "d0308635-8b98-48f2-c963-9f276649f86e"
   },
   "outputs": [
    {
     "name": "stdout",
     "output_type": "stream",
     "text": [
      "열 개수 : 61\n",
      "행 개수 : 149\n"
     ]
    }
   ],
   "source": [
    "print(\"열 개수 :\", len(data.columns))   # 열 수\n",
    "print(\"행 개수 :\", len(data.index))     # 행 수"
   ]
  },
  {
   "cell_type": "code",
   "execution_count": 31,
   "metadata": {
    "id": "oc5cZVLwlY6-"
   },
   "outputs": [],
   "source": [
    "columns = ['일련번호', 'Unnamed: 1', 'Serial No. ', 'Unit No. ', 'Sex', 'Age',\n",
    "       'exclusion', 'MRI date', 'Height', 'weight', 'BSA(m2)', 'BMI(kg/m2)',\n",
    "       'systolic-BP(mmHg)', 'diastolic-BP(mmHg)',\n",
    "       'Heart rate(beats/min)', 'Creatinine', 'eGFR(ml/min/1.73m2)',\n",
    "       'Creatinine시행일', 'Sodium', 'Sodium시행일', 'NT-proBNP(pg/mL)결과값',\n",
    "       'NT-proBNP시행일', 'Hematocrit(%)', 'Hematocrit시행일',\n",
    "       'NYHA_class(I-IV)', 'NYHA_binary', '기록작성일자',\n",
    "       'Diabetes(확진)', '진단일자', 'smoking(current/previous)',\n",
    "       'Family history of cardiomyopathy or sudden cardiac death',\n",
    "       'History of atrial fibrillation', '진단일자.1',\n",
    "       'Initial echocardiography date', 'LVEF1', 'LVEDD1',\n",
    "       'F/U echocardiography date', 'LVEF2', 'LVEDD2', 'Echo_interval',\n",
    "       'Death', 'Cause of death ', 'MI Hx', 'MI _date', 'stress ECG',\n",
    "       'stess_date', 'SPECT', 'SPECT_date', 'Heart_CT', 'HeartCT_date',\n",
    "       'CAG(coronary angiography)', 'CAG(Comment)',\n",
    "       'CAG(a. Clinical diagnosis)', 'CAG(b. Anatomical diagnosis)',\n",
    "       'CAG(Conclusions)', 'CAG_date', 'LVEF호전', 'LVEDDi감소', 'LVRR',\n",
    "       'LVEF2>45%', 'LGE%']"
   ]
  },
  {
   "cell_type": "code",
   "execution_count": 32,
   "metadata": {
    "colab": {
     "base_uri": "https://localhost:8080/",
     "height": 344
    },
    "id": "I8GG-XL5lY92",
    "outputId": "93a31da3-f69b-4ba3-8a42-0b303a301add"
   },
   "outputs": [
    {
     "ename": "KeyError",
     "evalue": "ignored",
     "output_type": "error",
     "traceback": [
      "\u001b[0;31m---------------------------------------------------------------------------\u001b[0m",
      "\u001b[0;31mKeyError\u001b[0m                                  Traceback (most recent call last)",
      "\u001b[0;32m<ipython-input-32-b594a5d7877c>\u001b[0m in \u001b[0;36m<module>\u001b[0;34m()\u001b[0m\n\u001b[0;32m----> 1\u001b[0;31m \u001b[0mtest_data\u001b[0m \u001b[0;34m=\u001b[0m \u001b[0mdata\u001b[0m\u001b[0;34m[\u001b[0m \u001b[0;34m[\u001b[0m\u001b[0;34m'Serial No'\u001b[0m\u001b[0;34m,\u001b[0m \u001b[0;34m'Sex'\u001b[0m\u001b[0;34m,\u001b[0m \u001b[0;34m'Age'\u001b[0m\u001b[0;34m,\u001b[0m \u001b[0;34m'exclusion'\u001b[0m\u001b[0;34m,\u001b[0m \u001b[0;34m'Height'\u001b[0m\u001b[0;34m,\u001b[0m \u001b[0;34m'weight'\u001b[0m\u001b[0;34m,\u001b[0m \u001b[0;34m'BSA(m2)'\u001b[0m\u001b[0;34m,\u001b[0m \u001b[0;34m'BMI (kg/m2)'\u001b[0m\u001b[0;34m,\u001b[0m \u001b[0;34m'systolic BP(mmHg)'\u001b[0m\u001b[0;34m,\u001b[0m \u001b[0;34m'diastolic BP(mmHg)'\u001b[0m\u001b[0;34m,\u001b[0m \u001b[0;34m'Heart rate(beats/min'\u001b[0m\u001b[0;34m]\u001b[0m \u001b[0;34m]\u001b[0m\u001b[0;34m\u001b[0m\u001b[0;34m\u001b[0m\u001b[0m\n\u001b[0m",
      "\u001b[0;32m/usr/local/lib/python3.6/dist-packages/pandas/core/frame.py\u001b[0m in \u001b[0;36m__getitem__\u001b[0;34m(self, key)\u001b[0m\n\u001b[1;32m   2804\u001b[0m             \u001b[0;32mif\u001b[0m \u001b[0mis_iterator\u001b[0m\u001b[0;34m(\u001b[0m\u001b[0mkey\u001b[0m\u001b[0;34m)\u001b[0m\u001b[0;34m:\u001b[0m\u001b[0;34m\u001b[0m\u001b[0;34m\u001b[0m\u001b[0m\n\u001b[1;32m   2805\u001b[0m                 \u001b[0mkey\u001b[0m \u001b[0;34m=\u001b[0m \u001b[0mlist\u001b[0m\u001b[0;34m(\u001b[0m\u001b[0mkey\u001b[0m\u001b[0;34m)\u001b[0m\u001b[0;34m\u001b[0m\u001b[0;34m\u001b[0m\u001b[0m\n\u001b[0;32m-> 2806\u001b[0;31m             \u001b[0mindexer\u001b[0m \u001b[0;34m=\u001b[0m \u001b[0mself\u001b[0m\u001b[0;34m.\u001b[0m\u001b[0mloc\u001b[0m\u001b[0;34m.\u001b[0m\u001b[0m_get_listlike_indexer\u001b[0m\u001b[0;34m(\u001b[0m\u001b[0mkey\u001b[0m\u001b[0;34m,\u001b[0m \u001b[0maxis\u001b[0m\u001b[0;34m=\u001b[0m\u001b[0;36m1\u001b[0m\u001b[0;34m,\u001b[0m \u001b[0mraise_missing\u001b[0m\u001b[0;34m=\u001b[0m\u001b[0;32mTrue\u001b[0m\u001b[0;34m)\u001b[0m\u001b[0;34m[\u001b[0m\u001b[0;36m1\u001b[0m\u001b[0;34m]\u001b[0m\u001b[0;34m\u001b[0m\u001b[0;34m\u001b[0m\u001b[0m\n\u001b[0m\u001b[1;32m   2807\u001b[0m \u001b[0;34m\u001b[0m\u001b[0m\n\u001b[1;32m   2808\u001b[0m         \u001b[0;31m# take() does not accept boolean indexers\u001b[0m\u001b[0;34m\u001b[0m\u001b[0;34m\u001b[0m\u001b[0;34m\u001b[0m\u001b[0m\n",
      "\u001b[0;32m/usr/local/lib/python3.6/dist-packages/pandas/core/indexing.py\u001b[0m in \u001b[0;36m_get_listlike_indexer\u001b[0;34m(self, key, axis, raise_missing)\u001b[0m\n\u001b[1;32m   1551\u001b[0m \u001b[0;34m\u001b[0m\u001b[0m\n\u001b[1;32m   1552\u001b[0m         self._validate_read_indexer(\n\u001b[0;32m-> 1553\u001b[0;31m             \u001b[0mkeyarr\u001b[0m\u001b[0;34m,\u001b[0m \u001b[0mindexer\u001b[0m\u001b[0;34m,\u001b[0m \u001b[0mo\u001b[0m\u001b[0;34m.\u001b[0m\u001b[0m_get_axis_number\u001b[0m\u001b[0;34m(\u001b[0m\u001b[0maxis\u001b[0m\u001b[0;34m)\u001b[0m\u001b[0;34m,\u001b[0m \u001b[0mraise_missing\u001b[0m\u001b[0;34m=\u001b[0m\u001b[0mraise_missing\u001b[0m\u001b[0;34m\u001b[0m\u001b[0;34m\u001b[0m\u001b[0m\n\u001b[0m\u001b[1;32m   1554\u001b[0m         )\n\u001b[1;32m   1555\u001b[0m         \u001b[0;32mreturn\u001b[0m \u001b[0mkeyarr\u001b[0m\u001b[0;34m,\u001b[0m \u001b[0mindexer\u001b[0m\u001b[0;34m\u001b[0m\u001b[0;34m\u001b[0m\u001b[0m\n",
      "\u001b[0;32m/usr/local/lib/python3.6/dist-packages/pandas/core/indexing.py\u001b[0m in \u001b[0;36m_validate_read_indexer\u001b[0;34m(self, key, indexer, axis, raise_missing)\u001b[0m\n\u001b[1;32m   1644\u001b[0m             \u001b[0;32mif\u001b[0m \u001b[0;32mnot\u001b[0m \u001b[0;34m(\u001b[0m\u001b[0mself\u001b[0m\u001b[0;34m.\u001b[0m\u001b[0mname\u001b[0m \u001b[0;34m==\u001b[0m \u001b[0;34m\"loc\"\u001b[0m \u001b[0;32mand\u001b[0m \u001b[0;32mnot\u001b[0m \u001b[0mraise_missing\u001b[0m\u001b[0;34m)\u001b[0m\u001b[0;34m:\u001b[0m\u001b[0;34m\u001b[0m\u001b[0;34m\u001b[0m\u001b[0m\n\u001b[1;32m   1645\u001b[0m                 \u001b[0mnot_found\u001b[0m \u001b[0;34m=\u001b[0m \u001b[0mlist\u001b[0m\u001b[0;34m(\u001b[0m\u001b[0mset\u001b[0m\u001b[0;34m(\u001b[0m\u001b[0mkey\u001b[0m\u001b[0;34m)\u001b[0m \u001b[0;34m-\u001b[0m \u001b[0mset\u001b[0m\u001b[0;34m(\u001b[0m\u001b[0max\u001b[0m\u001b[0;34m)\u001b[0m\u001b[0;34m)\u001b[0m\u001b[0;34m\u001b[0m\u001b[0;34m\u001b[0m\u001b[0m\n\u001b[0;32m-> 1646\u001b[0;31m                 \u001b[0;32mraise\u001b[0m \u001b[0mKeyError\u001b[0m\u001b[0;34m(\u001b[0m\u001b[0;34mf\"{not_found} not in index\"\u001b[0m\u001b[0;34m)\u001b[0m\u001b[0;34m\u001b[0m\u001b[0;34m\u001b[0m\u001b[0m\n\u001b[0m\u001b[1;32m   1647\u001b[0m \u001b[0;34m\u001b[0m\u001b[0m\n\u001b[1;32m   1648\u001b[0m             \u001b[0;31m# we skip the warning on Categorical/Interval\u001b[0m\u001b[0;34m\u001b[0m\u001b[0;34m\u001b[0m\u001b[0;34m\u001b[0m\u001b[0m\n",
      "\u001b[0;31mKeyError\u001b[0m: \"['Heart rate(beats/min', 'BMI (kg/m2)', 'systolic BP(mmHg)', 'Serial No', 'diastolic BP(mmHg)'] not in index\""
     ]
    }
   ],
   "source": []
  },
  {
   "cell_type": "code",
   "execution_count": 16,
   "metadata": {
    "colab": {
     "base_uri": "https://localhost:8080/",
     "height": 720
    },
    "id": "BtCqmyNrlZAE",
    "outputId": "bb590515-19f8-4237-fd89-ef1b1a9a704c"
   },
   "outputs": [
    {
     "data": {
      "text/html": [
       "<div>\n",
       "<style scoped>\n",
       "    .dataframe tbody tr th:only-of-type {\n",
       "        vertical-align: middle;\n",
       "    }\n",
       "\n",
       "    .dataframe tbody tr th {\n",
       "        vertical-align: top;\n",
       "    }\n",
       "\n",
       "    .dataframe thead th {\n",
       "        text-align: right;\n",
       "    }\n",
       "</style>\n",
       "<table border=\"1\" class=\"dataframe\">\n",
       "  <thead>\n",
       "    <tr style=\"text-align: right;\">\n",
       "      <th></th>\n",
       "      <th>일련번호</th>\n",
       "      <th>Unnamed: 1</th>\n",
       "      <th>Serial No.</th>\n",
       "      <th>Unit No.</th>\n",
       "      <th>Sex</th>\n",
       "      <th>Age</th>\n",
       "      <th>exclusion</th>\n",
       "      <th>MRI date</th>\n",
       "      <th>Height</th>\n",
       "      <th>weight</th>\n",
       "      <th>BSA(m2)</th>\n",
       "      <th>BMI \\n(kg/m2)</th>\n",
       "      <th>systolic BP\\n(mmHg)</th>\n",
       "      <th>diastolic BP\\n(mmHg)</th>\n",
       "      <th>Heart rate\\n(beats/min)</th>\n",
       "      <th>Creatinine</th>\n",
       "      <th>eGFR \\n(ml/min/1.73m2)</th>\n",
       "      <th>Creatinine_시행일자</th>\n",
       "      <th>Sodium</th>\n",
       "      <th>Sodium_시행일자</th>\n",
       "      <th>NT-proBNP(pg/mL)_결과값</th>\n",
       "      <th>NT-proBNP_시행일자</th>\n",
       "      <th>Hematocrit\\n (%)</th>\n",
       "      <th>Hematocrit_시행일자</th>\n",
       "      <th>NYHA \\nfunctional class (I~IV)</th>\n",
       "      <th>NYHA_binary</th>\n",
       "      <th>기록 작성일자</th>\n",
       "      <th>Diabetes (확진)</th>\n",
       "      <th>진단일자</th>\n",
       "      <th>smoking\\n(current or previous)</th>\n",
       "      <th>Family history of cardiomyopathy or sudden cardiac death</th>\n",
       "      <th>History of atrial fibrillation</th>\n",
       "      <th>진단일자.1</th>\n",
       "      <th>Initial echocardiography date</th>\n",
       "      <th>LVEF1</th>\n",
       "      <th>LVEDD1</th>\n",
       "      <th>F/U echocardiography date</th>\n",
       "      <th>LVEF2</th>\n",
       "      <th>LVEDD2</th>\n",
       "      <th>Echo_interval</th>\n",
       "      <th>Death</th>\n",
       "      <th>Cause of death</th>\n",
       "      <th>MI Hx</th>\n",
       "      <th>MI _date</th>\n",
       "      <th>stress ECG</th>\n",
       "      <th>stess_date</th>\n",
       "      <th>SPECT</th>\n",
       "      <th>SPECT\\n_date</th>\n",
       "      <th>Heart_CT</th>\n",
       "      <th>HeartCT\\n_date</th>\n",
       "      <th>CAG\\n(coronary angiography)</th>\n",
       "      <th>CAG\\n(Comment)</th>\n",
       "      <th>CAG\\n(a. Clinical diagnosis)</th>\n",
       "      <th>CAG\\n(b. Anatomical diagnosis)</th>\n",
       "      <th>CAG\\n(Conclusions)</th>\n",
       "      <th>CAG_date</th>\n",
       "      <th>LVEF호전</th>\n",
       "      <th>LVEDDi감소</th>\n",
       "      <th>LVRR</th>\n",
       "      <th>LVEF2&gt;45%</th>\n",
       "      <th>LGE%</th>\n",
       "    </tr>\n",
       "  </thead>\n",
       "  <tbody>\n",
       "    <tr>\n",
       "      <th>0</th>\n",
       "      <td>1</td>\n",
       "      <td>NaN</td>\n",
       "      <td>5</td>\n",
       "      <td>1104447</td>\n",
       "      <td>M</td>\n",
       "      <td>65</td>\n",
       "      <td>0</td>\n",
       "      <td>2012-04-05</td>\n",
       "      <td>161.0</td>\n",
       "      <td>57.0</td>\n",
       "      <td>1.596611</td>\n",
       "      <td>21.989892</td>\n",
       "      <td>120.0</td>\n",
       "      <td>80.0</td>\n",
       "      <td>78.0</td>\n",
       "      <td>0.62</td>\n",
       "      <td>130.195696</td>\n",
       "      <td>2012-04-04</td>\n",
       "      <td>141.0</td>\n",
       "      <td>2012-04-04</td>\n",
       "      <td>296.0</td>\n",
       "      <td>2014-02-06</td>\n",
       "      <td>39.6</td>\n",
       "      <td>2012-04-04</td>\n",
       "      <td>2.0</td>\n",
       "      <td>2.0</td>\n",
       "      <td>2012-05-07</td>\n",
       "      <td>No</td>\n",
       "      <td>NaN</td>\n",
       "      <td>Y</td>\n",
       "      <td>No</td>\n",
       "      <td>No</td>\n",
       "      <td>NaN</td>\n",
       "      <td>2012-04-06</td>\n",
       "      <td>30</td>\n",
       "      <td>61</td>\n",
       "      <td>2013-02-07</td>\n",
       "      <td>40</td>\n",
       "      <td>65.0</td>\n",
       "      <td>307</td>\n",
       "      <td>NaN</td>\n",
       "      <td>NaN</td>\n",
       "      <td>N</td>\n",
       "      <td>NaN</td>\n",
       "      <td>- 키:   160 cm, 체중:  56  kg\\n\\n- 최대산소섭취량(VO2pea...</td>\n",
       "      <td>2015-06-08</td>\n",
       "      <td>Hx: EKG abnormality   \\nHTN/DM (+/-) \\nEKG: 20...</td>\n",
       "      <td>2012-03-30</td>\n",
       "      <td>NaN</td>\n",
       "      <td>NaN</td>\n",
       "      <td>Rt. CFA c 7Fr sheath → Proglide (+)\\n\\n\\nRCA c...</td>\n",
       "      <td>NaN</td>\n",
       "      <td>NaN</td>\n",
       "      <td>NaN</td>\n",
       "      <td>Minimal CAD</td>\n",
       "      <td>2012-04-03</td>\n",
       "      <td>1</td>\n",
       "      <td>0</td>\n",
       "      <td>0</td>\n",
       "      <td>0</td>\n",
       "      <td>6.828914</td>\n",
       "    </tr>\n",
       "    <tr>\n",
       "      <th>1</th>\n",
       "      <td>2</td>\n",
       "      <td>NaN</td>\n",
       "      <td>8</td>\n",
       "      <td>7480655</td>\n",
       "      <td>M</td>\n",
       "      <td>49</td>\n",
       "      <td>0</td>\n",
       "      <td>2012-04-20</td>\n",
       "      <td>167.0</td>\n",
       "      <td>64.0</td>\n",
       "      <td>1.723046</td>\n",
       "      <td>22.948116</td>\n",
       "      <td>NaN</td>\n",
       "      <td>NaN</td>\n",
       "      <td>NaN</td>\n",
       "      <td>0.81</td>\n",
       "      <td>101.282994</td>\n",
       "      <td>2012-04-17</td>\n",
       "      <td>145.0</td>\n",
       "      <td>2012-04-17</td>\n",
       "      <td>154.0</td>\n",
       "      <td>2012-06-19</td>\n",
       "      <td>44.3</td>\n",
       "      <td>2012-04-17</td>\n",
       "      <td>2.0</td>\n",
       "      <td>2.0</td>\n",
       "      <td>2012-04-17</td>\n",
       "      <td>No</td>\n",
       "      <td>NaN</td>\n",
       "      <td>N</td>\n",
       "      <td>No</td>\n",
       "      <td>No</td>\n",
       "      <td>NaN</td>\n",
       "      <td>2012-04-17</td>\n",
       "      <td>20</td>\n",
       "      <td>72</td>\n",
       "      <td>2013-01-15</td>\n",
       "      <td>46</td>\n",
       "      <td>64.0</td>\n",
       "      <td>273</td>\n",
       "      <td>NaN</td>\n",
       "      <td>NaN</td>\n",
       "      <td>N</td>\n",
       "      <td>NaN</td>\n",
       "      <td>NaN</td>\n",
       "      <td>NaN</td>\n",
       "      <td>NaN</td>\n",
       "      <td>NaN</td>\n",
       "      <td>NaN</td>\n",
       "      <td>NaN</td>\n",
       "      <td>NaN</td>\n",
       "      <td>NaN</td>\n",
       "      <td>NaN</td>\n",
       "      <td>NaN</td>\n",
       "      <td>NaN</td>\n",
       "      <td>NaN</td>\n",
       "      <td>1</td>\n",
       "      <td>1</td>\n",
       "      <td>1</td>\n",
       "      <td>1</td>\n",
       "      <td>0.000000</td>\n",
       "    </tr>\n",
       "    <tr>\n",
       "      <th>2</th>\n",
       "      <td>3</td>\n",
       "      <td>NaN</td>\n",
       "      <td>12</td>\n",
       "      <td>7494553</td>\n",
       "      <td>M</td>\n",
       "      <td>67</td>\n",
       "      <td>0</td>\n",
       "      <td>2012-05-16</td>\n",
       "      <td>167.0</td>\n",
       "      <td>59.0</td>\n",
       "      <td>1.654371</td>\n",
       "      <td>21.155294</td>\n",
       "      <td>110.0</td>\n",
       "      <td>70.0</td>\n",
       "      <td>72.0</td>\n",
       "      <td>0.74</td>\n",
       "      <td>105.499757</td>\n",
       "      <td>2012-05-16</td>\n",
       "      <td>141.0</td>\n",
       "      <td>2012-05-16</td>\n",
       "      <td>861.0</td>\n",
       "      <td>2012-05-14</td>\n",
       "      <td>44.0</td>\n",
       "      <td>2012-05-14</td>\n",
       "      <td>1.0</td>\n",
       "      <td>1.0</td>\n",
       "      <td>2017-04-13</td>\n",
       "      <td>No</td>\n",
       "      <td>NaN</td>\n",
       "      <td>Y</td>\n",
       "      <td>No</td>\n",
       "      <td>No</td>\n",
       "      <td>NaN</td>\n",
       "      <td>2012-05-14</td>\n",
       "      <td>23</td>\n",
       "      <td>72</td>\n",
       "      <td>2013-04-16</td>\n",
       "      <td>41</td>\n",
       "      <td>57.0</td>\n",
       "      <td>337</td>\n",
       "      <td>NaN</td>\n",
       "      <td>NaN</td>\n",
       "      <td>N</td>\n",
       "      <td>NaN</td>\n",
       "      <td>- 키:  162 cm, 몸무게: 59  kg\\n\\n- 최대산소섭취량(VO2peak...</td>\n",
       "      <td>2012-05-16</td>\n",
       "      <td>NaN</td>\n",
       "      <td>NaN</td>\n",
       "      <td>NaN</td>\n",
       "      <td>NaN</td>\n",
       "      <td>Rt. Radial A  c 6Fr. sheath → PAD + coban \\n\\n...</td>\n",
       "      <td>NaN</td>\n",
       "      <td>NaN</td>\n",
       "      <td>NaN</td>\n",
       "      <td>Minimal CAD</td>\n",
       "      <td>2012-05-15</td>\n",
       "      <td>1</td>\n",
       "      <td>1</td>\n",
       "      <td>1</td>\n",
       "      <td>0</td>\n",
       "      <td>0.706187</td>\n",
       "    </tr>\n",
       "    <tr>\n",
       "      <th>3</th>\n",
       "      <td>6</td>\n",
       "      <td>NaN</td>\n",
       "      <td>26</td>\n",
       "      <td>7425998</td>\n",
       "      <td>F</td>\n",
       "      <td>45</td>\n",
       "      <td>0</td>\n",
       "      <td>2012-06-19</td>\n",
       "      <td>167.0</td>\n",
       "      <td>72.0</td>\n",
       "      <td>1.827567</td>\n",
       "      <td>25.816630</td>\n",
       "      <td>110.0</td>\n",
       "      <td>70.0</td>\n",
       "      <td>68.0</td>\n",
       "      <td>0.72</td>\n",
       "      <td>87.594757</td>\n",
       "      <td>2012-06-19</td>\n",
       "      <td>142.0</td>\n",
       "      <td>2012-06-19</td>\n",
       "      <td>1779.0</td>\n",
       "      <td>2012-06-15</td>\n",
       "      <td>35.8</td>\n",
       "      <td>2012-06-18</td>\n",
       "      <td>3.0</td>\n",
       "      <td>2.0</td>\n",
       "      <td>2012-06-25</td>\n",
       "      <td>yes</td>\n",
       "      <td>2015-02-03</td>\n",
       "      <td>N</td>\n",
       "      <td>No</td>\n",
       "      <td>No</td>\n",
       "      <td>NaN</td>\n",
       "      <td>2012-06-15</td>\n",
       "      <td>20</td>\n",
       "      <td>66</td>\n",
       "      <td>2013-06-14</td>\n",
       "      <td>43</td>\n",
       "      <td>60.0</td>\n",
       "      <td>364</td>\n",
       "      <td>NaN</td>\n",
       "      <td>NaN</td>\n",
       "      <td>N</td>\n",
       "      <td>NaN</td>\n",
       "      <td>- 키:  167 cm, 몸무게: 71.8  kg\\n\\n- 최대산소섭취량(VO2pe...</td>\n",
       "      <td>2012-06-19</td>\n",
       "      <td>NaN</td>\n",
       "      <td>NaN</td>\n",
       "      <td>C.C: Probably anginal chest pain\\nHx: 가슴통증으로 검...</td>\n",
       "      <td>2013-06-24</td>\n",
       "      <td>NaN</td>\n",
       "      <td>NaN</td>\n",
       "      <td>NaN</td>\n",
       "      <td>NaN</td>\n",
       "      <td>NaN</td>\n",
       "      <td>NaN</td>\n",
       "      <td>1</td>\n",
       "      <td>0</td>\n",
       "      <td>0</td>\n",
       "      <td>0</td>\n",
       "      <td>0.000000</td>\n",
       "    </tr>\n",
       "    <tr>\n",
       "      <th>4</th>\n",
       "      <td>8</td>\n",
       "      <td>NaN</td>\n",
       "      <td>41</td>\n",
       "      <td>7549298</td>\n",
       "      <td>M</td>\n",
       "      <td>17</td>\n",
       "      <td>0</td>\n",
       "      <td>2012-08-28</td>\n",
       "      <td>165.0</td>\n",
       "      <td>72.0</td>\n",
       "      <td>1.816590</td>\n",
       "      <td>26.446281</td>\n",
       "      <td>105.0</td>\n",
       "      <td>55.0</td>\n",
       "      <td>107.0</td>\n",
       "      <td>1.07</td>\n",
       "      <td>91.064276</td>\n",
       "      <td>2012-08-28</td>\n",
       "      <td>133.0</td>\n",
       "      <td>2012-08-28</td>\n",
       "      <td>14076.0</td>\n",
       "      <td>2012-08-24</td>\n",
       "      <td>37.8</td>\n",
       "      <td>2012-08-28</td>\n",
       "      <td>4.0</td>\n",
       "      <td>2.0</td>\n",
       "      <td>2012-08-24</td>\n",
       "      <td>yes</td>\n",
       "      <td>2013-01-31</td>\n",
       "      <td>N</td>\n",
       "      <td>No</td>\n",
       "      <td>No</td>\n",
       "      <td>NaN</td>\n",
       "      <td>2012-08-24</td>\n",
       "      <td>10</td>\n",
       "      <td>73</td>\n",
       "      <td>2013-11-19</td>\n",
       "      <td>66</td>\n",
       "      <td>44.0</td>\n",
       "      <td>452</td>\n",
       "      <td>NaN</td>\n",
       "      <td>NaN</td>\n",
       "      <td>N</td>\n",
       "      <td>NaN</td>\n",
       "      <td>- 키:  163 cm, 체중:  72  kg\\n\\n- 최대산소섭취량(VO2peak...</td>\n",
       "      <td>2013-06-07</td>\n",
       "      <td>NaN</td>\n",
       "      <td>NaN</td>\n",
       "      <td>CLINICAL HISTORY: S/P heart transplantation(20...</td>\n",
       "      <td>2017-10-26</td>\n",
       "      <td>Lt. radial artery was punctured with 6 Fr shea...</td>\n",
       "      <td>procedure was completed without complication.</td>\n",
       "      <td>No Sx  [ No Sx ]</td>\n",
       "      <td>Normal &amp; minimal dz.</td>\n",
       "      <td>Near normal coronary</td>\n",
       "      <td>2013-11-20</td>\n",
       "      <td>1</td>\n",
       "      <td>1</td>\n",
       "      <td>1</td>\n",
       "      <td>1</td>\n",
       "      <td>0.000000</td>\n",
       "    </tr>\n",
       "  </tbody>\n",
       "</table>\n",
       "</div>"
      ],
      "text/plain": [
       "   일련번호 Unnamed: 1  Serial No.   Unit No.   ... LVEDDi감소  LVRR  LVEF2>45%      LGE%\n",
       "0     1        NaN            5    1104447  ...        0     0          0  6.828914\n",
       "1     2        NaN            8    7480655  ...        1     1          1  0.000000\n",
       "2     3        NaN           12    7494553  ...        1     1          0  0.706187\n",
       "3     6        NaN           26    7425998  ...        0     0          0  0.000000\n",
       "4     8        NaN           41    7549298  ...        1     1          1  0.000000\n",
       "\n",
       "[5 rows x 61 columns]"
      ]
     },
     "execution_count": 16,
     "metadata": {
      "tags": []
     },
     "output_type": "execute_result"
    }
   ],
   "source": [
    "data.head()"
   ]
  },
  {
   "cell_type": "code",
   "execution_count": null,
   "metadata": {
    "id": "6C1pvhrolZCz"
   },
   "outputs": [],
   "source": []
  },
  {
   "cell_type": "code",
   "execution_count": null,
   "metadata": {
    "id": "Us5gs024lZFq"
   },
   "outputs": [],
   "source": []
  },
  {
   "cell_type": "code",
   "execution_count": null,
   "metadata": {
    "id": "sAXWDvMzlZIi"
   },
   "outputs": [],
   "source": []
  },
  {
   "cell_type": "code",
   "execution_count": null,
   "metadata": {
    "id": "KlFvUwm5lZK4"
   },
   "outputs": [],
   "source": []
  },
  {
   "cell_type": "code",
   "execution_count": null,
   "metadata": {
    "id": "cFgHjAxYlZNf"
   },
   "outputs": [],
   "source": []
  }
 ],
 "metadata": {
  "colab": {
   "name": "Statistics.ipynb",
   "provenance": []
  },
  "kernelspec": {
   "display_name": "Python 3",
   "language": "python",
   "name": "python3"
  },
  "language_info": {
   "codemirror_mode": {
    "name": "ipython",
    "version": 3
   },
   "file_extension": ".py",
   "mimetype": "text/x-python",
   "name": "python",
   "nbconvert_exporter": "python",
   "pygments_lexer": "ipython3",
   "version": "3.7.6"
  }
 },
 "nbformat": 4,
 "nbformat_minor": 4
}
