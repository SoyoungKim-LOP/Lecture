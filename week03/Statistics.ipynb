{
  "nbformat": 4,
  "nbformat_minor": 0,
  "metadata": {
    "colab": {
      "name": "Statistics.ipynb의 사본의 사본",
      "provenance": [],
      "collapsed_sections": [],
      "machine_shape": "hm"
    },
    "kernelspec": {
      "display_name": "Python 3",
      "language": "python",
      "name": "python3"
    },
    "language_info": {
      "codemirror_mode": {
        "name": "ipython",
        "version": 3
      },
      "file_extension": ".py",
      "mimetype": "text/x-python",
      "name": "python",
      "nbconvert_exporter": "python",
      "pygments_lexer": "ipython3",
      "version": "3.7.6"
    },
    "accelerator": "GPU"
  },
  "cells": [
    {
      "cell_type": "markdown",
      "metadata": {
        "id": "jO_Fo6h3kB36"
      },
      "source": [
        "# 파이썬으로 배우는 통계학\n",
        "### 아래 내용 정리는 다음 웹사이트를 참고하였습니다.\n",
        "참고사이트:  https://partrita.github.io/posts/thinkstat2/"
      ]
    },
    {
      "cell_type": "markdown",
      "metadata": {
        "id": "UZ8pJDfCkScB"
      },
      "source": [
        "0. 통계적사고\n",
        "1. 탐색적 자료 분석: 일화적증거(anecdotal evidence)의 한계 \n",
        "2. 분포 확인\n",
        "3. 확률 질량 함수\n",
        "4. 누적 분포 함수\n",
        "5. 분포 모델\n",
        "6. 확률밀도함수\n",
        "7. 변수간 관계\n",
        "8. 추정\n",
        "9. 가설검정\n",
        "10. 선형최소제곱(Linear Least Squares)\n",
        "11. 회귀\n",
        "12. 시계열분석\n",
        "13. 생존분석\n",
        "14. 해석적 방법(Analytic method)\n",
        "15. 요약\n"
      ]
    },
    {
      "cell_type": "code",
      "metadata": {
        "id": "Whn6EvG8kI8D"
      },
      "source": [
        "import warnings\n",
        "warnings.filterwarnings(\"ignore\")   # 경고문 끄기"
      ],
      "execution_count": 2,
      "outputs": []
    },
    {
      "cell_type": "markdown",
      "metadata": {
        "id": "a0yhAsmg6XTj"
      },
      "source": [
        "### !필요한 모듈 import"
      ]
    },
    {
      "cell_type": "code",
      "metadata": {
        "id": "KqD1Ea6_lYv9"
      },
      "source": [
        "import pandas as pd\n",
        "import io\n",
        "import matplotlib.pyplot as plt\n",
        "import seaborn as sns"
      ],
      "execution_count": 3,
      "outputs": []
    },
    {
      "cell_type": "markdown",
      "metadata": {
        "id": "_ahZBJ_d6isM"
      },
      "source": [
        "### !코랩에 파일 업로드하기"
      ]
    },
    {
      "cell_type": "code",
      "metadata": {
        "id": "QZKAUsTxlYy7",
        "outputId": "452d1426-216f-4125-9349-6f4daba14668",
        "colab": {
          "resources": {
            "http://localhost:8080/nbextensions/google.colab/files.js": {
              "data": "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",
              "ok": true,
              "headers": [
                [
                  "content-type",
                  "application/javascript"
                ]
              ],
              "status": 200,
              "status_text": ""
            }
          },
          "base_uri": "https://localhost:8080/",
          "height": 76
        }
      },
      "source": [
        "from google.colab import files\n",
        "myfile = files.upload()"
      ],
      "execution_count": 14,
      "outputs": [
        {
          "output_type": "display_data",
          "data": {
            "text/html": [
              "\n",
              "     <input type=\"file\" id=\"files-4fe35c9c-c80f-4ae0-a508-37a71809e34a\" name=\"files[]\" multiple disabled\n",
              "        style=\"border:none\" />\n",
              "     <output id=\"result-4fe35c9c-c80f-4ae0-a508-37a71809e34a\">\n",
              "      Upload widget is only available when the cell has been executed in the\n",
              "      current browser session. Please rerun this cell to enable.\n",
              "      </output>\n",
              "      <script src=\"/nbextensions/google.colab/files.js\"></script> "
            ],
            "text/plain": [
              "<IPython.core.display.HTML object>"
            ]
          },
          "metadata": {
            "tags": []
          }
        },
        {
          "output_type": "stream",
          "text": [
            "Saving DCM_training.csv to DCM_training (3).csv\n"
          ],
          "name": "stdout"
        }
      ]
    },
    {
      "cell_type": "markdown",
      "metadata": {
        "id": "hqTnsVHlKO7b"
      },
      "source": [
        "### [ 1. cvs파일에서 데이터 읽어오기 ]"
      ]
    },
    {
      "cell_type": "code",
      "metadata": {
        "id": "y-wUW0xYlY1h"
      },
      "source": [
        "# data = pd.read_excel(io.BytesIO(myfile['DCM_toydata.xlsx']))\n",
        "train = pd.read_csv(io.BytesIO(myfile['DCM_training.csv'])) "
      ],
      "execution_count": 15,
      "outputs": []
    },
    {
      "cell_type": "code",
      "metadata": {
        "id": "eTOYkfEJfUJY",
        "outputId": "015de463-7c3f-456c-e9e2-914c4f3555b9",
        "colab": {
          "resources": {
            "http://localhost:8080/nbextensions/google.colab/files.js": {
              "data": "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",
              "ok": true,
              "headers": [
                [
                  "content-type",
                  "application/javascript"
                ]
              ],
              "status": 200,
              "status_text": ""
            }
          },
          "base_uri": "https://localhost:8080/",
          "height": 76
        }
      },
      "source": [
        "from google.colab import files\n",
        "myfile = files.upload()"
      ],
      "execution_count": 9,
      "outputs": [
        {
          "output_type": "display_data",
          "data": {
            "text/html": [
              "\n",
              "     <input type=\"file\" id=\"files-0858c641-9b87-4b0b-bf5f-86ec8399aa95\" name=\"files[]\" multiple disabled\n",
              "        style=\"border:none\" />\n",
              "     <output id=\"result-0858c641-9b87-4b0b-bf5f-86ec8399aa95\">\n",
              "      Upload widget is only available when the cell has been executed in the\n",
              "      current browser session. Please rerun this cell to enable.\n",
              "      </output>\n",
              "      <script src=\"/nbextensions/google.colab/files.js\"></script> "
            ],
            "text/plain": [
              "<IPython.core.display.HTML object>"
            ]
          },
          "metadata": {
            "tags": []
          }
        },
        {
          "output_type": "stream",
          "text": [
            "Saving DCM_test.csv to DCM_test.csv\n"
          ],
          "name": "stdout"
        }
      ]
    },
    {
      "cell_type": "code",
      "metadata": {
        "id": "0SypOh8zfUSL"
      },
      "source": [
        "test = pd.read_csv(io.BytesIO(myfile['DCM_test.csv']))"
      ],
      "execution_count": 10,
      "outputs": []
    },
    {
      "cell_type": "code",
      "metadata": {
        "id": "8zdkKNaeAu6j",
        "outputId": "703ce145-54ff-4fe6-fe48-ba56d1d572f5",
        "colab": {
          "base_uri": "https://localhost:8080/",
          "height": 90
        }
      },
      "source": [
        "print(\"train-data 컬럼수 = \", len(train.columns))\n",
        "print(\"train-data 열 수 = \", len(train.index))\n",
        "print(\"test-data 컬럼수 = \", len(test.columns))\n",
        "print(\"test-data 열 수 = \", len(test.index))"
      ],
      "execution_count": 16,
      "outputs": [
        {
          "output_type": "stream",
          "text": [
            "train-data 컬럼수 =  61\n",
            "train-data 열 수 =  149\n",
            "test-data 컬럼수 =  61\n",
            "test-data 열 수 =  51\n"
          ],
          "name": "stdout"
        }
      ]
    },
    {
      "cell_type": "markdown",
      "metadata": {
        "id": "IoKNxDbgKfX9"
      },
      "source": [
        "### [ 2. 컬럼명 읽어오기 ]\n",
        "    - (1) data_top = data.head()  \n",
        "    - (2) data.columns\n",
        "    - (3) for col in data.columns: print(col)  \n",
        "    - (4) list(data.columns)"
      ]
    },
    {
      "cell_type": "code",
      "metadata": {
        "id": "boRa3xhblY4U",
        "outputId": "168538dd-ba64-4897-98da-5f4441ce5cf1",
        "colab": {
          "base_uri": "https://localhost:8080/",
          "height": 365
        }
      },
      "source": [
        "#%% (1) data.columns 사용하기\n",
        "train.columns"
      ],
      "execution_count": 17,
      "outputs": [
        {
          "output_type": "execute_result",
          "data": {
            "text/plain": [
              "Index(['일련번호', 'Unnamed: 1', 'Serial No. ', 'Unit No. ', 'Sex', 'Age',\n",
              "       'exclusion', 'MRI date', 'Height', 'weight', 'BSA(m2)', 'BMI \\n(kg/m2)',\n",
              "       'systolic BP\\n(mmHg)', 'diastolic BP\\n(mmHg)',\n",
              "       'Heart rate\\n(beats/min)', 'Creatinine', 'eGFR \\n(ml/min/1.73m2)',\n",
              "       'Creatinine_시행일자', 'Sodium', 'Sodium_시행일자', 'NT-proBNP(pg/mL)_결과값',\n",
              "       'NT-proBNP_시행일자', 'Hematocrit\\n (%)', 'Hematocrit_시행일자',\n",
              "       'NYHA \\nfunctional class (I~IV)', 'NYHA_binary', '기록 작성일자',\n",
              "       'Diabetes (확진)', '진단일자', 'smoking\\n(current or previous)',\n",
              "       'Family history of cardiomyopathy or sudden cardiac death',\n",
              "       'History of atrial fibrillation', '진단일자.1',\n",
              "       'Initial echocardiography date', 'LVEF1', 'LVEDD1',\n",
              "       'F/U echocardiography date', 'LVEF2', 'LVEDD2', 'Echo_interval',\n",
              "       'Death', 'Cause of death ', 'MI Hx', 'MI _date', 'stress ECG',\n",
              "       'stess_date', 'SPECT', 'SPECT\\n_date', 'Heart_CT', 'HeartCT\\n_date',\n",
              "       'CAG\\n(coronary angiography)', 'CAG\\n(Comment)',\n",
              "       'CAG\\n(a. Clinical diagnosis)', 'CAG\\n(b. Anatomical diagnosis)',\n",
              "       'CAG\\n(Conclusions)', 'CAG_date', 'LVEF호전', 'LVEDDi감소', 'LVRR',\n",
              "       'LVEF2>45%', 'LGE%'],\n",
              "      dtype='object')"
            ]
          },
          "metadata": {
            "tags": []
          },
          "execution_count": 17
        }
      ]
    },
    {
      "cell_type": "code",
      "metadata": {
        "id": "QdpaSA1BucoM",
        "outputId": "5732ed41-be34-4e49-eb90-dbebcd0349ef",
        "colab": {
          "base_uri": "https://localhost:8080/",
          "height": 54
        }
      },
      "source": [
        "print(\"열 개수 :\", len(train.columns))   # 열 수\n",
        "print(\"행 개수 :\", len(train.index))     # 행 수"
      ],
      "execution_count": 19,
      "outputs": [
        {
          "output_type": "stream",
          "text": [
            "열 개수 : 61\n",
            "행 개수 : 149\n"
          ],
          "name": "stdout"
        }
      ]
    },
    {
      "cell_type": "code",
      "metadata": {
        "id": "Cnpr51AI1KwM",
        "outputId": "0d0e22da-e119-4839-a2d1-09ad314cb82b",
        "colab": {
          "base_uri": "https://localhost:8080/",
          "height": 271
        }
      },
      "source": [
        "#%% (2) data.head() 사용하기\n",
        "train_top = train.head(1)\n",
        "train_top"
      ],
      "execution_count": 20,
      "outputs": [
        {
          "output_type": "execute_result",
          "data": {
            "text/html": [
              "<div>\n",
              "<style scoped>\n",
              "    .dataframe tbody tr th:only-of-type {\n",
              "        vertical-align: middle;\n",
              "    }\n",
              "\n",
              "    .dataframe tbody tr th {\n",
              "        vertical-align: top;\n",
              "    }\n",
              "\n",
              "    .dataframe thead th {\n",
              "        text-align: right;\n",
              "    }\n",
              "</style>\n",
              "<table border=\"1\" class=\"dataframe\">\n",
              "  <thead>\n",
              "    <tr style=\"text-align: right;\">\n",
              "      <th></th>\n",
              "      <th>일련번호</th>\n",
              "      <th>Unnamed: 1</th>\n",
              "      <th>Serial No.</th>\n",
              "      <th>Unit No.</th>\n",
              "      <th>Sex</th>\n",
              "      <th>Age</th>\n",
              "      <th>exclusion</th>\n",
              "      <th>MRI date</th>\n",
              "      <th>Height</th>\n",
              "      <th>weight</th>\n",
              "      <th>BSA(m2)</th>\n",
              "      <th>BMI \\n(kg/m2)</th>\n",
              "      <th>systolic BP\\n(mmHg)</th>\n",
              "      <th>diastolic BP\\n(mmHg)</th>\n",
              "      <th>Heart rate\\n(beats/min)</th>\n",
              "      <th>Creatinine</th>\n",
              "      <th>eGFR \\n(ml/min/1.73m2)</th>\n",
              "      <th>Creatinine_시행일자</th>\n",
              "      <th>Sodium</th>\n",
              "      <th>Sodium_시행일자</th>\n",
              "      <th>NT-proBNP(pg/mL)_결과값</th>\n",
              "      <th>NT-proBNP_시행일자</th>\n",
              "      <th>Hematocrit\\n (%)</th>\n",
              "      <th>Hematocrit_시행일자</th>\n",
              "      <th>NYHA \\nfunctional class (I~IV)</th>\n",
              "      <th>NYHA_binary</th>\n",
              "      <th>기록 작성일자</th>\n",
              "      <th>Diabetes (확진)</th>\n",
              "      <th>진단일자</th>\n",
              "      <th>smoking\\n(current or previous)</th>\n",
              "      <th>Family history of cardiomyopathy or sudden cardiac death</th>\n",
              "      <th>History of atrial fibrillation</th>\n",
              "      <th>진단일자.1</th>\n",
              "      <th>Initial echocardiography date</th>\n",
              "      <th>LVEF1</th>\n",
              "      <th>LVEDD1</th>\n",
              "      <th>F/U echocardiography date</th>\n",
              "      <th>LVEF2</th>\n",
              "      <th>LVEDD2</th>\n",
              "      <th>Echo_interval</th>\n",
              "      <th>Death</th>\n",
              "      <th>Cause of death</th>\n",
              "      <th>MI Hx</th>\n",
              "      <th>MI _date</th>\n",
              "      <th>stress ECG</th>\n",
              "      <th>stess_date</th>\n",
              "      <th>SPECT</th>\n",
              "      <th>SPECT\\n_date</th>\n",
              "      <th>Heart_CT</th>\n",
              "      <th>HeartCT\\n_date</th>\n",
              "      <th>CAG\\n(coronary angiography)</th>\n",
              "      <th>CAG\\n(Comment)</th>\n",
              "      <th>CAG\\n(a. Clinical diagnosis)</th>\n",
              "      <th>CAG\\n(b. Anatomical diagnosis)</th>\n",
              "      <th>CAG\\n(Conclusions)</th>\n",
              "      <th>CAG_date</th>\n",
              "      <th>LVEF호전</th>\n",
              "      <th>LVEDDi감소</th>\n",
              "      <th>LVRR</th>\n",
              "      <th>LVEF2&gt;45%</th>\n",
              "      <th>LGE%</th>\n",
              "    </tr>\n",
              "  </thead>\n",
              "  <tbody>\n",
              "    <tr>\n",
              "      <th>0</th>\n",
              "      <td>1</td>\n",
              "      <td>NaN</td>\n",
              "      <td>5</td>\n",
              "      <td>1104447</td>\n",
              "      <td>M</td>\n",
              "      <td>65</td>\n",
              "      <td>0</td>\n",
              "      <td>2012-04-05</td>\n",
              "      <td>161.0</td>\n",
              "      <td>57.0</td>\n",
              "      <td>1.597</td>\n",
              "      <td>21.99</td>\n",
              "      <td>120.0</td>\n",
              "      <td>80.0</td>\n",
              "      <td>78.0</td>\n",
              "      <td>0.62</td>\n",
              "      <td>130</td>\n",
              "      <td>2012-04-04</td>\n",
              "      <td>141.0</td>\n",
              "      <td>2012-04-04</td>\n",
              "      <td>296.0</td>\n",
              "      <td>2014-02-06</td>\n",
              "      <td>39.6</td>\n",
              "      <td>2012-04-04</td>\n",
              "      <td>2.0</td>\n",
              "      <td>2.0</td>\n",
              "      <td>2012-05-07</td>\n",
              "      <td>No</td>\n",
              "      <td>NaN</td>\n",
              "      <td>Y</td>\n",
              "      <td>No</td>\n",
              "      <td>No</td>\n",
              "      <td>NaN</td>\n",
              "      <td>2012-04-06</td>\n",
              "      <td>30</td>\n",
              "      <td>61</td>\n",
              "      <td>2013-02-07</td>\n",
              "      <td>40</td>\n",
              "      <td>65.0</td>\n",
              "      <td>307</td>\n",
              "      <td>NaN</td>\n",
              "      <td>NaN</td>\n",
              "      <td>N</td>\n",
              "      <td>NaN</td>\n",
              "      <td>- 키:   160 cm, 체중:  56  kg\\n\\n- 최대산소섭취량(VO2pea...</td>\n",
              "      <td>2015-06-08</td>\n",
              "      <td>Hx: EKG abnormality   \\nHTN/DM (+/-) \\nEKG: 20...</td>\n",
              "      <td>2012-03-30</td>\n",
              "      <td>NaN</td>\n",
              "      <td>NaN</td>\n",
              "      <td>Rt. CFA c 7Fr sheath → Proglide (+)\\n\\n\\nRCA c...</td>\n",
              "      <td>NaN</td>\n",
              "      <td>NaN</td>\n",
              "      <td>NaN</td>\n",
              "      <td>Minimal CAD</td>\n",
              "      <td>2012-04-03</td>\n",
              "      <td>1</td>\n",
              "      <td>0</td>\n",
              "      <td>0</td>\n",
              "      <td>0</td>\n",
              "      <td>6.83</td>\n",
              "    </tr>\n",
              "  </tbody>\n",
              "</table>\n",
              "</div>"
            ],
            "text/plain": [
              "   일련번호 Unnamed: 1  Serial No.   Unit No.   ... LVEDDi감소  LVRR  LVEF2>45%  LGE%\n",
              "0     1        NaN            5    1104447  ...        0     0          0  6.83\n",
              "\n",
              "[1 rows x 61 columns]"
            ]
          },
          "metadata": {
            "tags": []
          },
          "execution_count": 20
        }
      ]
    },
    {
      "cell_type": "code",
      "metadata": {
        "id": "M7VeOMam2Q2q",
        "outputId": "bbefd6a2-5962-4e3b-e198-6a3b119b1268",
        "colab": {
          "base_uri": "https://localhost:8080/",
          "height": 54
        }
      },
      "source": [
        "print(\"열 개수 :\", len(train.columns))   # 열 수\n",
        "print(\"행 개수 :\", len(train.index))     # 행 수"
      ],
      "execution_count": 21,
      "outputs": [
        {
          "output_type": "stream",
          "text": [
            "열 개수 : 61\n",
            "행 개수 : 149\n"
          ],
          "name": "stdout"
        }
      ]
    },
    {
      "cell_type": "code",
      "metadata": {
        "id": "3VaUhB0Q1S3I",
        "outputId": "d5672a8d-1dcd-4068-e00c-438babc169fd",
        "colab": {
          "base_uri": "https://localhost:8080/",
          "height": 1000
        }
      },
      "source": [
        "#%% 반복문 사용하기\n",
        "for col in train.columns:\n",
        "    print(col)"
      ],
      "execution_count": 22,
      "outputs": [
        {
          "output_type": "stream",
          "text": [
            "일련번호\n",
            "Unnamed: 1\n",
            "Serial No. \n",
            "Unit No. \n",
            "Sex\n",
            "Age\n",
            "exclusion\n",
            "MRI date\n",
            "Height\n",
            "weight\n",
            "BSA(m2)\n",
            "BMI \n",
            "(kg/m2)\n",
            "systolic BP\n",
            "(mmHg)\n",
            "diastolic BP\n",
            "(mmHg)\n",
            "Heart rate\n",
            "(beats/min)\n",
            "Creatinine\n",
            "eGFR \n",
            "(ml/min/1.73m2)\n",
            "Creatinine_시행일자\n",
            "Sodium\n",
            "Sodium_시행일자\n",
            "NT-proBNP(pg/mL)_결과값\n",
            "NT-proBNP_시행일자\n",
            "Hematocrit\n",
            " (%)\n",
            "Hematocrit_시행일자\n",
            "NYHA \n",
            "functional class (I~IV)\n",
            "NYHA_binary\n",
            "기록 작성일자\n",
            "Diabetes (확진)\n",
            "진단일자\n",
            "smoking\n",
            "(current or previous)\n",
            "Family history of cardiomyopathy or sudden cardiac death\n",
            "History of atrial fibrillation\n",
            "진단일자.1\n",
            "Initial echocardiography date\n",
            "LVEF1\n",
            "LVEDD1\n",
            "F/U echocardiography date\n",
            "LVEF2\n",
            "LVEDD2\n",
            "Echo_interval\n",
            "Death\n",
            "Cause of death \n",
            "MI Hx\n",
            "MI _date\n",
            "stress ECG\n",
            "stess_date\n",
            "SPECT\n",
            "SPECT\n",
            "_date\n",
            "Heart_CT\n",
            "HeartCT\n",
            "_date\n",
            "CAG\n",
            "(coronary angiography)\n",
            "CAG\n",
            "(Comment)\n",
            "CAG\n",
            "(a. Clinical diagnosis)\n",
            "CAG\n",
            "(b. Anatomical diagnosis)\n",
            "CAG\n",
            "(Conclusions)\n",
            "CAG_date\n",
            "LVEF호전\n",
            "LVEDDi감소\n",
            "LVRR\n",
            "LVEF2>45%\n",
            "LGE%\n"
          ],
          "name": "stdout"
        }
      ]
    },
    {
      "cell_type": "code",
      "metadata": {
        "id": "hyMKuwVk2UjV",
        "outputId": "aa452323-ae59-43de-d180-51f9928c0e24",
        "colab": {
          "base_uri": "https://localhost:8080/",
          "height": 54
        }
      },
      "source": [
        "print(\"열 개수 :\", len(train.columns))   # 열 수\n",
        "print(\"행 개수 :\", len(train.index))     # 행 수"
      ],
      "execution_count": 23,
      "outputs": [
        {
          "output_type": "stream",
          "text": [
            "열 개수 : 61\n",
            "행 개수 : 149\n"
          ],
          "name": "stdout"
        }
      ]
    },
    {
      "cell_type": "code",
      "metadata": {
        "id": "coAQz-EA1rOL",
        "outputId": "79ed1549-cf2c-40d7-a5aa-39594a461447",
        "colab": {
          "base_uri": "https://localhost:8080/",
          "height": 1000
        }
      },
      "source": [
        "#%% 리스트 함수 사용하기\n",
        "list(train.columns)"
      ],
      "execution_count": 24,
      "outputs": [
        {
          "output_type": "execute_result",
          "data": {
            "text/plain": [
              "['일련번호',\n",
              " 'Unnamed: 1',\n",
              " 'Serial No. ',\n",
              " 'Unit No. ',\n",
              " 'Sex',\n",
              " 'Age',\n",
              " 'exclusion',\n",
              " 'MRI date',\n",
              " 'Height',\n",
              " 'weight',\n",
              " 'BSA(m2)',\n",
              " 'BMI \\n(kg/m2)',\n",
              " 'systolic BP\\n(mmHg)',\n",
              " 'diastolic BP\\n(mmHg)',\n",
              " 'Heart rate\\n(beats/min)',\n",
              " 'Creatinine',\n",
              " 'eGFR \\n(ml/min/1.73m2)',\n",
              " 'Creatinine_시행일자',\n",
              " 'Sodium',\n",
              " 'Sodium_시행일자',\n",
              " 'NT-proBNP(pg/mL)_결과값',\n",
              " 'NT-proBNP_시행일자',\n",
              " 'Hematocrit\\n (%)',\n",
              " 'Hematocrit_시행일자',\n",
              " 'NYHA \\nfunctional class (I~IV)',\n",
              " 'NYHA_binary',\n",
              " '기록 작성일자',\n",
              " 'Diabetes (확진)',\n",
              " '진단일자',\n",
              " 'smoking\\n(current or previous)',\n",
              " 'Family history of cardiomyopathy or sudden cardiac death',\n",
              " 'History of atrial fibrillation',\n",
              " '진단일자.1',\n",
              " 'Initial echocardiography date',\n",
              " 'LVEF1',\n",
              " 'LVEDD1',\n",
              " 'F/U echocardiography date',\n",
              " 'LVEF2',\n",
              " 'LVEDD2',\n",
              " 'Echo_interval',\n",
              " 'Death',\n",
              " 'Cause of death ',\n",
              " 'MI Hx',\n",
              " 'MI _date',\n",
              " 'stress ECG',\n",
              " 'stess_date',\n",
              " 'SPECT',\n",
              " 'SPECT\\n_date',\n",
              " 'Heart_CT',\n",
              " 'HeartCT\\n_date',\n",
              " 'CAG\\n(coronary angiography)',\n",
              " 'CAG\\n(Comment)',\n",
              " 'CAG\\n(a. Clinical diagnosis)',\n",
              " 'CAG\\n(b. Anatomical diagnosis)',\n",
              " 'CAG\\n(Conclusions)',\n",
              " 'CAG_date',\n",
              " 'LVEF호전',\n",
              " 'LVEDDi감소',\n",
              " 'LVRR',\n",
              " 'LVEF2>45%',\n",
              " 'LGE%']"
            ]
          },
          "metadata": {
            "tags": []
          },
          "execution_count": 24
        }
      ]
    },
    {
      "cell_type": "code",
      "metadata": {
        "id": "CJzMiOcm2WeY",
        "outputId": "a94f6a77-c150-4728-cb90-cdcf0d0f4a2c",
        "colab": {
          "base_uri": "https://localhost:8080/",
          "height": 54
        }
      },
      "source": [
        "print(\"열 개수 :\", len(train.columns))   # 열 수\n",
        "print(\"행 개수 :\", len(train.index))     # 행 수"
      ],
      "execution_count": 25,
      "outputs": [
        {
          "output_type": "stream",
          "text": [
            "열 개수 : 61\n",
            "행 개수 : 149\n"
          ],
          "name": "stdout"
        }
      ]
    },
    {
      "cell_type": "markdown",
      "metadata": {
        "id": "h5H_eKR78DLG"
      },
      "source": [
        "### 컬럼(Column) 명칭에 대한 설명\n",
        "  \n",
        "   - **일련번호 :** 일련번호  \n",
        "   - **Unnamed: 1 :** 비식별컬럼\n",
        "   - **Serial No. :** Serial 넘버  \n",
        "   - **Unit No. :** 환자번호(확인해볼것!)  \n",
        "   - **Sex :** 성별  \n",
        "   - **Age :** 나이  \n",
        "   - **exclusion :** 배제기준(확인해볼것!)  \n",
        "   - **MRI date :** MRI 영상 촬영 날짜  \n",
        "   - **Height :** 키  \n",
        "   - **weight :** 몸무게  \n",
        "   - **BSA(m2) :** 체표면적(Body surface area: BSA), 관동맥 직경의 결정인자  \n",
        "   - **BMI(kg/m2) :** 체질량지수(Body Mass Index), 관동맥 직경의 결정인자  \n",
        "   - **systolic BP(mmHg) :** 수축기혈압(심장이 수축한 상태의 혈압으로 최고혈압: 정상범위 100~139 mmHg)  \n",
        "   - **diastolic BP(mmHg) :** 확장기혈압(심장이 확장했을 떄의 혈압으로, 최저혈압: 정상범위 WHO기준 89mmHg 이하)  \n",
        "   - **Heart rate(beats/min) :** 심박수(심장의 박동수 또는 맥박수: 신생아경우 130회/min, 아동의 경우: 80 ~ 90/min, 20세 이상 70 ~ 75/min, 신체가 작을 수록 많음거나 체온 상승시 8회/1도 증가)  \n",
        "   - **Creatinine :** 크레아티닌(혈청), 이것이 증가하는 질환: 요독증, 만성신염, 요로폐색(크레아틴은 근육수축의 에너지원인 크레아틴인산(에너지의 저장고)의 구성성분, 생체내 이용되어 그 탈수물인 크레아티닌은 신장을 통해 요중에 배설되며 생리적으로 아주 다른 작용을 함) \n",
        "   - **eGFR(ml/min/1.73m2) :** 상피세포 성장인자 수용체(Epidermal Growth Factor Receptor)\n",
        "   - **Creatinine_시행일자 :**\n",
        "   - **Sodium :**\n",
        "   - **Sodium_시행일자 :**\n",
        "   - **NT-proBNP(pg/mL)_결과값 :**\n",
        "   - **NT-proBNP_시행일자 :**\n",
        "   - **Hematocrit(%) :**\n",
        "   - **Hematocrit_시행일자 :**\n",
        "   - **NYHA :**\n",
        "   - **functional class (I~IV) :**\n",
        "   - **NYHA_binary 기록 작성일자 :**\n",
        "   - **Diabetes (확진) :**\n",
        "   - **진단일자 :** \n",
        "   - **smoking(current or previous) :**\n",
        "   - **Family history of cardiomyopathy or sudden cardiac death :**\n",
        "   - **History of atrial fibrillation :** \n",
        "   - **진단일자 :**  \n",
        "   - **Initial echocardiography date :**\n",
        "   - **LVEF1 :**\n",
        "   - **LVEDD1 :**\n",
        "   - **F/U echocardiography date :**\n",
        "   - **LVEF2 :**\n",
        "   - **LVEDD2 :**\n",
        "   - **Echo_interval :**\n",
        "   - **Death :**\n",
        "   - **Cause of death :**\n",
        "   - **MI Hx :** \n",
        "   - **MI _date :**\n",
        "   - **stress ECG :**\n",
        "   - **stess_date :**\n",
        "   - **SPECT :**\n",
        "   - **SPECT_date :**\n",
        "   - **Heart_CT :**\n",
        "   - **HeartCT_date :**\n",
        "   - **CAG(coronary angiography) :**\n",
        "   - **CAG(Comment) :**\n",
        "   - **CAG(a. Clinical diagnosis) :**\n",
        "   - **CAG(b. Anatomical diagnosis) :**\n",
        "   - **CAG(Conclusions) :**\n",
        "   - **CAG_date :**\n",
        "   - **LVEF호전 :**\n",
        "   - **LVEDDi감소 :**\n",
        "   - **LVRR :**\n",
        "   - **LVEF2>45% :**\n",
        "   - **LGE% :**"
      ]
    },
    {
      "cell_type": "markdown",
      "metadata": {
        "id": "cPi1Ugja2Y8O"
      },
      "source": [
        "### [ 3. 컬럼명을 보기좋게 정리하기 ] (검색에 편리를 위함)"
      ]
    },
    {
      "cell_type": "code",
      "metadata": {
        "id": "oc5cZVLwlY6-"
      },
      "source": [
        "# 컬럼명 정리하기 \n",
        "columns = ['일련번호', 'Unnamed:1', 'SerialNo', 'UnitNo', 'Sex', 'Age', 'Exclusion', 'MRI-date', 'Height', 'Weight', 'BSA', 'BMI',\n",
        "       'Systolic-BP', 'Diastolic-BP', 'Heart_rate[bt/min]', 'Creatinine', 'eGFR[ml/min/1.73m2]', 'Creatinine시행일', 'Sodium', \n",
        "       'Sodium시행일', 'NT-proBNP[pg/mL]결과값', 'NT-proBNP시행일', 'Hematocrit(%)', 'Hematocrit시행일', 'NYHA_class(I-IV)', \n",
        "       'NYHA_binary', '기록작성일자', 'Diabetes(확진)', '진단일자', 'smoking(current/previous)', 'Cardiomyopathy/SuddenCardiacDeath(가족력유무)',\n",
        "       'History of atrial fibrillation', '진단일자', 'Initial_Echocardiography_date', 'LVEF1', 'LVEDD1', 'F/U_Echocardiography_date', \n",
        "       'LVEF2', 'LVEDD2', 'Echo_interval', 'Death', 'Cause_of_death', 'MI_Hx', 'MI_date', 'Stress_ECG', 'stess_date', 'SPECT', 'SPECT_date', \n",
        "       'Heart_CT', 'HeartCT_date', 'CAG(Coronary_angiography)', 'CAG(Comment)', 'CAG(a:Clinical_diagnosis)', 'CAG(b:Anatomical_diagnosis)',\n",
        "       'CAG(Conclusions)', 'CAG_date', 'LVEF호전', 'LVEDDi감소', 'LVRR', 'LVEF2>45%', 'LGE%']\n",
        "# print(columns)"
      ],
      "execution_count": 26,
      "outputs": []
    },
    {
      "cell_type": "code",
      "metadata": {
        "id": "rbwP-m0P3NjT",
        "outputId": "b5259d2d-f363-4660-9f84-7cbf081acfd5",
        "colab": {
          "base_uri": "https://localhost:8080/",
          "height": 329
        }
      },
      "source": [
        "train.columns = columns   # data에 보기좋게 정리한 columns명을 대입한다.\n",
        "print(train.columns)"
      ],
      "execution_count": 27,
      "outputs": [
        {
          "output_type": "stream",
          "text": [
            "Index(['일련번호', 'Unnamed:1', 'SerialNo', 'UnitNo', 'Sex', 'Age', 'Exclusion',\n",
            "       'MRI-date', 'Height', 'Weight', 'BSA', 'BMI', 'Systolic-BP',\n",
            "       'Diastolic-BP', 'Heart_rate[bt/min]', 'Creatinine',\n",
            "       'eGFR[ml/min/1.73m2]', 'Creatinine시행일', 'Sodium', 'Sodium시행일',\n",
            "       'NT-proBNP[pg/mL]결과값', 'NT-proBNP시행일', 'Hematocrit(%)', 'Hematocrit시행일',\n",
            "       'NYHA_class(I-IV)', 'NYHA_binary', '기록작성일자', 'Diabetes(확진)', '진단일자',\n",
            "       'smoking(current/previous)', 'Cardiomyopathy/SuddenCardiacDeath(가족력유무)',\n",
            "       'History of atrial fibrillation', '진단일자',\n",
            "       'Initial_Echocardiography_date', 'LVEF1', 'LVEDD1',\n",
            "       'F/U_Echocardiography_date', 'LVEF2', 'LVEDD2', 'Echo_interval',\n",
            "       'Death', 'Cause_of_death', 'MI_Hx', 'MI_date', 'Stress_ECG',\n",
            "       'stess_date', 'SPECT', 'SPECT_date', 'Heart_CT', 'HeartCT_date',\n",
            "       'CAG(Coronary_angiography)', 'CAG(Comment)',\n",
            "       'CAG(a:Clinical_diagnosis)', 'CAG(b:Anatomical_diagnosis)',\n",
            "       'CAG(Conclusions)', 'CAG_date', 'LVEF호전', 'LVEDDi감소', 'LVRR',\n",
            "       'LVEF2>45%', 'LGE%'],\n",
            "      dtype='object')\n"
          ],
          "name": "stdout"
        }
      ]
    },
    {
      "cell_type": "markdown",
      "metadata": {
        "id": "IUHMYqRB2l6l"
      },
      "source": [
        "### [ 4. 분석에 필요한 변수값 추출하기 ]\n",
        "    - 분석 타겟: Systolic-BP에 영향을 미치는 주요인 분석"
      ]
    },
    {
      "cell_type": "code",
      "metadata": {
        "id": "qIbQ6J2F1R7E",
        "outputId": "64e653ad-7e38-4219-eb3c-7a26ed65e31e",
        "colab": {
          "base_uri": "https://localhost:8080/",
          "height": 109
        }
      },
      "source": [
        "train_main = train[['Sex', 'Age', 'Height', 'Weight', 'BMI', 'Systolic-BP', 'Diastolic-BP', 'Heart_rate[bt/min]']]\n",
        "train_main.head(2)"
      ],
      "execution_count": 28,
      "outputs": [
        {
          "output_type": "execute_result",
          "data": {
            "text/html": [
              "<div>\n",
              "<style scoped>\n",
              "    .dataframe tbody tr th:only-of-type {\n",
              "        vertical-align: middle;\n",
              "    }\n",
              "\n",
              "    .dataframe tbody tr th {\n",
              "        vertical-align: top;\n",
              "    }\n",
              "\n",
              "    .dataframe thead th {\n",
              "        text-align: right;\n",
              "    }\n",
              "</style>\n",
              "<table border=\"1\" class=\"dataframe\">\n",
              "  <thead>\n",
              "    <tr style=\"text-align: right;\">\n",
              "      <th></th>\n",
              "      <th>Sex</th>\n",
              "      <th>Age</th>\n",
              "      <th>Height</th>\n",
              "      <th>Weight</th>\n",
              "      <th>BMI</th>\n",
              "      <th>Systolic-BP</th>\n",
              "      <th>Diastolic-BP</th>\n",
              "      <th>Heart_rate[bt/min]</th>\n",
              "    </tr>\n",
              "  </thead>\n",
              "  <tbody>\n",
              "    <tr>\n",
              "      <th>0</th>\n",
              "      <td>M</td>\n",
              "      <td>65</td>\n",
              "      <td>161.0</td>\n",
              "      <td>57.0</td>\n",
              "      <td>21.99</td>\n",
              "      <td>120.0</td>\n",
              "      <td>80.0</td>\n",
              "      <td>78.0</td>\n",
              "    </tr>\n",
              "    <tr>\n",
              "      <th>1</th>\n",
              "      <td>M</td>\n",
              "      <td>49</td>\n",
              "      <td>167.0</td>\n",
              "      <td>64.0</td>\n",
              "      <td>22.95</td>\n",
              "      <td>NaN</td>\n",
              "      <td>NaN</td>\n",
              "      <td>NaN</td>\n",
              "    </tr>\n",
              "  </tbody>\n",
              "</table>\n",
              "</div>"
            ],
            "text/plain": [
              "  Sex  Age  Height  ...  Systolic-BP  Diastolic-BP  Heart_rate[bt/min]\n",
              "0   M   65   161.0  ...        120.0          80.0                78.0\n",
              "1   M   49   167.0  ...          NaN           NaN                 NaN\n",
              "\n",
              "[2 rows x 8 columns]"
            ]
          },
          "metadata": {
            "tags": []
          },
          "execution_count": 28
        }
      ]
    },
    {
      "cell_type": "code",
      "metadata": {
        "id": "3fA8hnE5-lLY",
        "outputId": "72997c64-d3b8-4695-c791-729c5c4102c2",
        "colab": {
          "base_uri": "https://localhost:8080/",
          "height": 237
        }
      },
      "source": [
        "pd.set_option('display.max_colwidth', -1)\n",
        "train['Cardiomyopathy/SuddenCardiacDeath(가족력유무)']"
      ],
      "execution_count": 29,
      "outputs": [
        {
          "output_type": "execute_result",
          "data": {
            "text/plain": [
              "0      No\n",
              "1      No\n",
              "2      No\n",
              "3      No\n",
              "4      No\n",
              "       ..\n",
              "144    No\n",
              "145    No\n",
              "146    No\n",
              "147    No\n",
              "148    No\n",
              "Name: Cardiomyopathy/SuddenCardiacDeath(가족력유무), Length: 149, dtype: object"
            ]
          },
          "metadata": {
            "tags": []
          },
          "execution_count": 29
        }
      ]
    },
    {
      "cell_type": "markdown",
      "metadata": {
        "id": "y5KTvHkgmwiF"
      },
      "source": [
        "### EDA "
      ]
    },
    {
      "cell_type": "code",
      "metadata": {
        "id": "I8GG-XL5lY92",
        "outputId": "6c4e7841-d106-4dc2-8bbe-e188340e9dc2",
        "colab": {
          "base_uri": "https://localhost:8080/",
          "height": 262
        }
      },
      "source": [
        "train_main.corr(method = 'pearson')"
      ],
      "execution_count": 30,
      "outputs": [
        {
          "output_type": "execute_result",
          "data": {
            "text/html": [
              "<div>\n",
              "<style scoped>\n",
              "    .dataframe tbody tr th:only-of-type {\n",
              "        vertical-align: middle;\n",
              "    }\n",
              "\n",
              "    .dataframe tbody tr th {\n",
              "        vertical-align: top;\n",
              "    }\n",
              "\n",
              "    .dataframe thead th {\n",
              "        text-align: right;\n",
              "    }\n",
              "</style>\n",
              "<table border=\"1\" class=\"dataframe\">\n",
              "  <thead>\n",
              "    <tr style=\"text-align: right;\">\n",
              "      <th></th>\n",
              "      <th>Age</th>\n",
              "      <th>Height</th>\n",
              "      <th>Weight</th>\n",
              "      <th>BMI</th>\n",
              "      <th>Systolic-BP</th>\n",
              "      <th>Diastolic-BP</th>\n",
              "      <th>Heart_rate[bt/min]</th>\n",
              "    </tr>\n",
              "  </thead>\n",
              "  <tbody>\n",
              "    <tr>\n",
              "      <th>Age</th>\n",
              "      <td>1.000000</td>\n",
              "      <td>-0.358651</td>\n",
              "      <td>-0.422165</td>\n",
              "      <td>-0.316356</td>\n",
              "      <td>0.091151</td>\n",
              "      <td>-0.101671</td>\n",
              "      <td>-0.278417</td>\n",
              "    </tr>\n",
              "    <tr>\n",
              "      <th>Height</th>\n",
              "      <td>-0.358651</td>\n",
              "      <td>1.000000</td>\n",
              "      <td>0.633120</td>\n",
              "      <td>0.224377</td>\n",
              "      <td>0.148798</td>\n",
              "      <td>0.213995</td>\n",
              "      <td>-0.041844</td>\n",
              "    </tr>\n",
              "    <tr>\n",
              "      <th>Weight</th>\n",
              "      <td>-0.422165</td>\n",
              "      <td>0.633120</td>\n",
              "      <td>1.000000</td>\n",
              "      <td>0.890843</td>\n",
              "      <td>0.319270</td>\n",
              "      <td>0.290218</td>\n",
              "      <td>0.081378</td>\n",
              "    </tr>\n",
              "    <tr>\n",
              "      <th>BMI</th>\n",
              "      <td>-0.316356</td>\n",
              "      <td>0.224377</td>\n",
              "      <td>0.890843</td>\n",
              "      <td>1.000000</td>\n",
              "      <td>0.318840</td>\n",
              "      <td>0.236004</td>\n",
              "      <td>0.138567</td>\n",
              "    </tr>\n",
              "    <tr>\n",
              "      <th>Systolic-BP</th>\n",
              "      <td>0.091151</td>\n",
              "      <td>0.148798</td>\n",
              "      <td>0.319270</td>\n",
              "      <td>0.318840</td>\n",
              "      <td>1.000000</td>\n",
              "      <td>0.560170</td>\n",
              "      <td>0.026957</td>\n",
              "    </tr>\n",
              "    <tr>\n",
              "      <th>Diastolic-BP</th>\n",
              "      <td>-0.101671</td>\n",
              "      <td>0.213995</td>\n",
              "      <td>0.290218</td>\n",
              "      <td>0.236004</td>\n",
              "      <td>0.560170</td>\n",
              "      <td>1.000000</td>\n",
              "      <td>0.182021</td>\n",
              "    </tr>\n",
              "    <tr>\n",
              "      <th>Heart_rate[bt/min]</th>\n",
              "      <td>-0.278417</td>\n",
              "      <td>-0.041844</td>\n",
              "      <td>0.081378</td>\n",
              "      <td>0.138567</td>\n",
              "      <td>0.026957</td>\n",
              "      <td>0.182021</td>\n",
              "      <td>1.000000</td>\n",
              "    </tr>\n",
              "  </tbody>\n",
              "</table>\n",
              "</div>"
            ],
            "text/plain": [
              "                         Age    Height  ...  Diastolic-BP  Heart_rate[bt/min]\n",
              "Age                 1.000000 -0.358651  ... -0.101671     -0.278417          \n",
              "Height             -0.358651  1.000000  ...  0.213995     -0.041844          \n",
              "Weight             -0.422165  0.633120  ...  0.290218      0.081378          \n",
              "BMI                -0.316356  0.224377  ...  0.236004      0.138567          \n",
              "Systolic-BP         0.091151  0.148798  ...  0.560170      0.026957          \n",
              "Diastolic-BP       -0.101671  0.213995  ...  1.000000      0.182021          \n",
              "Heart_rate[bt/min] -0.278417 -0.041844  ...  0.182021      1.000000          \n",
              "\n",
              "[7 rows x 7 columns]"
            ]
          },
          "metadata": {
            "tags": []
          },
          "execution_count": 30
        }
      ]
    },
    {
      "cell_type": "markdown",
      "metadata": {
        "id": "y4qb0xsZ8AeI"
      },
      "source": [
        "### 피어슨의 상관계수는 일반적으로,\n",
        "\n",
        "  값이 -1.0 ~ -0.7 이면, 강한 음적 상관관계\n",
        "\n",
        "  값이 -0.7 ~ -0.3 이면, 뚜렷한 음적 상관관계\n",
        "\n",
        "  값이 -0.3 ~ -0.1 이면, 약한 음적 상관관계\n",
        "\n",
        "  값이 -0.1 ~ +0.1 이면, 없다고 할 수 있는 상관관계\n",
        "\n",
        "  값이 +0.1 ~ +0.3 이면, 약한 양적 상관관계\n",
        "\n",
        "  값이 +0.3 ~ +0.7 이면, 뚜렷한 양적 상관관계\n",
        "\n",
        "  값이 +0.7 ~ +1.0 이면, 강한 양적 상관관계  \n",
        "출처: https://sno-machinelearning.tistory.com/68 [스노의 머신러닝 스터디 정리]"
      ]
    },
    {
      "cell_type": "code",
      "metadata": {
        "id": "c_RcyonU7icl",
        "outputId": "1050c274-bdd7-4f12-ad3a-96f641099b95",
        "colab": {
          "base_uri": "https://localhost:8080/",
          "height": 303
        }
      },
      "source": [
        "from pandas.plotting import scatter_matrix\n",
        "\n",
        "scatter_matrix(train_main)\n",
        "plt.figure(figsize=(15,15))\n",
        "plt.show()"
      ],
      "execution_count": 34,
      "outputs": [
        {
          "output_type": "display_data",
          "data": {
            "image/png": "[encoded data removed]",
            "text/plain": [
              "<Figure size 432x288 with 49 Axes>"
            ]
          },
          "metadata": {
            "tags": [],
            "needs_background": "light"
          }
        },
        {
          "output_type": "display_data",
          "data": {
            "text/plain": [
              "<Figure size 1080x1080 with 0 Axes>"
            ]
          },
          "metadata": {
            "tags": []
          }
        }
      ]
    },
    {
      "cell_type": "code",
      "metadata": {
        "id": "BtCqmyNrlZAE",
        "outputId": "f6849b1b-3fb7-42f9-d052-ee18713bb23e",
        "colab": {
          "base_uri": "https://localhost:8080/",
          "height": 748
        }
      },
      "source": [
        "plt.figure(figsize=(12,12))\n",
        "sns.heatmap(data = train_main.corr(), annot=True, fmt='.2f', linewidths=.5, cmap='coolwarm')"
      ],
      "execution_count": 33,
      "outputs": [
        {
          "output_type": "execute_result",
          "data": {
            "text/plain": [
              "<matplotlib.axes._subplots.AxesSubplot at 0x7fa5fa7a0198>"
            ]
          },
          "metadata": {
            "tags": []
          },
          "execution_count": 33
        },
        {
          "output_type": "display_data",
          "data": {
            "image/png": "[encoded data removed]",
            "text/plain": [
              "<Figure size 864x864 with 2 Axes>"
            ]
          },
          "metadata": {
            "tags": [],
            "needs_background": "light"
          }
        }
      ]
    },
    {
      "cell_type": "code",
      "metadata": {
        "id": "6C1pvhrolZCz"
      },
      "source": [
        ""
      ],
      "execution_count": null,
      "outputs": []
    },
    {
      "cell_type": "code",
      "metadata": {
        "id": "Us5gs024lZFq"
      },
      "source": [
        ""
      ],
      "execution_count": null,
      "outputs": []
    },
    {
      "cell_type": "code",
      "metadata": {
        "id": "sAXWDvMzlZIi"
      },
      "source": [
        ""
      ],
      "execution_count": null,
      "outputs": []
    },
    {
      "cell_type": "code",
      "metadata": {
        "id": "KlFvUwm5lZK4"
      },
      "source": [
        ""
      ],
      "execution_count": null,
      "outputs": []
    },
    {
      "cell_type": "code",
      "metadata": {
        "id": "cFgHjAxYlZNf"
      },
      "source": [
        ""
      ],
      "execution_count": null,
      "outputs": []
    }
  ]
}