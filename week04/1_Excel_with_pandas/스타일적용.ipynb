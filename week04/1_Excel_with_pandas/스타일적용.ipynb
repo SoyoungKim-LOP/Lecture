{
 "cells": [
  {
   "cell_type": "code",
   "execution_count": 48,
   "metadata": {},
   "outputs": [],
   "source": [
    "%matplotlib inline\n",
    "\n",
    "import matplotlib.pyplot as plt\n",
    "import pandas as pd\n",
    "import seaborn as sns\n",
    "import os\n",
    "\n",
    "plt.rcParams['axes.unicode_minus'] = False      # \"-\"폰트 이슈\n",
    "plt.rcParams['font.family'] = 'Malgun Gothic'   # 운영체제에 맞게 쓰기\n",
    "plt.style.use('fast')\n",
    "\n",
    "from tqdm import tqdm_notebook\n",
    "#from libs import stock_daum, stock_naver"
   ]
  },
  {
   "cell_type": "code",
   "execution_count": 29,
   "metadata": {},
   "outputs": [],
   "source": [
    "# 가용폰트 확인하기\n",
    "from matplotlib.font_manager import fontManager"
   ]
  },
  {
   "cell_type": "code",
   "execution_count": 30,
   "metadata": {},
   "outputs": [],
   "source": [
    "# fontManager.ttflist   # 폰트 리스트 확인 "
   ]
  },
  {
   "cell_type": "code",
   "execution_count": 31,
   "metadata": {},
   "outputs": [],
   "source": [
    "font_list = []\n",
    "for font in fontManager.ttflist:\n",
    "    font_list.append({\n",
    "        'name':font.name,\n",
    "        'fname':os.path.basename(font.fname),  #os.path.basename 경로 추가\n",
    "        'style':font.style\n",
    "    })"
   ]
  },
  {
   "cell_type": "code",
   "execution_count": 32,
   "metadata": {},
   "outputs": [
    {
     "name": "stdout",
     "output_type": "stream",
     "text": [
      "(409, 3)\n"
     ]
    },
    {
     "data": {
      "text/html": [
       "<div>\n",
       "<style scoped>\n",
       "    .dataframe tbody tr th:only-of-type {\n",
       "        vertical-align: middle;\n",
       "    }\n",
       "\n",
       "    .dataframe tbody tr th {\n",
       "        vertical-align: top;\n",
       "    }\n",
       "\n",
       "    .dataframe thead th {\n",
       "        text-align: right;\n",
       "    }\n",
       "</style>\n",
       "<table border=\"1\" class=\"dataframe\">\n",
       "  <thead>\n",
       "    <tr style=\"text-align: right;\">\n",
       "      <th></th>\n",
       "      <th>name</th>\n",
       "      <th>fname</th>\n",
       "      <th>style</th>\n",
       "    </tr>\n",
       "  </thead>\n",
       "  <tbody>\n",
       "    <tr>\n",
       "      <th>0</th>\n",
       "      <td>STIXGeneral</td>\n",
       "      <td>STIXGeneralItalic.ttf</td>\n",
       "      <td>italic</td>\n",
       "    </tr>\n",
       "    <tr>\n",
       "      <th>1</th>\n",
       "      <td>DejaVu Serif</td>\n",
       "      <td>DejaVuSerif-Bold.ttf</td>\n",
       "      <td>normal</td>\n",
       "    </tr>\n",
       "    <tr>\n",
       "      <th>2</th>\n",
       "      <td>STIXGeneral</td>\n",
       "      <td>STIXGeneralBolIta.ttf</td>\n",
       "      <td>italic</td>\n",
       "    </tr>\n",
       "    <tr>\n",
       "      <th>3</th>\n",
       "      <td>cmex10</td>\n",
       "      <td>cmex10.ttf</td>\n",
       "      <td>normal</td>\n",
       "    </tr>\n",
       "    <tr>\n",
       "      <th>4</th>\n",
       "      <td>cmr10</td>\n",
       "      <td>cmr10.ttf</td>\n",
       "      <td>normal</td>\n",
       "    </tr>\n",
       "  </tbody>\n",
       "</table>\n",
       "</div>"
      ],
      "text/plain": [
       "           name                  fname   style\n",
       "0   STIXGeneral  STIXGeneralItalic.ttf  italic\n",
       "1  DejaVu Serif   DejaVuSerif-Bold.ttf  normal\n",
       "2   STIXGeneral  STIXGeneralBolIta.ttf  italic\n",
       "3        cmex10             cmex10.ttf  normal\n",
       "4         cmr10              cmr10.ttf  normal"
      ]
     },
     "execution_count": 32,
     "metadata": {},
     "output_type": "execute_result"
    }
   ],
   "source": [
    "# font_list   # font_list 출력\n",
    "\n",
    "##%% 데이터프레임 형식으로 표현하자\n",
    "df = pd.DataFrame(font_list)\n",
    "print(df.shape)\n",
    "df.head(5)"
   ]
  },
  {
   "cell_type": "code",
   "execution_count": 33,
   "metadata": {},
   "outputs": [
    {
     "name": "stdout",
     "output_type": "stream",
     "text": [
      "(409, 2)\n"
     ]
    },
    {
     "data": {
      "text/html": [
       "<div>\n",
       "<style scoped>\n",
       "    .dataframe tbody tr th:only-of-type {\n",
       "        vertical-align: middle;\n",
       "    }\n",
       "\n",
       "    .dataframe tbody tr th {\n",
       "        vertical-align: top;\n",
       "    }\n",
       "\n",
       "    .dataframe thead th {\n",
       "        text-align: right;\n",
       "    }\n",
       "</style>\n",
       "<table border=\"1\" class=\"dataframe\">\n",
       "  <thead>\n",
       "    <tr style=\"text-align: right;\">\n",
       "      <th></th>\n",
       "      <th>fname</th>\n",
       "      <th>style</th>\n",
       "    </tr>\n",
       "    <tr>\n",
       "      <th>name</th>\n",
       "      <th></th>\n",
       "      <th></th>\n",
       "    </tr>\n",
       "  </thead>\n",
       "  <tbody>\n",
       "    <tr>\n",
       "      <th>STIXGeneral</th>\n",
       "      <td>STIXGeneralItalic.ttf</td>\n",
       "      <td>italic</td>\n",
       "    </tr>\n",
       "    <tr>\n",
       "      <th>DejaVu Serif</th>\n",
       "      <td>DejaVuSerif-Bold.ttf</td>\n",
       "      <td>normal</td>\n",
       "    </tr>\n",
       "    <tr>\n",
       "      <th>STIXGeneral</th>\n",
       "      <td>STIXGeneralBolIta.ttf</td>\n",
       "      <td>italic</td>\n",
       "    </tr>\n",
       "    <tr>\n",
       "      <th>cmex10</th>\n",
       "      <td>cmex10.ttf</td>\n",
       "      <td>normal</td>\n",
       "    </tr>\n",
       "    <tr>\n",
       "      <th>cmr10</th>\n",
       "      <td>cmr10.ttf</td>\n",
       "      <td>normal</td>\n",
       "    </tr>\n",
       "  </tbody>\n",
       "</table>\n",
       "</div>"
      ],
      "text/plain": [
       "                              fname   style\n",
       "name                                       \n",
       "STIXGeneral   STIXGeneralItalic.ttf  italic\n",
       "DejaVu Serif   DejaVuSerif-Bold.ttf  normal\n",
       "STIXGeneral   STIXGeneralBolIta.ttf  italic\n",
       "cmex10                   cmex10.ttf  normal\n",
       "cmr10                     cmr10.ttf  normal"
      ]
     },
     "execution_count": 33,
     "metadata": {},
     "output_type": "execute_result"
    }
   ],
   "source": [
    "df = pd.DataFrame(font_list).set_index('name')  # name을 인덱스로 정함\n",
    "print(df.shape)\n",
    "df.head(5)"
   ]
  },
  {
   "cell_type": "code",
   "execution_count": 34,
   "metadata": {},
   "outputs": [
    {
     "data": {
      "text/html": [
       "<div>\n",
       "<style scoped>\n",
       "    .dataframe tbody tr th:only-of-type {\n",
       "        vertical-align: middle;\n",
       "    }\n",
       "\n",
       "    .dataframe tbody tr th {\n",
       "        vertical-align: top;\n",
       "    }\n",
       "\n",
       "    .dataframe thead th {\n",
       "        text-align: right;\n",
       "    }\n",
       "</style>\n",
       "<table border=\"1\" class=\"dataframe\">\n",
       "  <thead>\n",
       "    <tr style=\"text-align: right;\">\n",
       "      <th></th>\n",
       "      <th>fname</th>\n",
       "      <th>style</th>\n",
       "    </tr>\n",
       "    <tr>\n",
       "      <th>name</th>\n",
       "      <th></th>\n",
       "      <th></th>\n",
       "    </tr>\n",
       "  </thead>\n",
       "  <tbody>\n",
       "    <tr>\n",
       "      <th>Malgun Gothic</th>\n",
       "      <td>malgunbd.ttf</td>\n",
       "      <td>normal</td>\n",
       "    </tr>\n",
       "    <tr>\n",
       "      <th>Malgun Gothic</th>\n",
       "      <td>malgunsl.ttf</td>\n",
       "      <td>normal</td>\n",
       "    </tr>\n",
       "    <tr>\n",
       "      <th>Malgun Gothic</th>\n",
       "      <td>malgun.ttf</td>\n",
       "      <td>normal</td>\n",
       "    </tr>\n",
       "  </tbody>\n",
       "</table>\n",
       "</div>"
      ],
      "text/plain": [
       "                      fname   style\n",
       "name                               \n",
       "Malgun Gothic  malgunbd.ttf  normal\n",
       "Malgun Gothic  malgunsl.ttf  normal\n",
       "Malgun Gothic    malgun.ttf  normal"
      ]
     },
     "execution_count": 34,
     "metadata": {},
     "output_type": "execute_result"
    }
   ],
   "source": [
    "df.loc['Malgun Gothic']   # 행단위 지정: loc, 맑은 고딕을 찾기"
   ]
  },
  {
   "cell_type": "code",
   "execution_count": 35,
   "metadata": {},
   "outputs": [
    {
     "data": {
      "text/plain": [
       "Index(['STIXGeneral', 'DejaVu Serif', 'STIXGeneral', 'cmex10', 'cmr10',\n",
       "       'DejaVu Sans', 'DejaVu Sans Mono', 'STIXSizeOneSym', 'STIXSizeOneSym',\n",
       "       'STIXSizeTwoSym',\n",
       "       ...\n",
       "       'Segoe UI Emoji', 'Tahoma', 'Roboto', 'Calisto MT', 'Parchment',\n",
       "       'Consolas', 'FontAwesome', 'Book Antiqua', 'icon-small', 'Nirmala UI'],\n",
       "      dtype='object', name='name', length=409)"
      ]
     },
     "execution_count": 35,
     "metadata": {},
     "output_type": "execute_result"
    }
   ],
   "source": [
    "df.index  # index 출력하기\n",
    "# for name in df.index:\n",
    "#     print(name)"
   ]
  },
  {
   "cell_type": "markdown",
   "metadata": {},
   "source": [
    "### 스타일 시트 지정 "
   ]
  },
  {
   "cell_type": "code",
   "execution_count": 41,
   "metadata": {},
   "outputs": [
    {
     "data": {
      "text/plain": [
       "[<matplotlib.lines.Line2D at 0x248c8f49488>]"
      ]
     },
     "execution_count": 41,
     "metadata": {},
     "output_type": "execute_result"
    },
    {
     "data": {
      "image/png": "[encoded data removed]",
      "text/plain": [
       "<Figure size 432x288 with 1 Axes>"
      ]
     },
     "metadata": {
      "needs_background": "light"
     },
     "output_type": "display_data"
    }
   ],
   "source": [
    "# plt.style.use('seaborn-pastel')\n",
    "\n",
    "x = [0,1,2,3]\n",
    "y = [1,4,9,16]\n",
    "plt.plot(x,y)"
   ]
  },
  {
   "cell_type": "markdown",
   "metadata": {},
   "source": [
    "### Pandas에서 plot함수 사용하기 "
   ]
  },
  {
   "cell_type": "code",
   "execution_count": 47,
   "metadata": {},
   "outputs": [
    {
     "data": {
      "text/plain": [
       "Text(0, 0.5, 'Y축')"
      ]
     },
     "execution_count": 47,
     "metadata": {},
     "output_type": "execute_result"
    },
    {
     "data": {
      "image/png": "[encoded data removed]",
      "text/plain": [
       "<Figure size 720x360 with 1 Axes>"
      ]
     },
     "metadata": {
      "needs_background": "light"
     },
     "output_type": "display_data"
    }
   ],
   "source": [
    "x = [0,1,2,3]\n",
    "y = [1,4,9,16]\n",
    "\n",
    "df = pd.DataFrame(y, index=x)\n",
    "ax = df.plot(title='Line Plot', figsize=(10,5), grid=True)\n",
    "ax.set_xlabel('X-axis')\n",
    "ax.set_ylabel('Y축')"
   ]
  },
  {
   "cell_type": "markdown",
   "metadata": {},
   "source": [
    "### Pandas를 통한 차트 그리기\n",
    "    > Pandas에서 지원하는 plot 종류 (pandas version 0.23.4 기준)\n",
    "      (1) pandas.DataFrame.plot:\n",
    "          line, bar, barh, hist, box, kde, density, area, pie, scatter, hexbin\n",
    "      (2) panda.Series.plot:\n",
    "          line, bar, barh, hist, box, kde. density, area, pie"
   ]
  },
  {
   "cell_type": "code",
   "execution_count": null,
   "metadata": {},
   "outputs": [],
   "source": []
  },
  {
   "cell_type": "code",
   "execution_count": null,
   "metadata": {},
   "outputs": [],
   "source": []
  },
  {
   "cell_type": "code",
   "execution_count": null,
   "metadata": {},
   "outputs": [],
   "source": []
  },
  {
   "cell_type": "code",
   "execution_count": null,
   "metadata": {},
   "outputs": [],
   "source": []
  },
  {
   "cell_type": "code",
   "execution_count": null,
   "metadata": {},
   "outputs": [],
   "source": []
  },
  {
   "cell_type": "code",
   "execution_count": null,
   "metadata": {},
   "outputs": [],
   "source": []
  },
  {
   "cell_type": "code",
   "execution_count": null,
   "metadata": {},
   "outputs": [],
   "source": []
  },
  {
   "cell_type": "code",
   "execution_count": null,
   "metadata": {},
   "outputs": [],
   "source": []
  },
  {
   "cell_type": "code",
   "execution_count": null,
   "metadata": {},
   "outputs": [],
   "source": []
  },
  {
   "cell_type": "code",
   "execution_count": null,
   "metadata": {},
   "outputs": [],
   "source": []
  },
  {
   "cell_type": "code",
   "execution_count": null,
   "metadata": {},
   "outputs": [],
   "source": []
  },
  {
   "cell_type": "code",
   "execution_count": null,
   "metadata": {},
   "outputs": [],
   "source": []
  },
  {
   "cell_type": "code",
   "execution_count": null,
   "metadata": {},
   "outputs": [],
   "source": []
  },
  {
   "cell_type": "code",
   "execution_count": null,
   "metadata": {},
   "outputs": [],
   "source": []
  }
 ],
 "metadata": {
  "kernelspec": {
   "display_name": "Python [conda env:cuda-tensorflow] *",
   "language": "python",
   "name": "conda-env-cuda-tensorflow-py"
  },
  "language_info": {
   "codemirror_mode": {
    "name": "ipython",
    "version": 3
   },
   "file_extension": ".py",
   "mimetype": "text/x-python",
   "name": "python",
   "nbconvert_exporter": "python",
   "pygments_lexer": "ipython3",
   "version": "3.7.6"
  }
 },
 "nbformat": 4,
 "nbformat_minor": 4
}
