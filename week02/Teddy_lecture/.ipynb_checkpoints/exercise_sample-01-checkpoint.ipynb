{
 "cells": [
  {
   "cell_type": "markdown",
   "metadata": {},
   "source": [
    "### 포스트 코로나 시대의 경제 상황을 국민연금 가입자 오픈데이터를 통해 알아보자?!!"
   ]
  },
  {
   "cell_type": "markdown",
   "metadata": {},
   "source": [
    "- 데이터셋: 공공 데이터 포털\n",
    "- 형태: 파일데이터 (csv)\n",
    "- 다운로드: https://www.data.go.kr/data/3046071/fileData.do"
   ]
  },
  {
   "cell_type": "code",
   "execution_count": 34,
   "metadata": {},
   "outputs": [],
   "source": [
    "import pandas as pd\n",
    "import numpy as np\n",
    "import matplotlib as mpl\n",
    "import matplotlib.pyplot as plt\n",
    "import seaborn as sns\n",
    "import warnings\n",
    "\n",
    "warnings.filterwarnings('ignore')\n",
    "plt.rc('font', family='Arial')\n",
    "plt.rcParams['figure.figsize'] = (10,7)\n",
    "\n",
    "pd.set_option('display.float_format', lambda x: '%.2f' %x)\n",
    "\n",
    "%matplotlib inline"
   ]
  },
  {
   "cell_type": "code",
   "execution_count": 2,
   "metadata": {},
   "outputs": [],
   "source": [
    "df = pd.read_csv('./data/national-pension-202008.csv', encoding='cp949')"
   ]
  },
  {
   "cell_type": "code",
   "execution_count": 3,
   "metadata": {},
   "outputs": [],
   "source": [
    "# df.head()"
   ]
  },
  {
   "cell_type": "markdown",
   "metadata": {},
   "source": [
    "#### Column 정리 (Clean)"
   ]
  },
  {
   "cell_type": "code",
   "execution_count": 4,
   "metadata": {},
   "outputs": [
    {
     "data": {
      "text/plain": [
       "Index(['자료생성년월(자격마감일(사유발생일이 속하는 달의 다음달 15일)까지 신고분 반영)', ' 사업장명', ' 사업자등록번호',\n",
       "       ' 사업장가입상태코드 1:등록2:탈퇴', ' 우편번호', ' 사업장지번상세주소', ' 사업장도로명상세주소',\n",
       "       ' 고객법정동주소코드', ' 고객행정동주소코드', ' 법정동주소광역시도코드', ' 법정동주소광역시시군구코드',\n",
       "       ' 법정동주소광역시시군구읍면동코드', ' 사업장형태구분코드 1:법인2:개인', ' 사업장업종코드', ' 사업장업종코드명',\n",
       "       ' 적용일자', ' 재등록일자', ' 탈퇴일자', ' 가입자수(고지인원 수 포함)',\n",
       "       ' 당월고지금액(※ 국민연금법 시행령 제5조에 의거 기준소득월액 상한액 적용으로 실제소득과 고지금액은 상이할 수 있음 : 상한액 2019.7.~2020.6. 4860000원(2019.7.1.기준) 상한액 2020.7.~2021.6. 5030000원(2020.7.1.기준))',\n",
       "       ' 신규취득자수(납부재개 포함 : ※ 전달 고지대상자와 비교하므로 실제 취득자와 상이할 수 있음(초일취득 고지 초일이 아닌경우. 미고지(다음달 취득자수에 반영))',\n",
       "       ' 상실가입자수(납부예외 포함 : ※ 전달 고지대상자와 비교하므로 실제 퇴사자와 상이할 수 있음(초일이 아닌 상실자는 다음달 상실자수에 반영) 국민연금법 제6조 8조 동법 시행령 제18조에 의거 60세 도달하거나 퇴직연금수급자 조기노령연금 수급권을 취득한 자는 가입대상에서 제외되며 18세미만 기초수급자는 본인희망에 의해 제외될 수 있음)'],\n",
       "      dtype='object')"
      ]
     },
     "execution_count": 4,
     "metadata": {},
     "output_type": "execute_result"
    }
   ],
   "source": [
    "df.columns"
   ]
  },
  {
   "cell_type": "code",
   "execution_count": 5,
   "metadata": {},
   "outputs": [],
   "source": [
    "columns = ['자료생성년월', '사업장명', '사업자번호', '가입상태', '우편번호', '지번주소', '도로명주소', '법정주소코드', \n",
    "           '행정주소코드', '광역시코드', '시군구코드', '읍면동코드', '사업장형태', '업종코드', '업종코드명', \n",
    "           '적용일', '재등록일', '탈퇴일', '가입자수', '고지금액', '신규', '상실',]"
   ]
  },
  {
   "cell_type": "code",
   "execution_count": 6,
   "metadata": {},
   "outputs": [
    {
     "name": "stdout",
     "output_type": "stream",
     "text": [
      "df.columns 열개수: 22\n",
      "columns 열개수: 22\n"
     ]
    }
   ],
   "source": [
    "print(\"df.columns 열개수:\", len(df.columns))\n",
    "print(\"columns 열개수:\", len(columns))"
   ]
  },
  {
   "cell_type": "code",
   "execution_count": 7,
   "metadata": {},
   "outputs": [],
   "source": [
    "df.columns = columns   # df.columns에 새로 정리한 columns을 대입"
   ]
  },
  {
   "cell_type": "code",
   "execution_count": 8,
   "metadata": {},
   "outputs": [
    {
     "data": {
      "text/html": [
       "<div>\n",
       "<style scoped>\n",
       "    .dataframe tbody tr th:only-of-type {\n",
       "        vertical-align: middle;\n",
       "    }\n",
       "\n",
       "    .dataframe tbody tr th {\n",
       "        vertical-align: top;\n",
       "    }\n",
       "\n",
       "    .dataframe thead th {\n",
       "        text-align: right;\n",
       "    }\n",
       "</style>\n",
       "<table border=\"1\" class=\"dataframe\">\n",
       "  <thead>\n",
       "    <tr style=\"text-align: right;\">\n",
       "      <th></th>\n",
       "      <th>자료생성년월</th>\n",
       "      <th>사업장명</th>\n",
       "      <th>사업자번호</th>\n",
       "      <th>가입상태</th>\n",
       "      <th>우편번호</th>\n",
       "      <th>지번주소</th>\n",
       "      <th>도로명주소</th>\n",
       "      <th>법정주소코드</th>\n",
       "      <th>행정주소코드</th>\n",
       "      <th>광역시코드</th>\n",
       "      <th>...</th>\n",
       "      <th>사업장형태</th>\n",
       "      <th>업종코드</th>\n",
       "      <th>업종코드명</th>\n",
       "      <th>적용일</th>\n",
       "      <th>재등록일</th>\n",
       "      <th>탈퇴일</th>\n",
       "      <th>가입자수</th>\n",
       "      <th>고지금액</th>\n",
       "      <th>신규</th>\n",
       "      <th>상실</th>\n",
       "    </tr>\n",
       "  </thead>\n",
       "  <tbody>\n",
       "    <tr>\n",
       "      <th>0</th>\n",
       "      <td>202007</td>\n",
       "      <td>우성기전(주)</td>\n",
       "      <td>126811</td>\n",
       "      <td>1</td>\n",
       "      <td>12816</td>\n",
       "      <td>경기도 광주시 도척면</td>\n",
       "      <td>경기도 광주시 도척면 도척윗로</td>\n",
       "      <td>4161033025</td>\n",
       "      <td>4161033025</td>\n",
       "      <td>41</td>\n",
       "      <td>...</td>\n",
       "      <td>1</td>\n",
       "      <td>292201</td>\n",
       "      <td>동력식 수지 공구 제조업</td>\n",
       "      <td>19880101</td>\n",
       "      <td>10101</td>\n",
       "      <td>10101</td>\n",
       "      <td>5</td>\n",
       "      <td>792720</td>\n",
       "      <td>0</td>\n",
       "      <td>0</td>\n",
       "    </tr>\n",
       "    <tr>\n",
       "      <th>1</th>\n",
       "      <td>202007</td>\n",
       "      <td>서능공원묘지운영회(재)</td>\n",
       "      <td>102820</td>\n",
       "      <td>1</td>\n",
       "      <td>11191</td>\n",
       "      <td>경기도 포천시 내촌면</td>\n",
       "      <td></td>\n",
       "      <td>4165032022</td>\n",
       "      <td>4165032022</td>\n",
       "      <td>41</td>\n",
       "      <td>...</td>\n",
       "      <td>1</td>\n",
       "      <td>701700</td>\n",
       "      <td>화장터 운영  묘지 분양 및 관리업</td>\n",
       "      <td>19880101</td>\n",
       "      <td>10101</td>\n",
       "      <td>10101</td>\n",
       "      <td>13</td>\n",
       "      <td>3278460</td>\n",
       "      <td>0</td>\n",
       "      <td>0</td>\n",
       "    </tr>\n",
       "    <tr>\n",
       "      <th>2</th>\n",
       "      <td>202007</td>\n",
       "      <td>노들새마을금고</td>\n",
       "      <td>108820</td>\n",
       "      <td>1</td>\n",
       "      <td>6923</td>\n",
       "      <td>서울특별시 동작구 노량진동</td>\n",
       "      <td>서울특별시 동작구 만양로</td>\n",
       "      <td>1159010100</td>\n",
       "      <td>1159051000</td>\n",
       "      <td>11</td>\n",
       "      <td>...</td>\n",
       "      <td>1</td>\n",
       "      <td>659202</td>\n",
       "      <td>신용조합</td>\n",
       "      <td>19880101</td>\n",
       "      <td>10101</td>\n",
       "      <td>10101</td>\n",
       "      <td>14</td>\n",
       "      <td>4839540</td>\n",
       "      <td>0</td>\n",
       "      <td>1</td>\n",
       "    </tr>\n",
       "    <tr>\n",
       "      <th>3</th>\n",
       "      <td>202007</td>\n",
       "      <td>유창성업(주)</td>\n",
       "      <td>122812</td>\n",
       "      <td>1</td>\n",
       "      <td>22849</td>\n",
       "      <td>인천광역시 서구 오류동</td>\n",
       "      <td>인천광역시 서구 갑문2로</td>\n",
       "      <td>2826011900</td>\n",
       "      <td>2826072000</td>\n",
       "      <td>28</td>\n",
       "      <td>...</td>\n",
       "      <td>1</td>\n",
       "      <td>749604</td>\n",
       "      <td>그 외 기타 분류 안된 사업 지원 서비스업(기타임가공</td>\n",
       "      <td>19880101</td>\n",
       "      <td>10101</td>\n",
       "      <td>10101</td>\n",
       "      <td>28</td>\n",
       "      <td>5575460</td>\n",
       "      <td>0</td>\n",
       "      <td>0</td>\n",
       "    </tr>\n",
       "    <tr>\n",
       "      <th>4</th>\n",
       "      <td>202007</td>\n",
       "      <td>희성전자(주)</td>\n",
       "      <td>106810</td>\n",
       "      <td>1</td>\n",
       "      <td>4410</td>\n",
       "      <td>서울특별시 용산구 한남동</td>\n",
       "      <td>서울특별시 용산구 독서당로14길</td>\n",
       "      <td>1117013100</td>\n",
       "      <td>1117067000</td>\n",
       "      <td>11</td>\n",
       "      <td>...</td>\n",
       "      <td>1</td>\n",
       "      <td>701201</td>\n",
       "      <td>비주거용 건물 임대업(점포  자기땅)</td>\n",
       "      <td>19880101</td>\n",
       "      <td>10101</td>\n",
       "      <td>10101</td>\n",
       "      <td>496</td>\n",
       "      <td>208935540</td>\n",
       "      <td>0</td>\n",
       "      <td>2</td>\n",
       "    </tr>\n",
       "  </tbody>\n",
       "</table>\n",
       "<p>5 rows × 22 columns</p>\n",
       "</div>"
      ],
      "text/plain": [
       "   자료생성년월          사업장명   사업자번호  가입상태   우편번호            지번주소  \\\n",
       "0  202007       우성기전(주)  126811     1  12816     경기도 광주시 도척면   \n",
       "1  202007  서능공원묘지운영회(재)  102820     1  11191     경기도 포천시 내촌면   \n",
       "2  202007       노들새마을금고  108820     1   6923  서울특별시 동작구 노량진동   \n",
       "3  202007       유창성업(주)  122812     1  22849    인천광역시 서구 오류동   \n",
       "4  202007       희성전자(주)  106810     1   4410   서울특별시 용산구 한남동   \n",
       "\n",
       "               도로명주소      법정주소코드      행정주소코드  광역시코드  ...  사업장형태    업종코드  \\\n",
       "0   경기도 광주시 도척면 도척윗로  4161033025  4161033025     41  ...      1  292201   \n",
       "1                     4165032022  4165032022     41  ...      1  701700   \n",
       "2      서울특별시 동작구 만양로  1159010100  1159051000     11  ...      1  659202   \n",
       "3      인천광역시 서구 갑문2로  2826011900  2826072000     28  ...      1  749604   \n",
       "4  서울특별시 용산구 독서당로14길  1117013100  1117067000     11  ...      1  701201   \n",
       "\n",
       "                           업종코드명       적용일   재등록일    탈퇴일  가입자수       고지금액  신규  \\\n",
       "0                  동력식 수지 공구 제조업  19880101  10101  10101     5     792720   0   \n",
       "1            화장터 운영  묘지 분양 및 관리업  19880101  10101  10101    13    3278460   0   \n",
       "2                           신용조합  19880101  10101  10101    14    4839540   0   \n",
       "3  그 외 기타 분류 안된 사업 지원 서비스업(기타임가공  19880101  10101  10101    28    5575460   0   \n",
       "4           비주거용 건물 임대업(점포  자기땅)  19880101  10101  10101   496  208935540   0   \n",
       "\n",
       "   상실  \n",
       "0   0  \n",
       "1   0  \n",
       "2   1  \n",
       "3   0  \n",
       "4   2  \n",
       "\n",
       "[5 rows x 22 columns]"
      ]
     },
     "execution_count": 8,
     "metadata": {},
     "output_type": "execute_result"
    }
   ],
   "source": [
    "df.head()"
   ]
  },
  {
   "cell_type": "markdown",
   "metadata": {},
   "source": [
    "#### 데이터 전처리(정제) : 핵심 데이터 column 추출"
   ]
  },
  {
   "cell_type": "code",
   "execution_count": 9,
   "metadata": {},
   "outputs": [],
   "source": [
    "df_main = df[['사업장명', '가입자수', '신규', '상실', '고지금액']]   # 특정 변수에 대한 정보를 추출하기 위함"
   ]
  },
  {
   "cell_type": "code",
   "execution_count": 10,
   "metadata": {},
   "outputs": [
    {
     "data": {
      "text/html": [
       "<div>\n",
       "<style scoped>\n",
       "    .dataframe tbody tr th:only-of-type {\n",
       "        vertical-align: middle;\n",
       "    }\n",
       "\n",
       "    .dataframe tbody tr th {\n",
       "        vertical-align: top;\n",
       "    }\n",
       "\n",
       "    .dataframe thead th {\n",
       "        text-align: right;\n",
       "    }\n",
       "</style>\n",
       "<table border=\"1\" class=\"dataframe\">\n",
       "  <thead>\n",
       "    <tr style=\"text-align: right;\">\n",
       "      <th></th>\n",
       "      <th>사업장명</th>\n",
       "      <th>가입자수</th>\n",
       "      <th>신규</th>\n",
       "      <th>상실</th>\n",
       "      <th>고지금액</th>\n",
       "    </tr>\n",
       "  </thead>\n",
       "  <tbody>\n",
       "    <tr>\n",
       "      <th>0</th>\n",
       "      <td>우성기전(주)</td>\n",
       "      <td>5</td>\n",
       "      <td>0</td>\n",
       "      <td>0</td>\n",
       "      <td>792720</td>\n",
       "    </tr>\n",
       "    <tr>\n",
       "      <th>1</th>\n",
       "      <td>서능공원묘지운영회(재)</td>\n",
       "      <td>13</td>\n",
       "      <td>0</td>\n",
       "      <td>0</td>\n",
       "      <td>3278460</td>\n",
       "    </tr>\n",
       "    <tr>\n",
       "      <th>2</th>\n",
       "      <td>노들새마을금고</td>\n",
       "      <td>14</td>\n",
       "      <td>0</td>\n",
       "      <td>1</td>\n",
       "      <td>4839540</td>\n",
       "    </tr>\n",
       "    <tr>\n",
       "      <th>3</th>\n",
       "      <td>유창성업(주)</td>\n",
       "      <td>28</td>\n",
       "      <td>0</td>\n",
       "      <td>0</td>\n",
       "      <td>5575460</td>\n",
       "    </tr>\n",
       "    <tr>\n",
       "      <th>4</th>\n",
       "      <td>희성전자(주)</td>\n",
       "      <td>496</td>\n",
       "      <td>0</td>\n",
       "      <td>2</td>\n",
       "      <td>208935540</td>\n",
       "    </tr>\n",
       "  </tbody>\n",
       "</table>\n",
       "</div>"
      ],
      "text/plain": [
       "           사업장명  가입자수  신규  상실       고지금액\n",
       "0       우성기전(주)     5   0   0     792720\n",
       "1  서능공원묘지운영회(재)    13   0   0    3278460\n",
       "2       노들새마을금고    14   0   1    4839540\n",
       "3       유창성업(주)    28   0   0    5575460\n",
       "4       희성전자(주)   496   0   2  208935540"
      ]
     },
     "execution_count": 10,
     "metadata": {},
     "output_type": "execute_result"
    }
   ],
   "source": [
    "# df.head()\n",
    "df_main.head()"
   ]
  },
  {
   "cell_type": "markdown",
   "metadata": {},
   "source": [
    "#### 데이터 분석: 통계 처리"
   ]
  },
  {
   "cell_type": "code",
   "execution_count": 11,
   "metadata": {},
   "outputs": [
    {
     "data": {
      "text/plain": [
       "0.8304567228935282"
      ]
     },
     "execution_count": 11,
     "metadata": {},
     "output_type": "execute_result"
    }
   ],
   "source": [
    "df_main['신규'].mean()"
   ]
  },
  {
   "cell_type": "code",
   "execution_count": 12,
   "metadata": {},
   "outputs": [
    {
     "data": {
      "text/plain": [
       "0.6406682860726561"
      ]
     },
     "execution_count": 12,
     "metadata": {},
     "output_type": "execute_result"
    }
   ],
   "source": [
    "df_main['상실'].mean()"
   ]
  },
  {
   "cell_type": "code",
   "execution_count": 13,
   "metadata": {},
   "outputs": [
    {
     "data": {
      "text/plain": [
       "19.58097191500251"
      ]
     },
     "execution_count": 13,
     "metadata": {},
     "output_type": "execute_result"
    }
   ],
   "source": [
    "df_main['가입자수'].mean()"
   ]
  },
  {
   "cell_type": "code",
   "execution_count": 14,
   "metadata": {},
   "outputs": [
    {
     "data": {
      "text/plain": [
       "5682724.167521281"
      ]
     },
     "execution_count": 14,
     "metadata": {},
     "output_type": "execute_result"
    }
   ],
   "source": [
    "df_main['고지금액'].mean()"
   ]
  },
  {
   "cell_type": "markdown",
   "metadata": {},
   "source": [
    "#### 월급, 연봉 추정 하기"
   ]
  },
  {
   "cell_type": "code",
   "execution_count": 15,
   "metadata": {},
   "outputs": [
    {
     "data": {
      "text/plain": [
       "0   158544.00\n",
       "1   252189.23\n",
       "2   345681.43\n",
       "3   199123.57\n",
       "4   421241.01\n",
       "dtype: float64"
      ]
     },
     "execution_count": 15,
     "metadata": {},
     "output_type": "execute_result"
    }
   ],
   "source": [
    "(df_main['고지금액'] / df_main['가입자수']).head()  # 인당고지금액 계산"
   ]
  },
  {
   "cell_type": "code",
   "execution_count": 16,
   "metadata": {},
   "outputs": [
    {
     "data": {
      "text/html": [
       "<div>\n",
       "<style scoped>\n",
       "    .dataframe tbody tr th:only-of-type {\n",
       "        vertical-align: middle;\n",
       "    }\n",
       "\n",
       "    .dataframe tbody tr th {\n",
       "        vertical-align: top;\n",
       "    }\n",
       "\n",
       "    .dataframe thead th {\n",
       "        text-align: right;\n",
       "    }\n",
       "</style>\n",
       "<table border=\"1\" class=\"dataframe\">\n",
       "  <thead>\n",
       "    <tr style=\"text-align: right;\">\n",
       "      <th></th>\n",
       "      <th>사업장명</th>\n",
       "      <th>가입자수</th>\n",
       "      <th>신규</th>\n",
       "      <th>상실</th>\n",
       "      <th>고지금액</th>\n",
       "      <th>인당고지금액</th>\n",
       "    </tr>\n",
       "  </thead>\n",
       "  <tbody>\n",
       "    <tr>\n",
       "      <th>0</th>\n",
       "      <td>우성기전(주)</td>\n",
       "      <td>5</td>\n",
       "      <td>0</td>\n",
       "      <td>0</td>\n",
       "      <td>792720</td>\n",
       "      <td>158544.00</td>\n",
       "    </tr>\n",
       "    <tr>\n",
       "      <th>1</th>\n",
       "      <td>서능공원묘지운영회(재)</td>\n",
       "      <td>13</td>\n",
       "      <td>0</td>\n",
       "      <td>0</td>\n",
       "      <td>3278460</td>\n",
       "      <td>252189.23</td>\n",
       "    </tr>\n",
       "    <tr>\n",
       "      <th>2</th>\n",
       "      <td>노들새마을금고</td>\n",
       "      <td>14</td>\n",
       "      <td>0</td>\n",
       "      <td>1</td>\n",
       "      <td>4839540</td>\n",
       "      <td>345681.43</td>\n",
       "    </tr>\n",
       "    <tr>\n",
       "      <th>3</th>\n",
       "      <td>유창성업(주)</td>\n",
       "      <td>28</td>\n",
       "      <td>0</td>\n",
       "      <td>0</td>\n",
       "      <td>5575460</td>\n",
       "      <td>199123.57</td>\n",
       "    </tr>\n",
       "    <tr>\n",
       "      <th>4</th>\n",
       "      <td>희성전자(주)</td>\n",
       "      <td>496</td>\n",
       "      <td>0</td>\n",
       "      <td>2</td>\n",
       "      <td>208935540</td>\n",
       "      <td>421241.01</td>\n",
       "    </tr>\n",
       "  </tbody>\n",
       "</table>\n",
       "</div>"
      ],
      "text/plain": [
       "           사업장명  가입자수  신규  상실       고지금액    인당고지금액\n",
       "0       우성기전(주)     5   0   0     792720 158544.00\n",
       "1  서능공원묘지운영회(재)    13   0   0    3278460 252189.23\n",
       "2       노들새마을금고    14   0   1    4839540 345681.43\n",
       "3       유창성업(주)    28   0   0    5575460 199123.57\n",
       "4       희성전자(주)   496   0   2  208935540 421241.01"
      ]
     },
     "execution_count": 16,
     "metadata": {},
     "output_type": "execute_result"
    }
   ],
   "source": [
    "# 인당고지금액 열(column) 추가하기\n",
    "df_main['인당고지금액'] = df_main['고지금액'] / df_main['가입자수']\n",
    "df_main.head()"
   ]
  },
  {
   "cell_type": "code",
   "execution_count": 17,
   "metadata": {},
   "outputs": [
    {
     "data": {
      "text/html": [
       "<div>\n",
       "<style scoped>\n",
       "    .dataframe tbody tr th:only-of-type {\n",
       "        vertical-align: middle;\n",
       "    }\n",
       "\n",
       "    .dataframe tbody tr th {\n",
       "        vertical-align: top;\n",
       "    }\n",
       "\n",
       "    .dataframe thead th {\n",
       "        text-align: right;\n",
       "    }\n",
       "</style>\n",
       "<table border=\"1\" class=\"dataframe\">\n",
       "  <thead>\n",
       "    <tr style=\"text-align: right;\">\n",
       "      <th></th>\n",
       "      <th>자료생성년월</th>\n",
       "      <th>사업장명</th>\n",
       "      <th>사업자번호</th>\n",
       "      <th>가입상태</th>\n",
       "      <th>우편번호</th>\n",
       "      <th>지번주소</th>\n",
       "      <th>도로명주소</th>\n",
       "      <th>법정주소코드</th>\n",
       "      <th>행정주소코드</th>\n",
       "      <th>광역시코드</th>\n",
       "      <th>...</th>\n",
       "      <th>업종코드</th>\n",
       "      <th>업종코드명</th>\n",
       "      <th>적용일</th>\n",
       "      <th>재등록일</th>\n",
       "      <th>탈퇴일</th>\n",
       "      <th>가입자수</th>\n",
       "      <th>고지금액</th>\n",
       "      <th>신규</th>\n",
       "      <th>상실</th>\n",
       "      <th>인당고지금액</th>\n",
       "    </tr>\n",
       "  </thead>\n",
       "  <tbody>\n",
       "    <tr>\n",
       "      <th>0</th>\n",
       "      <td>202007</td>\n",
       "      <td>우성기전(주)</td>\n",
       "      <td>126811</td>\n",
       "      <td>1</td>\n",
       "      <td>12816</td>\n",
       "      <td>경기도 광주시 도척면</td>\n",
       "      <td>경기도 광주시 도척면 도척윗로</td>\n",
       "      <td>4161033025</td>\n",
       "      <td>4161033025</td>\n",
       "      <td>41</td>\n",
       "      <td>...</td>\n",
       "      <td>292201</td>\n",
       "      <td>동력식 수지 공구 제조업</td>\n",
       "      <td>19880101</td>\n",
       "      <td>10101</td>\n",
       "      <td>10101</td>\n",
       "      <td>5</td>\n",
       "      <td>792720</td>\n",
       "      <td>0</td>\n",
       "      <td>0</td>\n",
       "      <td>158544.00</td>\n",
       "    </tr>\n",
       "    <tr>\n",
       "      <th>1</th>\n",
       "      <td>202007</td>\n",
       "      <td>서능공원묘지운영회(재)</td>\n",
       "      <td>102820</td>\n",
       "      <td>1</td>\n",
       "      <td>11191</td>\n",
       "      <td>경기도 포천시 내촌면</td>\n",
       "      <td></td>\n",
       "      <td>4165032022</td>\n",
       "      <td>4165032022</td>\n",
       "      <td>41</td>\n",
       "      <td>...</td>\n",
       "      <td>701700</td>\n",
       "      <td>화장터 운영  묘지 분양 및 관리업</td>\n",
       "      <td>19880101</td>\n",
       "      <td>10101</td>\n",
       "      <td>10101</td>\n",
       "      <td>13</td>\n",
       "      <td>3278460</td>\n",
       "      <td>0</td>\n",
       "      <td>0</td>\n",
       "      <td>252189.23</td>\n",
       "    </tr>\n",
       "    <tr>\n",
       "      <th>2</th>\n",
       "      <td>202007</td>\n",
       "      <td>노들새마을금고</td>\n",
       "      <td>108820</td>\n",
       "      <td>1</td>\n",
       "      <td>6923</td>\n",
       "      <td>서울특별시 동작구 노량진동</td>\n",
       "      <td>서울특별시 동작구 만양로</td>\n",
       "      <td>1159010100</td>\n",
       "      <td>1159051000</td>\n",
       "      <td>11</td>\n",
       "      <td>...</td>\n",
       "      <td>659202</td>\n",
       "      <td>신용조합</td>\n",
       "      <td>19880101</td>\n",
       "      <td>10101</td>\n",
       "      <td>10101</td>\n",
       "      <td>14</td>\n",
       "      <td>4839540</td>\n",
       "      <td>0</td>\n",
       "      <td>1</td>\n",
       "      <td>345681.43</td>\n",
       "    </tr>\n",
       "    <tr>\n",
       "      <th>3</th>\n",
       "      <td>202007</td>\n",
       "      <td>유창성업(주)</td>\n",
       "      <td>122812</td>\n",
       "      <td>1</td>\n",
       "      <td>22849</td>\n",
       "      <td>인천광역시 서구 오류동</td>\n",
       "      <td>인천광역시 서구 갑문2로</td>\n",
       "      <td>2826011900</td>\n",
       "      <td>2826072000</td>\n",
       "      <td>28</td>\n",
       "      <td>...</td>\n",
       "      <td>749604</td>\n",
       "      <td>그 외 기타 분류 안된 사업 지원 서비스업(기타임가공</td>\n",
       "      <td>19880101</td>\n",
       "      <td>10101</td>\n",
       "      <td>10101</td>\n",
       "      <td>28</td>\n",
       "      <td>5575460</td>\n",
       "      <td>0</td>\n",
       "      <td>0</td>\n",
       "      <td>199123.57</td>\n",
       "    </tr>\n",
       "    <tr>\n",
       "      <th>4</th>\n",
       "      <td>202007</td>\n",
       "      <td>희성전자(주)</td>\n",
       "      <td>106810</td>\n",
       "      <td>1</td>\n",
       "      <td>4410</td>\n",
       "      <td>서울특별시 용산구 한남동</td>\n",
       "      <td>서울특별시 용산구 독서당로14길</td>\n",
       "      <td>1117013100</td>\n",
       "      <td>1117067000</td>\n",
       "      <td>11</td>\n",
       "      <td>...</td>\n",
       "      <td>701201</td>\n",
       "      <td>비주거용 건물 임대업(점포  자기땅)</td>\n",
       "      <td>19880101</td>\n",
       "      <td>10101</td>\n",
       "      <td>10101</td>\n",
       "      <td>496</td>\n",
       "      <td>208935540</td>\n",
       "      <td>0</td>\n",
       "      <td>2</td>\n",
       "      <td>421241.01</td>\n",
       "    </tr>\n",
       "  </tbody>\n",
       "</table>\n",
       "<p>5 rows × 23 columns</p>\n",
       "</div>"
      ],
      "text/plain": [
       "   자료생성년월          사업장명   사업자번호  가입상태   우편번호            지번주소  \\\n",
       "0  202007       우성기전(주)  126811     1  12816     경기도 광주시 도척면   \n",
       "1  202007  서능공원묘지운영회(재)  102820     1  11191     경기도 포천시 내촌면   \n",
       "2  202007       노들새마을금고  108820     1   6923  서울특별시 동작구 노량진동   \n",
       "3  202007       유창성업(주)  122812     1  22849    인천광역시 서구 오류동   \n",
       "4  202007       희성전자(주)  106810     1   4410   서울특별시 용산구 한남동   \n",
       "\n",
       "               도로명주소      법정주소코드      행정주소코드  광역시코드  ...    업종코드  \\\n",
       "0   경기도 광주시 도척면 도척윗로  4161033025  4161033025     41  ...  292201   \n",
       "1                     4165032022  4165032022     41  ...  701700   \n",
       "2      서울특별시 동작구 만양로  1159010100  1159051000     11  ...  659202   \n",
       "3      인천광역시 서구 갑문2로  2826011900  2826072000     28  ...  749604   \n",
       "4  서울특별시 용산구 독서당로14길  1117013100  1117067000     11  ...  701201   \n",
       "\n",
       "                           업종코드명       적용일   재등록일    탈퇴일  가입자수       고지금액  신규  \\\n",
       "0                  동력식 수지 공구 제조업  19880101  10101  10101     5     792720   0   \n",
       "1            화장터 운영  묘지 분양 및 관리업  19880101  10101  10101    13    3278460   0   \n",
       "2                           신용조합  19880101  10101  10101    14    4839540   0   \n",
       "3  그 외 기타 분류 안된 사업 지원 서비스업(기타임가공  19880101  10101  10101    28    5575460   0   \n",
       "4           비주거용 건물 임대업(점포  자기땅)  19880101  10101  10101   496  208935540   0   \n",
       "\n",
       "   상실    인당고지금액  \n",
       "0   0 158544.00  \n",
       "1   0 252189.23  \n",
       "2   1 345681.43  \n",
       "3   0 199123.57  \n",
       "4   2 421241.01  \n",
       "\n",
       "[5 rows x 23 columns]"
      ]
     },
     "execution_count": 17,
     "metadata": {},
     "output_type": "execute_result"
    }
   ],
   "source": [
    "df['인당고지금액'] = df['고지금액'] / df['가입자수']\n",
    "df.head()"
   ]
  },
  {
   "cell_type": "code",
   "execution_count": 18,
   "metadata": {},
   "outputs": [
    {
     "data": {
      "text/plain": [
       "0   158544.00\n",
       "1   252189.23\n",
       "2   345681.43\n",
       "3   199123.57\n",
       "4   421241.01\n",
       "Name: 인당고지금액, dtype: float64"
      ]
     },
     "execution_count": 18,
     "metadata": {},
     "output_type": "execute_result"
    }
   ],
   "source": [
    "df_main['인당고지금액'].head()"
   ]
  },
  {
   "cell_type": "markdown",
   "metadata": {},
   "source": [
    "-------------------------------------------------------------------------------------------------------------------\n",
    "**국민연금 정보로 어떻게 연봉정보를 계산하나요?**\n",
    "\n",
    "\n",
    "국민연금 보험률은 9%입니다. 쉽게 이야기 하면 급여(신고소득월액)의 9%를 국민연금으로 내는 것입니다. \n",
    "\n",
    "하지만 이를 절반으로 나누어 **4.5%는 회사가, 나머지 절반은 개인이 부담하는 구조**입니다. 회사는 급여 외에 추가로 금액을 부담합니다.\n",
    "\n",
    "국민연금 보험료는 **소득 상한선과 하한선이 설정되어 있어 소득 전체가 아닌 일부 소득에만 부과**됩니다.\n",
    "\n",
    "이를 역산하면 신고소득월액의 계산이 가능합니다. 하지만 **상한선과 하한선이 설정되어 있어 실제보다 과소계산**될 수 있습니다."
   ]
  },
  {
   "cell_type": "markdown",
   "metadata": {},
   "source": [
    "-----------------------\n",
    "** [수식] **\n",
    "- 임직원 평균 월급 = 인당고지금액 / 9% * 100%\n",
    "- 임직원 평균 연봉 = 임직원 평균 월급 * 12개월"
   ]
  },
  {
   "cell_type": "code",
   "execution_count": 19,
   "metadata": {},
   "outputs": [],
   "source": [
    "df_main['평균월급'] = df_main['인당고지금액'] / 9 *100\n",
    "df['평균월급'] = df['인당고지금액'] / 9 * 100"
   ]
  },
  {
   "cell_type": "code",
   "execution_count": 20,
   "metadata": {},
   "outputs": [],
   "source": [
    "df_main['평균연봉'] = df_main['평균월급'] * 12\n",
    "df['평균연봉'] = df['평균월급'] * 12"
   ]
  },
  {
   "cell_type": "code",
   "execution_count": 21,
   "metadata": {},
   "outputs": [
    {
     "data": {
      "text/plain": [
       "490078"
      ]
     },
     "execution_count": 21,
     "metadata": {},
     "output_type": "execute_result"
    }
   ],
   "source": [
    "df_main['평균월급'].notnull().sum()"
   ]
  },
  {
   "cell_type": "code",
   "execution_count": 22,
   "metadata": {},
   "outputs": [
    {
     "data": {
      "text/plain": [
       "490078"
      ]
     },
     "execution_count": 22,
     "metadata": {},
     "output_type": "execute_result"
    }
   ],
   "source": [
    "df['평균월급'].notnull().sum()"
   ]
  },
  {
   "cell_type": "markdown",
   "metadata": {},
   "source": [
    "#### [부록] matplotlib에서 한글폰트 사용하기"
   ]
  },
  {
   "cell_type": "markdown",
   "metadata": {},
   "source": [
    "**(1) 버전, 설치위치, 설정위치, 캐시위치 확인하기**"
   ]
  },
  {
   "cell_type": "code",
   "execution_count": 23,
   "metadata": {},
   "outputs": [
    {
     "name": "stdout",
     "output_type": "stream",
     "text": [
      "matplotlib-버전: 3.1.3\n",
      "설치위치:  C:\\Anaconda3\\envs\\cuda-tensorflow\\lib\\site-packages\\matplotlib\\__init__.py\n",
      "설정위치:  C:\\Users\\user\\.matplotlib\n",
      "캐시위치:  C:\\Users\\user\\.matplotlib\n"
     ]
    }
   ],
   "source": [
    "print('matplotlib-버전:', mpl.__version__)\n",
    "print('설치위치: ', mpl.__file__)\n",
    "print('설정위치: ', mpl.get_configdir())\n",
    "print('캐시위치: ', mpl.get_cachedir())"
   ]
  },
  {
   "cell_type": "markdown",
   "metadata": {},
   "source": [
    "**(2) matplotlib의 위치정보를 알았으니 터미널을 이용해 해당 위치로 간다**"
   ]
  },
  {
   "cell_type": "code",
   "execution_count": 24,
   "metadata": {},
   "outputs": [
    {
     "name": "stdout",
     "output_type": "stream",
     "text": [
      "설정파일 위치:  C:\\Anaconda3\\envs\\cuda-tensorflow\\lib\\site-packages\\matplotlib\\mpl-data\\matplotlibrc\n"
     ]
    }
   ],
   "source": [
    "print('설정파일 위치: ', mpl.matplotlib_fname())"
   ]
  },
  {
   "cell_type": "markdown",
   "metadata": {},
   "source": [
    "**(3) 설치된 폰트를 찍어봄**"
   ]
  },
  {
   "cell_type": "code",
   "execution_count": 25,
   "metadata": {},
   "outputs": [
    {
     "data": {
      "text/plain": [
       "719"
      ]
     },
     "execution_count": 25,
     "metadata": {},
     "output_type": "execute_result"
    }
   ],
   "source": [
    "import matplotlib.font_manager as fm\n",
    "# 그래프에서 마이너스 폰트 깨지는 문제에 대한 대처\n",
    "mpl.rcParams['axes.unicode_minus'] = False\n",
    "\n",
    "font_list = fm.findSystemFonts(fontpaths = None, fontext = 'ttf')\n",
    "# print(font_list)\n",
    "len(font_list)"
   ]
  },
  {
   "cell_type": "code",
   "execution_count": 27,
   "metadata": {},
   "outputs": [
    {
     "data": {
      "text/plain": [
       "['C:\\\\Windows\\\\Fonts\\\\H2GTRE.TTF',\n",
       " 'C:\\\\Windows\\\\Fonts\\\\constanz.ttf',\n",
       " 'C:\\\\WINDOWS\\\\Fonts\\\\corbell.ttf',\n",
       " 'C:\\\\WINDOWS\\\\Fonts\\\\IMPRISHA.TTF',\n",
       " 'C:\\\\Windows\\\\Fonts\\\\trebucit.ttf',\n",
       " 'C:\\\\WINDOWS\\\\Fonts\\\\phagspa.ttf',\n",
       " 'C:\\\\WINDOWS\\\\Fonts\\\\segoeuisl.ttf',\n",
       " 'C:\\\\WINDOWS\\\\Fonts\\\\LBRITE.TTF',\n",
       " 'C:\\\\Windows\\\\Fonts\\\\comic.ttf',\n",
       " 'C:\\\\Windows\\\\Fonts\\\\wingding.ttf']"
      ]
     },
     "execution_count": 27,
     "metadata": {},
     "output_type": "execute_result"
    }
   ],
   "source": [
    "font_list[:10] # 폰트리스트에서 10개만 가져오기"
   ]
  },
  {
   "cell_type": "code",
   "execution_count": 28,
   "metadata": {},
   "outputs": [],
   "source": [
    "f = [f.name for f in fm.fontManager.ttflist]\n",
    "# print(f)"
   ]
  },
  {
   "cell_type": "code",
   "execution_count": 30,
   "metadata": {},
   "outputs": [
    {
     "data": {
      "text/plain": [
       "[('Arial Rounded MT Bold', 'C:\\\\Windows\\\\Fonts\\\\ARLRDBD.TTF'),\n",
       " ('Arial', 'C:\\\\windows\\\\Fonts\\\\arialbd.ttf'),\n",
       " ('Arial', 'C:\\\\windows\\\\Fonts\\\\ariblk.ttf'),\n",
       " ('Arial', 'C:\\\\Windows\\\\Fonts\\\\ariali.ttf'),\n",
       " ('Arial', 'C:\\\\windows\\\\Fonts\\\\ARIALNB.TTF'),\n",
       " ('Arial', 'C:\\\\windows\\\\Fonts\\\\ARIALNBI.TTF'),\n",
       " ('Arial', 'C:\\\\Windows\\\\Fonts\\\\ARIALN.TTF'),\n",
       " ('Arial', 'C:\\\\windows\\\\Fonts\\\\arial.ttf'),\n",
       " ('Arial', 'C:\\\\Windows\\\\Fonts\\\\arialbi.ttf'),\n",
       " ('Arial', 'C:\\\\Windows\\\\Fonts\\\\ARIALNI.TTF')]"
      ]
     },
     "execution_count": 30,
     "metadata": {},
     "output_type": "execute_result"
    }
   ],
   "source": [
    "[(f.name, f.fname) for f in fm.fontManager.ttflist if 'Arial' in f.name]"
   ]
  },
  {
   "cell_type": "code",
   "execution_count": 35,
   "metadata": {},
   "outputs": [
    {
     "data": {
      "image/png": "[encoded data removed]",
      "text/plain": [
       "<Figure size 720x504 with 1 Axes>"
      ]
     },
     "metadata": {
      "needs_background": "light"
     },
     "output_type": "display_data"
    }
   ],
   "source": [
    "path = 'C:\\\\windows\\\\Fonts\\\\arial.ttf'\n",
    "fontprop = fm.FontProperties(fname=path, size=18)\n",
    "\n",
    "plt.figure(figsize=(10,7)) \n",
    "sns.distplot(df_main.loc[df_main['평균연봉'].notnull(), '평균연봉'])\n",
    "plt.title('평균연봉', fontproperties = fontprop)\n",
    "plt.show()"
   ]
  },
  {
   "cell_type": "code",
   "execution_count": null,
   "metadata": {},
   "outputs": [],
   "source": []
  },
  {
   "cell_type": "code",
   "execution_count": null,
   "metadata": {},
   "outputs": [],
   "source": []
  },
  {
   "cell_type": "code",
   "execution_count": null,
   "metadata": {},
   "outputs": [],
   "source": []
  },
  {
   "cell_type": "code",
   "execution_count": null,
   "metadata": {},
   "outputs": [],
   "source": []
  },
  {
   "cell_type": "code",
   "execution_count": null,
   "metadata": {},
   "outputs": [],
   "source": []
  },
  {
   "cell_type": "code",
   "execution_count": null,
   "metadata": {},
   "outputs": [],
   "source": []
  },
  {
   "cell_type": "code",
   "execution_count": null,
   "metadata": {},
   "outputs": [],
   "source": []
  },
  {
   "cell_type": "code",
   "execution_count": null,
   "metadata": {},
   "outputs": [],
   "source": []
  },
  {
   "cell_type": "code",
   "execution_count": null,
   "metadata": {},
   "outputs": [],
   "source": []
  },
  {
   "cell_type": "code",
   "execution_count": null,
   "metadata": {},
   "outputs": [],
   "source": []
  },
  {
   "cell_type": "code",
   "execution_count": null,
   "metadata": {},
   "outputs": [],
   "source": []
  },
  {
   "cell_type": "code",
   "execution_count": null,
   "metadata": {},
   "outputs": [],
   "source": []
  },
  {
   "cell_type": "code",
   "execution_count": null,
   "metadata": {},
   "outputs": [],
   "source": []
  }
 ],
 "metadata": {
  "kernelspec": {
   "display_name": "Python [conda env:cuda-tensorflow] *",
   "language": "python",
   "name": "conda-env-cuda-tensorflow-py"
  },
  "language_info": {
   "codemirror_mode": {
    "name": "ipython",
    "version": 3
   },
   "file_extension": ".py",
   "mimetype": "text/x-python",
   "name": "python",
   "nbconvert_exporter": "python",
   "pygments_lexer": "ipython3",
   "version": "3.7.6"
  }
 },
 "nbformat": 4,
 "nbformat_minor": 4
}
