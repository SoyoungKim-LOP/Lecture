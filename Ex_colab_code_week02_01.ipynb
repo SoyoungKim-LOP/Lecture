{
  "nbformat": 4,
  "nbformat_minor": 0,
  "metadata": {
    "kernelspec": {
      "name": "python3",
      "display_name": "Python 3"
    },
    "colab": {
      "name": "Ex_colab-code_week02-01.ipynb",
      "provenance": [],
      "collapsed_sections": [
        "qpiPeX2LEXp8",
        "lGwGO6mJEXqE",
        "TtEIDqMLEXqU",
        "6KyMgvIOEXqk",
        "HP0rHHHxEXqo",
        "nYnQKz_oEXqu",
        "eqv57V_HJbh5",
        "toHWmTuDVvya"
      ],
      "machine_shape": "hm",
      "include_colab_link": true
    },
    "accelerator": "GPU"
  },
  "cells": [
    {
      "cell_type": "markdown",
      "metadata": {
        "id": "view-in-github",
        "colab_type": "text"
      },
      "source": [
        "<a href=\"https://colab.research.google.com/github/SoyoungKim-LOP/fastcampus-meetup/blob/master/Ex_colab_code_week02_01.ipynb\" target=\"_parent\"><img src=\"https://colab.research.google.com/assets/colab-badge.svg\" alt=\"Open In Colab\"/></a>"
      ]
    },
    {
      "cell_type": "markdown",
      "metadata": {
        "id": "45TrpqiSEXpd",
        "colab_type": "text"
      },
      "source": [
        "### 포스트 코로나 시대의 경제 상황을 국민연금 가입자 오픈데이터를 통해 알아보자?!!"
      ]
    },
    {
      "cell_type": "markdown",
      "metadata": {
        "id": "zcNJDPf9EXpe",
        "colab_type": "text"
      },
      "source": [
        "- 데이터셋: 공공 데이터 포털\n",
        "- 형태: 파일데이터 (csv)\n",
        "- 다운로드: https://www.data.go.kr/data/3046071/fileData.do"
      ]
    },
    {
      "cell_type": "markdown",
      "metadata": {
        "id": "5e-a-ClRecY2",
        "colab_type": "text"
      },
      "source": [
        "# 2주차 수업 안내 \n",
        "## Description: Introducion to the Impact of Learning(IOL) about Learning intention  \n",
        "### (1) 목표: pandas를 활용해 간단한 통계 분석과 함께 데이터 전처리에 대해 학습\n",
        "### (2) 내용: 탐색적 데이터 분석 방법과 기초 통계에 관한 이해력 향상\n",
        "- (1 단계) EDA(Extrapolatory Data Analysis): 탐색적 데이터 분석\n",
        "- (2 단계) 데이터 전처리 \n",
        "- (3 단계) 판다스로 데이터 읽기 및 값 불러오기\n",
        "- (4 단계) 기초 통계 방법에 관한 이해: p-value, 신뢰구간 등  \n",
        "\n",
        "### (3) 실습: [경제 데이터를 분석해 보자]\n",
        "- 국민연금 데이터를 통한 포스트 코로나 시대 경제 상황 분석 보고서를 이용하여 Pandas사용하기, EDA실습하기 및 데이터 전처리 실습!"
      ]
    },
    {
      "cell_type": "code",
      "metadata": {
        "id": "OUjzNy-_HJE8",
        "colab_type": "code",
        "colab": {
          "base_uri": "https://localhost:8080/",
          "height": 659
        },
        "outputId": "641b48c4-cb17-461b-f47d-772d08f22bc6"
      },
      "source": [
        "# 한글 깨짐 현상에 대한 해결 방법\n",
        "# (1) 나눔 폰트 설치 (Nanum)\n",
        "# (2) 코랩의 런타임을 재시작!\n",
        "# (3) matplotlib의 폰트를 Nanum 폰트로 지정함!\n",
        "!sudo apt-get install -y fonts-nanum\n",
        "!sudo fc-cache -fv\n",
        "!rm ~/.cache/matplotlib -rf"
      ],
      "execution_count": null,
      "outputs": [
        {
          "output_type": "stream",
          "text": [
            "Reading package lists... Done\n",
            "Building dependency tree       \n",
            "Reading state information... Done\n",
            "The following NEW packages will be installed:\n",
            "  fonts-nanum\n",
            "0 upgraded, 1 newly installed, 0 to remove and 11 not upgraded.\n",
            "Need to get 9,604 kB of archives.\n",
            "After this operation, 29.5 MB of additional disk space will be used.\n",
            "Get:1 http://archive.ubuntu.com/ubuntu bionic/universe amd64 fonts-nanum all 20170925-1 [9,604 kB]\n",
            "Fetched 9,604 kB in 0s (45.6 MB/s)\n",
            "debconf: unable to initialize frontend: Dialog\n",
            "debconf: (No usable dialog-like program is installed, so the dialog based frontend cannot be used. at /usr/share/perl5/Debconf/FrontEnd/Dialog.pm line 76, <> line 1.)\n",
            "debconf: falling back to frontend: Readline\n",
            "debconf: unable to initialize frontend: Readline\n",
            "debconf: (This frontend requires a controlling tty.)\n",
            "debconf: falling back to frontend: Teletype\n",
            "dpkg-preconfigure: unable to re-open stdin: \n",
            "Selecting previously unselected package fonts-nanum.\n",
            "(Reading database ... 144676 files and directories currently installed.)\n",
            "Preparing to unpack .../fonts-nanum_20170925-1_all.deb ...\n",
            "Unpacking fonts-nanum (20170925-1) ...\n",
            "Setting up fonts-nanum (20170925-1) ...\n",
            "Processing triggers for fontconfig (2.12.6-0ubuntu2) ...\n",
            "/usr/share/fonts: caching, new cache contents: 0 fonts, 1 dirs\n",
            "/usr/share/fonts/truetype: caching, new cache contents: 0 fonts, 3 dirs\n",
            "/usr/share/fonts/truetype/humor-sans: caching, new cache contents: 1 fonts, 0 dirs\n",
            "/usr/share/fonts/truetype/liberation: caching, new cache contents: 16 fonts, 0 dirs\n",
            "/usr/share/fonts/truetype/nanum: caching, new cache contents: 10 fonts, 0 dirs\n",
            "/usr/local/share/fonts: caching, new cache contents: 0 fonts, 0 dirs\n",
            "/root/.local/share/fonts: skipping, no such directory\n",
            "/root/.fonts: skipping, no such directory\n",
            "/var/cache/fontconfig: cleaning cache directory\n",
            "/root/.cache/fontconfig: not cleaning non-existent cache directory\n",
            "/root/.fontconfig: not cleaning non-existent cache directory\n",
            "fc-cache: succeeded\n"
          ],
          "name": "stdout"
        }
      ]
    },
    {
      "cell_type": "code",
      "metadata": {
        "id": "a7TaL_2nEicG",
        "colab_type": "code",
        "colab": {
          "base_uri": "https://localhost:8080/",
          "height": 35
        },
        "outputId": "1b99a977-ac93-48d2-e73e-3fd635c2114e"
      },
      "source": [
        "from google.colab import drive\n",
        "drive.mount('/content/drive')"
      ],
      "execution_count": null,
      "outputs": [
        {
          "output_type": "stream",
          "text": [
            "Drive already mounted at /content/drive; to attempt to forcibly remount, call drive.mount(\"/content/drive\", force_remount=True).\n"
          ],
          "name": "stdout"
        }
      ]
    },
    {
      "cell_type": "code",
      "metadata": {
        "id": "OOPFUUreEXpf",
        "colab_type": "code",
        "colab": {}
      },
      "source": [
        "import pandas as pd\n",
        "import numpy as np\n",
        "import matplotlib as mpl\n",
        "import matplotlib.pyplot as plt\n",
        "import seaborn as sns\n",
        "import warnings\n",
        "\n",
        "warnings.filterwarnings('ignore')\n",
        "plt.rc('font', family='NanumBarunGothic')\n",
        "plt.rcParams['figure.figsize'] = (10,7)\n",
        "\n",
        "pd.set_option('display.float_format', lambda x: '%.2f' %x)\n",
        "\n",
        "%matplotlib inline"
      ],
      "execution_count": null,
      "outputs": []
    },
    {
      "cell_type": "code",
      "metadata": {
        "id": "veDYhNk1EXpi",
        "colab_type": "code",
        "colab": {}
      },
      "source": [
        "df = pd.read_csv('/content/drive/My Drive/Capstone-project/data/national-pension-202008.csv', encoding='cp949')"
      ],
      "execution_count": null,
      "outputs": []
    },
    {
      "cell_type": "code",
      "metadata": {
        "id": "lZHtjqnIEXpk",
        "colab_type": "code",
        "colab": {}
      },
      "source": [
        "# df.head()"
      ],
      "execution_count": null,
      "outputs": []
    },
    {
      "cell_type": "markdown",
      "metadata": {
        "id": "U4XGYY_NEXpm",
        "colab_type": "text"
      },
      "source": [
        "#### Column 정리 (Clean)"
      ]
    },
    {
      "cell_type": "code",
      "metadata": {
        "id": "8OjaiInAEXpm",
        "colab_type": "code",
        "colab": {
          "base_uri": "https://localhost:8080/",
          "height": 202
        },
        "outputId": "fc0dd373-12bc-4d6b-cae6-f109f3ef11cc"
      },
      "source": [
        "df.columns"
      ],
      "execution_count": null,
      "outputs": [
        {
          "output_type": "execute_result",
          "data": {
            "text/plain": [
              "Index(['자료생성년월(자격마감일(사유발생일이 속하는 달의 다음달 15일)까지 신고분 반영)', ' 사업장명', ' 사업자등록번호',\n",
              "       ' 사업장가입상태코드 1:등록2:탈퇴', ' 우편번호', ' 사업장지번상세주소', ' 사업장도로명상세주소',\n",
              "       ' 고객법정동주소코드', ' 고객행정동주소코드', ' 법정동주소광역시도코드', ' 법정동주소광역시시군구코드',\n",
              "       ' 법정동주소광역시시군구읍면동코드', ' 사업장형태구분코드 1:법인2:개인', ' 사업장업종코드', ' 사업장업종코드명',\n",
              "       ' 적용일자', ' 재등록일자', ' 탈퇴일자', ' 가입자수(고지인원 수 포함)',\n",
              "       ' 당월고지금액(※ 국민연금법 시행령 제5조에 의거 기준소득월액 상한액 적용으로 실제소득과 고지금액은 상이할 수 있음 : 상한액 2019.7.~2020.6. 4860000원(2019.7.1.기준) 상한액 2020.7.~2021.6. 5030000원(2020.7.1.기준))',\n",
              "       ' 신규취득자수(납부재개 포함 : ※ 전달 고지대상자와 비교하므로 실제 취득자와 상이할 수 있음(초일취득 고지 초일이 아닌경우. 미고지(다음달 취득자수에 반영))',\n",
              "       ' 상실가입자수(납부예외 포함 : ※ 전달 고지대상자와 비교하므로 실제 퇴사자와 상이할 수 있음(초일이 아닌 상실자는 다음달 상실자수에 반영) 국민연금법 제6조 8조 동법 시행령 제18조에 의거 60세 도달하거나 퇴직연금수급자 조기노령연금 수급권을 취득한 자는 가입대상에서 제외되며 18세미만 기초수급자는 본인희망에 의해 제외될 수 있음)'],\n",
              "      dtype='object')"
            ]
          },
          "metadata": {
            "tags": []
          },
          "execution_count": 6
        }
      ]
    },
    {
      "cell_type": "code",
      "metadata": {
        "id": "xqfAjWXUEXpr",
        "colab_type": "code",
        "colab": {}
      },
      "source": [
        "columns = ['자료생성년월', '사업장명', '사업자번호', '가입상태', '우편번호', '지번주소', '도로명주소', '법정주소코드', \n",
        "           '행정주소코드', '광역시코드', '시군구코드', '읍면동코드', '사업장형태', '업종코드', '업종코드명', \n",
        "           '적용일', '재등록일', '탈퇴일', '가입자수', '고지금액', '신규', '상실',]"
      ],
      "execution_count": null,
      "outputs": []
    },
    {
      "cell_type": "code",
      "metadata": {
        "id": "AqkOriecEXpv",
        "colab_type": "code",
        "colab": {
          "base_uri": "https://localhost:8080/",
          "height": 54
        },
        "outputId": "c3a9d442-d710-4309-8fac-03402e65a13e"
      },
      "source": [
        "print(\"df.columns 열개수:\", len(df.columns))\n",
        "print(\"columns 열개수:\", len(columns))"
      ],
      "execution_count": null,
      "outputs": [
        {
          "output_type": "stream",
          "text": [
            "df.columns 열개수: 22\n",
            "columns 열개수: 22\n"
          ],
          "name": "stdout"
        }
      ]
    },
    {
      "cell_type": "code",
      "metadata": {
        "id": "l0_iIQDvEXp0",
        "colab_type": "code",
        "colab": {}
      },
      "source": [
        "df.columns = columns   # df.columns에 새로 정리한 columns을 대입"
      ],
      "execution_count": null,
      "outputs": []
    },
    {
      "cell_type": "code",
      "metadata": {
        "id": "7NS3cPdXEXp2",
        "colab_type": "code",
        "colab": {
          "base_uri": "https://localhost:8080/",
          "height": 304
        },
        "outputId": "a722affd-405d-470a-83b5-ae537101cd2e"
      },
      "source": [
        "df.head()"
      ],
      "execution_count": null,
      "outputs": [
        {
          "output_type": "execute_result",
          "data": {
            "text/html": [
              "<div>\n",
              "<style scoped>\n",
              "    .dataframe tbody tr th:only-of-type {\n",
              "        vertical-align: middle;\n",
              "    }\n",
              "\n",
              "    .dataframe tbody tr th {\n",
              "        vertical-align: top;\n",
              "    }\n",
              "\n",
              "    .dataframe thead th {\n",
              "        text-align: right;\n",
              "    }\n",
              "</style>\n",
              "<table border=\"1\" class=\"dataframe\">\n",
              "  <thead>\n",
              "    <tr style=\"text-align: right;\">\n",
              "      <th></th>\n",
              "      <th>자료생성년월</th>\n",
              "      <th>사업장명</th>\n",
              "      <th>사업자번호</th>\n",
              "      <th>가입상태</th>\n",
              "      <th>우편번호</th>\n",
              "      <th>지번주소</th>\n",
              "      <th>도로명주소</th>\n",
              "      <th>법정주소코드</th>\n",
              "      <th>행정주소코드</th>\n",
              "      <th>광역시코드</th>\n",
              "      <th>시군구코드</th>\n",
              "      <th>읍면동코드</th>\n",
              "      <th>사업장형태</th>\n",
              "      <th>업종코드</th>\n",
              "      <th>업종코드명</th>\n",
              "      <th>적용일</th>\n",
              "      <th>재등록일</th>\n",
              "      <th>탈퇴일</th>\n",
              "      <th>가입자수</th>\n",
              "      <th>고지금액</th>\n",
              "      <th>신규</th>\n",
              "      <th>상실</th>\n",
              "    </tr>\n",
              "  </thead>\n",
              "  <tbody>\n",
              "    <tr>\n",
              "      <th>0</th>\n",
              "      <td>202007</td>\n",
              "      <td>우성기전(주)</td>\n",
              "      <td>126811</td>\n",
              "      <td>1</td>\n",
              "      <td>12816</td>\n",
              "      <td>경기도 광주시 도척면</td>\n",
              "      <td>경기도 광주시 도척면 도척윗로</td>\n",
              "      <td>4161033025</td>\n",
              "      <td>4161033025</td>\n",
              "      <td>41</td>\n",
              "      <td>610</td>\n",
              "      <td>330</td>\n",
              "      <td>1</td>\n",
              "      <td>292201</td>\n",
              "      <td>동력식 수지 공구 제조업</td>\n",
              "      <td>19880101</td>\n",
              "      <td>10101</td>\n",
              "      <td>10101</td>\n",
              "      <td>5</td>\n",
              "      <td>792720</td>\n",
              "      <td>0</td>\n",
              "      <td>0</td>\n",
              "    </tr>\n",
              "    <tr>\n",
              "      <th>1</th>\n",
              "      <td>202007</td>\n",
              "      <td>서능공원묘지운영회(재)</td>\n",
              "      <td>102820</td>\n",
              "      <td>1</td>\n",
              "      <td>11191</td>\n",
              "      <td>경기도 포천시 내촌면</td>\n",
              "      <td></td>\n",
              "      <td>4165032022</td>\n",
              "      <td>4165032022</td>\n",
              "      <td>41</td>\n",
              "      <td>650</td>\n",
              "      <td>320</td>\n",
              "      <td>1</td>\n",
              "      <td>701700</td>\n",
              "      <td>화장터 운영  묘지 분양 및 관리업</td>\n",
              "      <td>19880101</td>\n",
              "      <td>10101</td>\n",
              "      <td>10101</td>\n",
              "      <td>13</td>\n",
              "      <td>3278460</td>\n",
              "      <td>0</td>\n",
              "      <td>0</td>\n",
              "    </tr>\n",
              "    <tr>\n",
              "      <th>2</th>\n",
              "      <td>202007</td>\n",
              "      <td>노들새마을금고</td>\n",
              "      <td>108820</td>\n",
              "      <td>1</td>\n",
              "      <td>6923</td>\n",
              "      <td>서울특별시 동작구 노량진동</td>\n",
              "      <td>서울특별시 동작구 만양로</td>\n",
              "      <td>1159010100</td>\n",
              "      <td>1159051000</td>\n",
              "      <td>11</td>\n",
              "      <td>590</td>\n",
              "      <td>101</td>\n",
              "      <td>1</td>\n",
              "      <td>659202</td>\n",
              "      <td>신용조합</td>\n",
              "      <td>19880101</td>\n",
              "      <td>10101</td>\n",
              "      <td>10101</td>\n",
              "      <td>14</td>\n",
              "      <td>4839540</td>\n",
              "      <td>0</td>\n",
              "      <td>1</td>\n",
              "    </tr>\n",
              "    <tr>\n",
              "      <th>3</th>\n",
              "      <td>202007</td>\n",
              "      <td>유창성업(주)</td>\n",
              "      <td>122812</td>\n",
              "      <td>1</td>\n",
              "      <td>22849</td>\n",
              "      <td>인천광역시 서구 오류동</td>\n",
              "      <td>인천광역시 서구 갑문2로</td>\n",
              "      <td>2826011900</td>\n",
              "      <td>2826072000</td>\n",
              "      <td>28</td>\n",
              "      <td>260</td>\n",
              "      <td>119</td>\n",
              "      <td>1</td>\n",
              "      <td>749604</td>\n",
              "      <td>그 외 기타 분류 안된 사업 지원 서비스업(기타임가공</td>\n",
              "      <td>19880101</td>\n",
              "      <td>10101</td>\n",
              "      <td>10101</td>\n",
              "      <td>28</td>\n",
              "      <td>5575460</td>\n",
              "      <td>0</td>\n",
              "      <td>0</td>\n",
              "    </tr>\n",
              "    <tr>\n",
              "      <th>4</th>\n",
              "      <td>202007</td>\n",
              "      <td>희성전자(주)</td>\n",
              "      <td>106810</td>\n",
              "      <td>1</td>\n",
              "      <td>4410</td>\n",
              "      <td>서울특별시 용산구 한남동</td>\n",
              "      <td>서울특별시 용산구 독서당로14길</td>\n",
              "      <td>1117013100</td>\n",
              "      <td>1117067000</td>\n",
              "      <td>11</td>\n",
              "      <td>170</td>\n",
              "      <td>131</td>\n",
              "      <td>1</td>\n",
              "      <td>701201</td>\n",
              "      <td>비주거용 건물 임대업(점포  자기땅)</td>\n",
              "      <td>19880101</td>\n",
              "      <td>10101</td>\n",
              "      <td>10101</td>\n",
              "      <td>496</td>\n",
              "      <td>208935540</td>\n",
              "      <td>0</td>\n",
              "      <td>2</td>\n",
              "    </tr>\n",
              "  </tbody>\n",
              "</table>\n",
              "</div>"
            ],
            "text/plain": [
              "   자료생성년월          사업장명   사업자번호  가입상태   우편번호  ...    탈퇴일 가입자수       고지금액 신규  상실\n",
              "0  202007       우성기전(주)  126811     1  12816  ...  10101    5     792720  0   0\n",
              "1  202007  서능공원묘지운영회(재)  102820     1  11191  ...  10101   13    3278460  0   0\n",
              "2  202007       노들새마을금고  108820     1   6923  ...  10101   14    4839540  0   1\n",
              "3  202007       유창성업(주)  122812     1  22849  ...  10101   28    5575460  0   0\n",
              "4  202007       희성전자(주)  106810     1   4410  ...  10101  496  208935540  0   2\n",
              "\n",
              "[5 rows x 22 columns]"
            ]
          },
          "metadata": {
            "tags": []
          },
          "execution_count": 10
        }
      ]
    },
    {
      "cell_type": "markdown",
      "metadata": {
        "id": "Cejy4tX0EXp4",
        "colab_type": "text"
      },
      "source": [
        "#### 데이터 전처리(정제) : 핵심 데이터 column 추출"
      ]
    },
    {
      "cell_type": "code",
      "metadata": {
        "id": "qsB6MXaQEXp4",
        "colab_type": "code",
        "colab": {}
      },
      "source": [
        "df_main = df[['사업장명', '가입자수', '신규', '상실', '고지금액']]   # 특정 변수에 대한 정보를 추출하기 위함"
      ],
      "execution_count": null,
      "outputs": []
    },
    {
      "cell_type": "code",
      "metadata": {
        "id": "yu99srR1EXp6",
        "colab_type": "code",
        "colab": {
          "base_uri": "https://localhost:8080/",
          "height": 201
        },
        "outputId": "9752ad03-9684-407c-cac1-4f16c472476b"
      },
      "source": [
        "# df.head()\n",
        "df_main.head()"
      ],
      "execution_count": null,
      "outputs": [
        {
          "output_type": "execute_result",
          "data": {
            "text/html": [
              "<div>\n",
              "<style scoped>\n",
              "    .dataframe tbody tr th:only-of-type {\n",
              "        vertical-align: middle;\n",
              "    }\n",
              "\n",
              "    .dataframe tbody tr th {\n",
              "        vertical-align: top;\n",
              "    }\n",
              "\n",
              "    .dataframe thead th {\n",
              "        text-align: right;\n",
              "    }\n",
              "</style>\n",
              "<table border=\"1\" class=\"dataframe\">\n",
              "  <thead>\n",
              "    <tr style=\"text-align: right;\">\n",
              "      <th></th>\n",
              "      <th>사업장명</th>\n",
              "      <th>가입자수</th>\n",
              "      <th>신규</th>\n",
              "      <th>상실</th>\n",
              "      <th>고지금액</th>\n",
              "    </tr>\n",
              "  </thead>\n",
              "  <tbody>\n",
              "    <tr>\n",
              "      <th>0</th>\n",
              "      <td>우성기전(주)</td>\n",
              "      <td>5</td>\n",
              "      <td>0</td>\n",
              "      <td>0</td>\n",
              "      <td>792720</td>\n",
              "    </tr>\n",
              "    <tr>\n",
              "      <th>1</th>\n",
              "      <td>서능공원묘지운영회(재)</td>\n",
              "      <td>13</td>\n",
              "      <td>0</td>\n",
              "      <td>0</td>\n",
              "      <td>3278460</td>\n",
              "    </tr>\n",
              "    <tr>\n",
              "      <th>2</th>\n",
              "      <td>노들새마을금고</td>\n",
              "      <td>14</td>\n",
              "      <td>0</td>\n",
              "      <td>1</td>\n",
              "      <td>4839540</td>\n",
              "    </tr>\n",
              "    <tr>\n",
              "      <th>3</th>\n",
              "      <td>유창성업(주)</td>\n",
              "      <td>28</td>\n",
              "      <td>0</td>\n",
              "      <td>0</td>\n",
              "      <td>5575460</td>\n",
              "    </tr>\n",
              "    <tr>\n",
              "      <th>4</th>\n",
              "      <td>희성전자(주)</td>\n",
              "      <td>496</td>\n",
              "      <td>0</td>\n",
              "      <td>2</td>\n",
              "      <td>208935540</td>\n",
              "    </tr>\n",
              "  </tbody>\n",
              "</table>\n",
              "</div>"
            ],
            "text/plain": [
              "           사업장명  가입자수  신규  상실       고지금액\n",
              "0       우성기전(주)     5   0   0     792720\n",
              "1  서능공원묘지운영회(재)    13   0   0    3278460\n",
              "2       노들새마을금고    14   0   1    4839540\n",
              "3       유창성업(주)    28   0   0    5575460\n",
              "4       희성전자(주)   496   0   2  208935540"
            ]
          },
          "metadata": {
            "tags": []
          },
          "execution_count": 12
        }
      ]
    },
    {
      "cell_type": "markdown",
      "metadata": {
        "id": "qpiPeX2LEXp8",
        "colab_type": "text"
      },
      "source": [
        "#### 데이터 분석: 통계 처리"
      ]
    },
    {
      "cell_type": "code",
      "metadata": {
        "id": "fE9gP0FEEXp8",
        "colab_type": "code",
        "colab": {
          "base_uri": "https://localhost:8080/",
          "height": 35
        },
        "outputId": "520d0622-8df2-4df0-ad31-fc648f388677"
      },
      "source": [
        "df_main['신규'].mean()"
      ],
      "execution_count": null,
      "outputs": [
        {
          "output_type": "execute_result",
          "data": {
            "text/plain": [
              "0.8304567228935282"
            ]
          },
          "metadata": {
            "tags": []
          },
          "execution_count": 13
        }
      ]
    },
    {
      "cell_type": "code",
      "metadata": {
        "id": "zVkcfyNyEXp_",
        "colab_type": "code",
        "colab": {
          "base_uri": "https://localhost:8080/",
          "height": 35
        },
        "outputId": "4093fb86-33f6-4aef-e9f2-13d1d7aefd85"
      },
      "source": [
        "df_main['상실'].mean()"
      ],
      "execution_count": null,
      "outputs": [
        {
          "output_type": "execute_result",
          "data": {
            "text/plain": [
              "0.6406682860726561"
            ]
          },
          "metadata": {
            "tags": []
          },
          "execution_count": 14
        }
      ]
    },
    {
      "cell_type": "code",
      "metadata": {
        "id": "4YfPgBoQEXqB",
        "colab_type": "code",
        "colab": {
          "base_uri": "https://localhost:8080/",
          "height": 35
        },
        "outputId": "2e5f09e4-aca4-40e1-ff9d-6d007ba29522"
      },
      "source": [
        "df_main['가입자수'].mean()"
      ],
      "execution_count": null,
      "outputs": [
        {
          "output_type": "execute_result",
          "data": {
            "text/plain": [
              "19.58097191500251"
            ]
          },
          "metadata": {
            "tags": []
          },
          "execution_count": 15
        }
      ]
    },
    {
      "cell_type": "code",
      "metadata": {
        "id": "4lfrKPdIEXqC",
        "colab_type": "code",
        "colab": {
          "base_uri": "https://localhost:8080/",
          "height": 35
        },
        "outputId": "acf5fe20-9091-49fd-952d-9f76a36bdb24"
      },
      "source": [
        "df_main['고지금액'].mean()"
      ],
      "execution_count": null,
      "outputs": [
        {
          "output_type": "execute_result",
          "data": {
            "text/plain": [
              "5682724.167521281"
            ]
          },
          "metadata": {
            "tags": []
          },
          "execution_count": 16
        }
      ]
    },
    {
      "cell_type": "markdown",
      "metadata": {
        "id": "lGwGO6mJEXqE",
        "colab_type": "text"
      },
      "source": [
        "#### 월급, 연봉 추정 하기"
      ]
    },
    {
      "cell_type": "code",
      "metadata": {
        "id": "0fgIj8YrEXqE",
        "colab_type": "code",
        "colab": {
          "base_uri": "https://localhost:8080/",
          "height": 127
        },
        "outputId": "6589974b-15f7-4dae-a704-5c16b92da2eb"
      },
      "source": [
        "(df_main['고지금액'] / df_main['가입자수']).head()  # 인당고지금액 계산"
      ],
      "execution_count": null,
      "outputs": [
        {
          "output_type": "execute_result",
          "data": {
            "text/plain": [
              "0   158544.00\n",
              "1   252189.23\n",
              "2   345681.43\n",
              "3   199123.57\n",
              "4   421241.01\n",
              "dtype: float64"
            ]
          },
          "metadata": {
            "tags": []
          },
          "execution_count": 17
        }
      ]
    },
    {
      "cell_type": "code",
      "metadata": {
        "id": "tD9MeRC_EXqG",
        "colab_type": "code",
        "colab": {
          "base_uri": "https://localhost:8080/",
          "height": 201
        },
        "outputId": "c0f93e2d-e2b9-4dcd-9c80-d2b7b74e5a45"
      },
      "source": [
        "# 인당고지금액 열(column) 추가하기\n",
        "df_main['인당고지금액'] = df_main['고지금액'] / df_main['가입자수']\n",
        "df_main.head()"
      ],
      "execution_count": null,
      "outputs": [
        {
          "output_type": "execute_result",
          "data": {
            "text/html": [
              "<div>\n",
              "<style scoped>\n",
              "    .dataframe tbody tr th:only-of-type {\n",
              "        vertical-align: middle;\n",
              "    }\n",
              "\n",
              "    .dataframe tbody tr th {\n",
              "        vertical-align: top;\n",
              "    }\n",
              "\n",
              "    .dataframe thead th {\n",
              "        text-align: right;\n",
              "    }\n",
              "</style>\n",
              "<table border=\"1\" class=\"dataframe\">\n",
              "  <thead>\n",
              "    <tr style=\"text-align: right;\">\n",
              "      <th></th>\n",
              "      <th>사업장명</th>\n",
              "      <th>가입자수</th>\n",
              "      <th>신규</th>\n",
              "      <th>상실</th>\n",
              "      <th>고지금액</th>\n",
              "      <th>인당고지금액</th>\n",
              "    </tr>\n",
              "  </thead>\n",
              "  <tbody>\n",
              "    <tr>\n",
              "      <th>0</th>\n",
              "      <td>우성기전(주)</td>\n",
              "      <td>5</td>\n",
              "      <td>0</td>\n",
              "      <td>0</td>\n",
              "      <td>792720</td>\n",
              "      <td>158544.00</td>\n",
              "    </tr>\n",
              "    <tr>\n",
              "      <th>1</th>\n",
              "      <td>서능공원묘지운영회(재)</td>\n",
              "      <td>13</td>\n",
              "      <td>0</td>\n",
              "      <td>0</td>\n",
              "      <td>3278460</td>\n",
              "      <td>252189.23</td>\n",
              "    </tr>\n",
              "    <tr>\n",
              "      <th>2</th>\n",
              "      <td>노들새마을금고</td>\n",
              "      <td>14</td>\n",
              "      <td>0</td>\n",
              "      <td>1</td>\n",
              "      <td>4839540</td>\n",
              "      <td>345681.43</td>\n",
              "    </tr>\n",
              "    <tr>\n",
              "      <th>3</th>\n",
              "      <td>유창성업(주)</td>\n",
              "      <td>28</td>\n",
              "      <td>0</td>\n",
              "      <td>0</td>\n",
              "      <td>5575460</td>\n",
              "      <td>199123.57</td>\n",
              "    </tr>\n",
              "    <tr>\n",
              "      <th>4</th>\n",
              "      <td>희성전자(주)</td>\n",
              "      <td>496</td>\n",
              "      <td>0</td>\n",
              "      <td>2</td>\n",
              "      <td>208935540</td>\n",
              "      <td>421241.01</td>\n",
              "    </tr>\n",
              "  </tbody>\n",
              "</table>\n",
              "</div>"
            ],
            "text/plain": [
              "           사업장명  가입자수  신규  상실       고지금액    인당고지금액\n",
              "0       우성기전(주)     5   0   0     792720 158544.00\n",
              "1  서능공원묘지운영회(재)    13   0   0    3278460 252189.23\n",
              "2       노들새마을금고    14   0   1    4839540 345681.43\n",
              "3       유창성업(주)    28   0   0    5575460 199123.57\n",
              "4       희성전자(주)   496   0   2  208935540 421241.01"
            ]
          },
          "metadata": {
            "tags": []
          },
          "execution_count": 18
        }
      ]
    },
    {
      "cell_type": "code",
      "metadata": {
        "id": "j-f80jWtEXqI",
        "colab_type": "code",
        "colab": {
          "base_uri": "https://localhost:8080/",
          "height": 304
        },
        "outputId": "3742bee0-d68f-400d-e815-14b37cb7c785"
      },
      "source": [
        "df['인당고지금액'] = df['고지금액'] / df['가입자수']\n",
        "df.head()"
      ],
      "execution_count": null,
      "outputs": [
        {
          "output_type": "execute_result",
          "data": {
            "text/html": [
              "<div>\n",
              "<style scoped>\n",
              "    .dataframe tbody tr th:only-of-type {\n",
              "        vertical-align: middle;\n",
              "    }\n",
              "\n",
              "    .dataframe tbody tr th {\n",
              "        vertical-align: top;\n",
              "    }\n",
              "\n",
              "    .dataframe thead th {\n",
              "        text-align: right;\n",
              "    }\n",
              "</style>\n",
              "<table border=\"1\" class=\"dataframe\">\n",
              "  <thead>\n",
              "    <tr style=\"text-align: right;\">\n",
              "      <th></th>\n",
              "      <th>자료생성년월</th>\n",
              "      <th>사업장명</th>\n",
              "      <th>사업자번호</th>\n",
              "      <th>가입상태</th>\n",
              "      <th>우편번호</th>\n",
              "      <th>지번주소</th>\n",
              "      <th>도로명주소</th>\n",
              "      <th>법정주소코드</th>\n",
              "      <th>행정주소코드</th>\n",
              "      <th>광역시코드</th>\n",
              "      <th>시군구코드</th>\n",
              "      <th>읍면동코드</th>\n",
              "      <th>사업장형태</th>\n",
              "      <th>업종코드</th>\n",
              "      <th>업종코드명</th>\n",
              "      <th>적용일</th>\n",
              "      <th>재등록일</th>\n",
              "      <th>탈퇴일</th>\n",
              "      <th>가입자수</th>\n",
              "      <th>고지금액</th>\n",
              "      <th>신규</th>\n",
              "      <th>상실</th>\n",
              "      <th>인당고지금액</th>\n",
              "    </tr>\n",
              "  </thead>\n",
              "  <tbody>\n",
              "    <tr>\n",
              "      <th>0</th>\n",
              "      <td>202007</td>\n",
              "      <td>우성기전(주)</td>\n",
              "      <td>126811</td>\n",
              "      <td>1</td>\n",
              "      <td>12816</td>\n",
              "      <td>경기도 광주시 도척면</td>\n",
              "      <td>경기도 광주시 도척면 도척윗로</td>\n",
              "      <td>4161033025</td>\n",
              "      <td>4161033025</td>\n",
              "      <td>41</td>\n",
              "      <td>610</td>\n",
              "      <td>330</td>\n",
              "      <td>1</td>\n",
              "      <td>292201</td>\n",
              "      <td>동력식 수지 공구 제조업</td>\n",
              "      <td>19880101</td>\n",
              "      <td>10101</td>\n",
              "      <td>10101</td>\n",
              "      <td>5</td>\n",
              "      <td>792720</td>\n",
              "      <td>0</td>\n",
              "      <td>0</td>\n",
              "      <td>158544.00</td>\n",
              "    </tr>\n",
              "    <tr>\n",
              "      <th>1</th>\n",
              "      <td>202007</td>\n",
              "      <td>서능공원묘지운영회(재)</td>\n",
              "      <td>102820</td>\n",
              "      <td>1</td>\n",
              "      <td>11191</td>\n",
              "      <td>경기도 포천시 내촌면</td>\n",
              "      <td></td>\n",
              "      <td>4165032022</td>\n",
              "      <td>4165032022</td>\n",
              "      <td>41</td>\n",
              "      <td>650</td>\n",
              "      <td>320</td>\n",
              "      <td>1</td>\n",
              "      <td>701700</td>\n",
              "      <td>화장터 운영  묘지 분양 및 관리업</td>\n",
              "      <td>19880101</td>\n",
              "      <td>10101</td>\n",
              "      <td>10101</td>\n",
              "      <td>13</td>\n",
              "      <td>3278460</td>\n",
              "      <td>0</td>\n",
              "      <td>0</td>\n",
              "      <td>252189.23</td>\n",
              "    </tr>\n",
              "    <tr>\n",
              "      <th>2</th>\n",
              "      <td>202007</td>\n",
              "      <td>노들새마을금고</td>\n",
              "      <td>108820</td>\n",
              "      <td>1</td>\n",
              "      <td>6923</td>\n",
              "      <td>서울특별시 동작구 노량진동</td>\n",
              "      <td>서울특별시 동작구 만양로</td>\n",
              "      <td>1159010100</td>\n",
              "      <td>1159051000</td>\n",
              "      <td>11</td>\n",
              "      <td>590</td>\n",
              "      <td>101</td>\n",
              "      <td>1</td>\n",
              "      <td>659202</td>\n",
              "      <td>신용조합</td>\n",
              "      <td>19880101</td>\n",
              "      <td>10101</td>\n",
              "      <td>10101</td>\n",
              "      <td>14</td>\n",
              "      <td>4839540</td>\n",
              "      <td>0</td>\n",
              "      <td>1</td>\n",
              "      <td>345681.43</td>\n",
              "    </tr>\n",
              "    <tr>\n",
              "      <th>3</th>\n",
              "      <td>202007</td>\n",
              "      <td>유창성업(주)</td>\n",
              "      <td>122812</td>\n",
              "      <td>1</td>\n",
              "      <td>22849</td>\n",
              "      <td>인천광역시 서구 오류동</td>\n",
              "      <td>인천광역시 서구 갑문2로</td>\n",
              "      <td>2826011900</td>\n",
              "      <td>2826072000</td>\n",
              "      <td>28</td>\n",
              "      <td>260</td>\n",
              "      <td>119</td>\n",
              "      <td>1</td>\n",
              "      <td>749604</td>\n",
              "      <td>그 외 기타 분류 안된 사업 지원 서비스업(기타임가공</td>\n",
              "      <td>19880101</td>\n",
              "      <td>10101</td>\n",
              "      <td>10101</td>\n",
              "      <td>28</td>\n",
              "      <td>5575460</td>\n",
              "      <td>0</td>\n",
              "      <td>0</td>\n",
              "      <td>199123.57</td>\n",
              "    </tr>\n",
              "    <tr>\n",
              "      <th>4</th>\n",
              "      <td>202007</td>\n",
              "      <td>희성전자(주)</td>\n",
              "      <td>106810</td>\n",
              "      <td>1</td>\n",
              "      <td>4410</td>\n",
              "      <td>서울특별시 용산구 한남동</td>\n",
              "      <td>서울특별시 용산구 독서당로14길</td>\n",
              "      <td>1117013100</td>\n",
              "      <td>1117067000</td>\n",
              "      <td>11</td>\n",
              "      <td>170</td>\n",
              "      <td>131</td>\n",
              "      <td>1</td>\n",
              "      <td>701201</td>\n",
              "      <td>비주거용 건물 임대업(점포  자기땅)</td>\n",
              "      <td>19880101</td>\n",
              "      <td>10101</td>\n",
              "      <td>10101</td>\n",
              "      <td>496</td>\n",
              "      <td>208935540</td>\n",
              "      <td>0</td>\n",
              "      <td>2</td>\n",
              "      <td>421241.01</td>\n",
              "    </tr>\n",
              "  </tbody>\n",
              "</table>\n",
              "</div>"
            ],
            "text/plain": [
              "   자료생성년월          사업장명   사업자번호  가입상태   우편번호  ... 가입자수       고지금액  신규 상실    인당고지금액\n",
              "0  202007       우성기전(주)  126811     1  12816  ...    5     792720   0  0 158544.00\n",
              "1  202007  서능공원묘지운영회(재)  102820     1  11191  ...   13    3278460   0  0 252189.23\n",
              "2  202007       노들새마을금고  108820     1   6923  ...   14    4839540   0  1 345681.43\n",
              "3  202007       유창성업(주)  122812     1  22849  ...   28    5575460   0  0 199123.57\n",
              "4  202007       희성전자(주)  106810     1   4410  ...  496  208935540   0  2 421241.01\n",
              "\n",
              "[5 rows x 23 columns]"
            ]
          },
          "metadata": {
            "tags": []
          },
          "execution_count": 19
        }
      ]
    },
    {
      "cell_type": "code",
      "metadata": {
        "id": "3Hw9gVAZEXqK",
        "colab_type": "code",
        "colab": {
          "base_uri": "https://localhost:8080/",
          "height": 127
        },
        "outputId": "200d7c33-2cd7-4acf-c197-df62cbd17cf1"
      },
      "source": [
        "df_main['인당고지금액'].head()"
      ],
      "execution_count": null,
      "outputs": [
        {
          "output_type": "execute_result",
          "data": {
            "text/plain": [
              "0   158544.00\n",
              "1   252189.23\n",
              "2   345681.43\n",
              "3   199123.57\n",
              "4   421241.01\n",
              "Name: 인당고지금액, dtype: float64"
            ]
          },
          "metadata": {
            "tags": []
          },
          "execution_count": 20
        }
      ]
    },
    {
      "cell_type": "markdown",
      "metadata": {
        "id": "AJkVua1-EXqN",
        "colab_type": "text"
      },
      "source": [
        "-------------------------------------------------------------------------------------------------------------------\n",
        "**국민연금 정보로 어떻게 연봉정보를 계산하나요?**\n",
        "\n",
        "\n",
        "국민연금 보험률은 9%입니다. 쉽게 이야기 하면 급여(신고소득월액)의 9%를 국민연금으로 내는 것입니다. \n",
        "\n",
        "하지만 이를 절반으로 나누어 **4.5%는 회사가, 나머지 절반은 개인이 부담하는 구조**입니다. 회사는 급여 외에 추가로 금액을 부담합니다.\n",
        "\n",
        "국민연금 보험료는 **소득 상한선과 하한선이 설정되어 있어 소득 전체가 아닌 일부 소득에만 부과**됩니다.\n",
        "\n",
        "이를 역산하면 신고소득월액의 계산이 가능합니다. 하지만 **상한선과 하한선이 설정되어 있어 실제보다 과소계산**될 수 있습니다."
      ]
    },
    {
      "cell_type": "markdown",
      "metadata": {
        "id": "olWqLqXHEXqN",
        "colab_type": "text"
      },
      "source": [
        "-----------------------\n",
        "** [수식] **\n",
        "- 임직원 평균 월급 = 인당고지금액 / 9% * 100%\n",
        "- 임직원 평균 연봉 = 임직원 평균 월급 * 12개월"
      ]
    },
    {
      "cell_type": "code",
      "metadata": {
        "id": "y_L810EGEXqO",
        "colab_type": "code",
        "colab": {}
      },
      "source": [
        "df_main['평균월급'] = df_main['인당고지금액'] / 9 *100\n",
        "df['평균월급'] = df['인당고지금액'] / 9 * 100"
      ],
      "execution_count": null,
      "outputs": []
    },
    {
      "cell_type": "code",
      "metadata": {
        "id": "YI-KrmELEXqP",
        "colab_type": "code",
        "colab": {}
      },
      "source": [
        "df_main['평균연봉'] = df_main['평균월급'] * 12\n",
        "df['평균연봉'] = df['평균월급'] * 12"
      ],
      "execution_count": null,
      "outputs": []
    },
    {
      "cell_type": "code",
      "metadata": {
        "id": "zjWuyNEwEXqR",
        "colab_type": "code",
        "colab": {
          "base_uri": "https://localhost:8080/",
          "height": 35
        },
        "outputId": "6b659e37-51ef-41ea-d1ca-bf6815818c41"
      },
      "source": [
        "df_main['평균월급'].notnull().sum()"
      ],
      "execution_count": null,
      "outputs": [
        {
          "output_type": "execute_result",
          "data": {
            "text/plain": [
              "490078"
            ]
          },
          "metadata": {
            "tags": []
          },
          "execution_count": 23
        }
      ]
    },
    {
      "cell_type": "code",
      "metadata": {
        "id": "HNDfi_pPEXqT",
        "colab_type": "code",
        "colab": {
          "base_uri": "https://localhost:8080/",
          "height": 35
        },
        "outputId": "ab17b5ec-0fe5-4b93-f43b-4a995d732557"
      },
      "source": [
        "df['평균월급'].notnull().sum()"
      ],
      "execution_count": null,
      "outputs": [
        {
          "output_type": "execute_result",
          "data": {
            "text/plain": [
              "490078"
            ]
          },
          "metadata": {
            "tags": []
          },
          "execution_count": 24
        }
      ]
    },
    {
      "cell_type": "markdown",
      "metadata": {
        "id": "TtEIDqMLEXqU",
        "colab_type": "text"
      },
      "source": [
        "#### [부록] matplotlib에서 한글폰트 사용하기"
      ]
    },
    {
      "cell_type": "markdown",
      "metadata": {
        "id": "ysRo4si4EXqV",
        "colab_type": "text"
      },
      "source": [
        "**(1) 버전, 설치위치, 설정위치, 캐시위치 확인하기**"
      ]
    },
    {
      "cell_type": "code",
      "metadata": {
        "id": "5rjIB7rnEXqV",
        "colab_type": "code",
        "colab": {
          "base_uri": "https://localhost:8080/",
          "height": 90
        },
        "outputId": "71266be5-8b1d-4af9-819f-f9f3ebcd2b21"
      },
      "source": [
        "print('matplotlib-버전:', mpl.__version__)\n",
        "print('설치위치: ', mpl.__file__)\n",
        "print('설정위치: ', mpl.get_configdir())\n",
        "print('캐시위치: ', mpl.get_cachedir())"
      ],
      "execution_count": null,
      "outputs": [
        {
          "output_type": "stream",
          "text": [
            "matplotlib-버전: 3.2.2\n",
            "설치위치:  /usr/local/lib/python3.6/dist-packages/matplotlib/__init__.py\n",
            "설정위치:  /root/.config/matplotlib\n",
            "캐시위치:  /root/.cache/matplotlib\n"
          ],
          "name": "stdout"
        }
      ]
    },
    {
      "cell_type": "markdown",
      "metadata": {
        "id": "dkI5OxEYEXqa",
        "colab_type": "text"
      },
      "source": [
        "**(2) matplotlib의 위치정보를 알았으니 터미널을 이용해 해당 위치로 간다**"
      ]
    },
    {
      "cell_type": "code",
      "metadata": {
        "id": "ND2y-AzsEXqa",
        "colab_type": "code",
        "colab": {
          "base_uri": "https://localhost:8080/",
          "height": 35
        },
        "outputId": "a28d5a04-d952-4acc-af3d-3bfbb974f9ab"
      },
      "source": [
        "print('설정파일 위치: ', mpl.matplotlib_fname())"
      ],
      "execution_count": null,
      "outputs": [
        {
          "output_type": "stream",
          "text": [
            "설정파일 위치:  /usr/local/lib/python3.6/dist-packages/matplotlib/mpl-data/matplotlibrc\n"
          ],
          "name": "stdout"
        }
      ]
    },
    {
      "cell_type": "markdown",
      "metadata": {
        "id": "36n249VIEXqc",
        "colab_type": "text"
      },
      "source": [
        "**(3) 설치된 폰트를 찍어봄**"
      ]
    },
    {
      "cell_type": "code",
      "metadata": {
        "id": "NVoOWAyhEXqc",
        "colab_type": "code",
        "colab": {
          "base_uri": "https://localhost:8080/",
          "height": 35
        },
        "outputId": "83f886d6-4566-4db3-bdaf-c766d015f782"
      },
      "source": [
        "import matplotlib.font_manager as fm\n",
        "# 그래프에서 마이너스 폰트 깨지는 문제에 대한 대처\n",
        "mpl.rcParams['axes.unicode_minus'] = False\n",
        "\n",
        "font_list = fm.findSystemFonts(fontpaths = None, fontext = 'ttf')\n",
        "# print(font_list)\n",
        "len(font_list)"
      ],
      "execution_count": null,
      "outputs": [
        {
          "output_type": "execute_result",
          "data": {
            "text/plain": [
              "27"
            ]
          },
          "metadata": {
            "tags": []
          },
          "execution_count": 27
        }
      ]
    },
    {
      "cell_type": "code",
      "metadata": {
        "id": "5MyGg9hXEXqe",
        "colab_type": "code",
        "colab": {
          "base_uri": "https://localhost:8080/",
          "height": 200
        },
        "outputId": "d499bf23-3981-45b4-ac5f-8aabeab31511"
      },
      "source": [
        "font_list[:10] # 폰트리스트에서 10개만 가져오기"
      ],
      "execution_count": null,
      "outputs": [
        {
          "output_type": "execute_result",
          "data": {
            "text/plain": [
              "['/usr/share/fonts/truetype/liberation/LiberationSans-Bold.ttf',\n",
              " '/usr/share/fonts/truetype/nanum/NanumBarunGothicBold.ttf',\n",
              " '/usr/share/fonts/truetype/liberation/LiberationMono-Bold.ttf',\n",
              " '/usr/share/fonts/truetype/humor-sans/Humor-Sans.ttf',\n",
              " '/usr/share/fonts/truetype/liberation/LiberationSansNarrow-Italic.ttf',\n",
              " '/usr/share/fonts/truetype/liberation/LiberationSans-Italic.ttf',\n",
              " '/usr/share/fonts/truetype/liberation/LiberationSerif-Regular.ttf',\n",
              " '/usr/share/fonts/truetype/liberation/LiberationSansNarrow-Regular.ttf',\n",
              " '/usr/share/fonts/truetype/nanum/NanumSquareR.ttf',\n",
              " '/usr/share/fonts/truetype/liberation/LiberationMono-Regular.ttf']"
            ]
          },
          "metadata": {
            "tags": []
          },
          "execution_count": 28
        }
      ]
    },
    {
      "cell_type": "code",
      "metadata": {
        "id": "jmP0yF4hEXqg",
        "colab_type": "code",
        "colab": {}
      },
      "source": [
        "f = [f.name for f in fm.fontManager.ttflist]\n",
        "# print(f)"
      ],
      "execution_count": null,
      "outputs": []
    },
    {
      "cell_type": "code",
      "metadata": {
        "id": "ARHDA4nzEXqh",
        "colab_type": "code",
        "colab": {
          "base_uri": "https://localhost:8080/",
          "height": 219
        },
        "outputId": "2b764cce-add7-45f9-893c-458839f190f4"
      },
      "source": [
        "[(f.name, f.fname) for f in fm.fontManager.ttflist if 'Nanum' in f.name]"
      ],
      "execution_count": null,
      "outputs": [
        {
          "output_type": "execute_result",
          "data": {
            "text/plain": [
              "[('NanumBarunGothic',\n",
              "  '/usr/share/fonts/truetype/nanum/NanumBarunGothicBold.ttf'),\n",
              " ('NanumSquare', '/usr/share/fonts/truetype/nanum/NanumSquareR.ttf'),\n",
              " ('NanumGothic', '/usr/share/fonts/truetype/nanum/NanumGothic.ttf'),\n",
              " ('NanumGothic', '/usr/share/fonts/truetype/nanum/NanumGothicBold.ttf'),\n",
              " ('NanumSquare', '/usr/share/fonts/truetype/nanum/NanumSquareB.ttf'),\n",
              " ('NanumMyeongjo', '/usr/share/fonts/truetype/nanum/NanumMyeongjoBold.ttf'),\n",
              " ('NanumSquareRound', '/usr/share/fonts/truetype/nanum/NanumSquareRoundB.ttf'),\n",
              " ('NanumSquareRound', '/usr/share/fonts/truetype/nanum/NanumSquareRoundR.ttf'),\n",
              " ('NanumMyeongjo', '/usr/share/fonts/truetype/nanum/NanumMyeongjo.ttf'),\n",
              " ('NanumBarunGothic', '/usr/share/fonts/truetype/nanum/NanumBarunGothic.ttf')]"
            ]
          },
          "metadata": {
            "tags": []
          },
          "execution_count": 31
        }
      ]
    },
    {
      "cell_type": "markdown",
      "metadata": {
        "id": "6KyMgvIOEXqk",
        "colab_type": "text"
      },
      "source": [
        "#### ------------------------------------------------------------------------------------------------------------------------\n",
        "#### Seaborn을 사용한 데이터 분포 시각화: (참고: https://datascienceschool.net/view-notebook/4c2d5ff1caab4b21a708cc662137bc65/)\n",
        "- 1차원 실수 분포 플롯(Plot):\n",
        "  (1) rugplot: 러그는 데이터 위치를 x축위에 작은 선분(rug)으로 나타내어 실제 데이터들의 위치를 보여주는 방법\n",
        "  (2) kdeplot: 커널밀도(kernel density)는 커널이라는 함수를 겹치는 방법으로 히스토그램보다 부드러운 형태의 분포 곡선을 보여주는 방법\n",
        "  (3) distplot: 러그와 커널밀도 표시 기능을 동시에 갖고 있어 hist함수보다 많이 사용됨"
      ]
    },
    {
      "cell_type": "code",
      "metadata": {
        "id": "C-xR1oJUEXqk",
        "colab_type": "code",
        "colab": {
          "base_uri": "https://localhost:8080/",
          "height": 463
        },
        "outputId": "46eb0f18-ae97-48b8-f585-c51c6b942c8a"
      },
      "source": [
        "path = '/usr/share/fonts/truetype/nanum/NanumBarunGothic.ttf'   # 주피터 노트북에서 사용할 때 설치 문제 (다시 보기)\n",
        "fontprop = fm.FontProperties(fname=path, size=18)  # 한글폰트가 여전히 깨지는 문제 질문\n",
        "\n",
        "plt.figure(figsize=(10,7)) \n",
        "sns.distplot(df_main.loc[df_main['평균연봉'].notnull(), '평균연봉'], kde=True, rug=False)  # rug = True 변경시 그래프 표현의 차이에 관한 질문 \n",
        "plt.title('평균연봉', fontproperties = fontprop)\n",
        "plt.show()"
      ],
      "execution_count": null,
      "outputs": [
        {
          "output_type": "display_data",
          "data": {
            "image/png": "[encoded data removed]",
            "text/plain": [
              "<Figure size 720x504 with 1 Axes>"
            ]
          },
          "metadata": {
            "tags": [],
            "needs_background": "light"
          }
        }
      ]
    },
    {
      "cell_type": "code",
      "metadata": {
        "id": "iR9oUwF6EXqm",
        "colab_type": "code",
        "colab": {
          "base_uri": "https://localhost:8080/",
          "height": 463
        },
        "outputId": "6824c1ca-1ace-4d85-f83f-13963fc98694"
      },
      "source": [
        "plt.figure(figsize=(10,7)) \n",
        "sns.distplot(df_main.loc[df_main['평균월급'].notnull(), '평균월급'], kde=True, rug=False)  # rug = True 변경시 그래프 표현의 차이에 관한 질문 \n",
        "plt.title('평균월급', fontproperties = fontprop)\n",
        "plt.show()"
      ],
      "execution_count": null,
      "outputs": [
        {
          "output_type": "display_data",
          "data": {
            "image/png": "[encoded data removed]",
            "text/plain": [
              "<Figure size 720x504 with 1 Axes>"
            ]
          },
          "metadata": {
            "tags": [],
            "needs_background": "light"
          }
        }
      ]
    },
    {
      "cell_type": "markdown",
      "metadata": {
        "id": "HP0rHHHxEXqo",
        "colab_type": "text"
      },
      "source": [
        "#### 정렬(Order)\n",
        "- sort_values()\n",
        "- sort() : 리스트 안의 값에 대한 정렬(기본값: 오름차순 정렬, reverse()함수는 내림차순 정렬)"
      ]
    },
    {
      "cell_type": "code",
      "metadata": {
        "id": "ce52EAFDEXqo",
        "colab_type": "code",
        "colab": {
          "base_uri": "https://localhost:8080/",
          "height": 659
        },
        "outputId": "9a5b3dbd-9990-49f8-9e29-f083a0806e65"
      },
      "source": [
        "# 신규 입사자수가 가장 많은 순서대로 \n",
        "df_main.sort_values(by='가입자수', ascending=False).head(20)   # 가입자수가 적은 순서대로 추출하려면 (가입자수 =0 제외한 데이터 추출하려면)  "
      ],
      "execution_count": null,
      "outputs": [
        {
          "output_type": "execute_result",
          "data": {
            "text/html": [
              "<div>\n",
              "<style scoped>\n",
              "    .dataframe tbody tr th:only-of-type {\n",
              "        vertical-align: middle;\n",
              "    }\n",
              "\n",
              "    .dataframe tbody tr th {\n",
              "        vertical-align: top;\n",
              "    }\n",
              "\n",
              "    .dataframe thead th {\n",
              "        text-align: right;\n",
              "    }\n",
              "</style>\n",
              "<table border=\"1\" class=\"dataframe\">\n",
              "  <thead>\n",
              "    <tr style=\"text-align: right;\">\n",
              "      <th></th>\n",
              "      <th>사업장명</th>\n",
              "      <th>가입자수</th>\n",
              "      <th>신규</th>\n",
              "      <th>상실</th>\n",
              "      <th>고지금액</th>\n",
              "      <th>인당고지금액</th>\n",
              "      <th>평균월급</th>\n",
              "      <th>평균연봉</th>\n",
              "    </tr>\n",
              "  </thead>\n",
              "  <tbody>\n",
              "    <tr>\n",
              "      <th>4634</th>\n",
              "      <td>삼성전자(주)</td>\n",
              "      <td>103139</td>\n",
              "      <td>485</td>\n",
              "      <td>538</td>\n",
              "      <td>45835633380</td>\n",
              "      <td>444406.42</td>\n",
              "      <td>4937849.07</td>\n",
              "      <td>59254188.85</td>\n",
              "    </tr>\n",
              "    <tr>\n",
              "      <th>3586</th>\n",
              "      <td>현대자동차(주)</td>\n",
              "      <td>68010</td>\n",
              "      <td>593</td>\n",
              "      <td>301</td>\n",
              "      <td>30036022820</td>\n",
              "      <td>441641.27</td>\n",
              "      <td>4907125.23</td>\n",
              "      <td>58885502.76</td>\n",
              "    </tr>\n",
              "    <tr>\n",
              "      <th>14872</th>\n",
              "      <td>엘지전자(주)</td>\n",
              "      <td>40239</td>\n",
              "      <td>395</td>\n",
              "      <td>419</td>\n",
              "      <td>17465807440</td>\n",
              "      <td>434051.73</td>\n",
              "      <td>4822796.97</td>\n",
              "      <td>57873563.59</td>\n",
              "    </tr>\n",
              "    <tr>\n",
              "      <th>155649</th>\n",
              "      <td>에스케이하이닉스 주식회사</td>\n",
              "      <td>27812</td>\n",
              "      <td>121</td>\n",
              "      <td>124</td>\n",
              "      <td>12305766780</td>\n",
              "      <td>442462.49</td>\n",
              "      <td>4916249.89</td>\n",
              "      <td>58994998.71</td>\n",
              "    </tr>\n",
              "    <tr>\n",
              "      <th>204863</th>\n",
              "      <td>(주)이마트</td>\n",
              "      <td>27366</td>\n",
              "      <td>297</td>\n",
              "      <td>343</td>\n",
              "      <td>6768839680</td>\n",
              "      <td>247344.87</td>\n",
              "      <td>2748276.32</td>\n",
              "      <td>32979315.84</td>\n",
              "    </tr>\n",
              "    <tr>\n",
              "      <th>172766</th>\n",
              "      <td>엘지디스플레이(주)</td>\n",
              "      <td>26673</td>\n",
              "      <td>52</td>\n",
              "      <td>87</td>\n",
              "      <td>11142632400</td>\n",
              "      <td>417749.50</td>\n",
              "      <td>4641661.11</td>\n",
              "      <td>55699933.27</td>\n",
              "    </tr>\n",
              "    <tr>\n",
              "      <th>221358</th>\n",
              "      <td>삼성디스플레이(주)</td>\n",
              "      <td>23189</td>\n",
              "      <td>91</td>\n",
              "      <td>125</td>\n",
              "      <td>10191465180</td>\n",
              "      <td>439495.67</td>\n",
              "      <td>4883285.26</td>\n",
              "      <td>58599423.17</td>\n",
              "    </tr>\n",
              "    <tr>\n",
              "      <th>3479</th>\n",
              "      <td>주식회사 케이티</td>\n",
              "      <td>22527</td>\n",
              "      <td>15</td>\n",
              "      <td>76</td>\n",
              "      <td>9961182900</td>\n",
              "      <td>442188.61</td>\n",
              "      <td>4913206.82</td>\n",
              "      <td>58958481.82</td>\n",
              "    </tr>\n",
              "    <tr>\n",
              "      <th>3529</th>\n",
              "      <td>한국전력공사</td>\n",
              "      <td>22494</td>\n",
              "      <td>34</td>\n",
              "      <td>87</td>\n",
              "      <td>9382844160</td>\n",
              "      <td>417126.53</td>\n",
              "      <td>4634739.22</td>\n",
              "      <td>55616870.63</td>\n",
              "    </tr>\n",
              "    <tr>\n",
              "      <th>6561</th>\n",
              "      <td>홈플러스(주)</td>\n",
              "      <td>21338</td>\n",
              "      <td>81</td>\n",
              "      <td>227</td>\n",
              "      <td>4869716640</td>\n",
              "      <td>228218.04</td>\n",
              "      <td>2535756.05</td>\n",
              "      <td>30429072.64</td>\n",
              "    </tr>\n",
              "    <tr>\n",
              "      <th>11394</th>\n",
              "      <td>(주)엘지화학</td>\n",
              "      <td>20564</td>\n",
              "      <td>140</td>\n",
              "      <td>183</td>\n",
              "      <td>9060975220</td>\n",
              "      <td>440623.19</td>\n",
              "      <td>4895813.19</td>\n",
              "      <td>58749758.28</td>\n",
              "    </tr>\n",
              "    <tr>\n",
              "      <th>3659</th>\n",
              "      <td>대한항공(주)</td>\n",
              "      <td>18801</td>\n",
              "      <td>465</td>\n",
              "      <td>159</td>\n",
              "      <td>7919204420</td>\n",
              "      <td>421211.87</td>\n",
              "      <td>4680131.92</td>\n",
              "      <td>56161583.04</td>\n",
              "    </tr>\n",
              "    <tr>\n",
              "      <th>165050</th>\n",
              "      <td>(주)포스코</td>\n",
              "      <td>17376</td>\n",
              "      <td>142</td>\n",
              "      <td>68</td>\n",
              "      <td>7642563200</td>\n",
              "      <td>439834.44</td>\n",
              "      <td>4887049.31</td>\n",
              "      <td>58644591.77</td>\n",
              "    </tr>\n",
              "    <tr>\n",
              "      <th>5096</th>\n",
              "      <td>한국철도공사</td>\n",
              "      <td>17229</td>\n",
              "      <td>96</td>\n",
              "      <td>66</td>\n",
              "      <td>6273380760</td>\n",
              "      <td>364117.52</td>\n",
              "      <td>4045750.23</td>\n",
              "      <td>48549002.73</td>\n",
              "    </tr>\n",
              "    <tr>\n",
              "      <th>5288</th>\n",
              "      <td>스타벅스커피코리아(주)</td>\n",
              "      <td>17087</td>\n",
              "      <td>1279</td>\n",
              "      <td>518</td>\n",
              "      <td>3063022300</td>\n",
              "      <td>179260.39</td>\n",
              "      <td>1991782.12</td>\n",
              "      <td>23901385.46</td>\n",
              "    </tr>\n",
              "    <tr>\n",
              "      <th>3237</th>\n",
              "      <td>국민은행(주)</td>\n",
              "      <td>16976</td>\n",
              "      <td>550</td>\n",
              "      <td>102</td>\n",
              "      <td>7227931480</td>\n",
              "      <td>425773.53</td>\n",
              "      <td>4730817.02</td>\n",
              "      <td>56769804.27</td>\n",
              "    </tr>\n",
              "    <tr>\n",
              "      <th>220405</th>\n",
              "      <td>농협은행주식회사</td>\n",
              "      <td>16943</td>\n",
              "      <td>152</td>\n",
              "      <td>186</td>\n",
              "      <td>6850437320</td>\n",
              "      <td>404322.57</td>\n",
              "      <td>4492473.01</td>\n",
              "      <td>53909676.13</td>\n",
              "    </tr>\n",
              "    <tr>\n",
              "      <th>358021</th>\n",
              "      <td>서울교통공사</td>\n",
              "      <td>16492</td>\n",
              "      <td>24</td>\n",
              "      <td>89</td>\n",
              "      <td>6772654320</td>\n",
              "      <td>410663.01</td>\n",
              "      <td>4562922.31</td>\n",
              "      <td>54755067.67</td>\n",
              "    </tr>\n",
              "    <tr>\n",
              "      <th>4184</th>\n",
              "      <td>국민건강보험공단</td>\n",
              "      <td>15363</td>\n",
              "      <td>67</td>\n",
              "      <td>155</td>\n",
              "      <td>5783261160</td>\n",
              "      <td>376440.87</td>\n",
              "      <td>4182676.39</td>\n",
              "      <td>50192116.64</td>\n",
              "    </tr>\n",
              "    <tr>\n",
              "      <th>340742</th>\n",
              "      <td>쿠팡풀필먼트서비스 유한회사</td>\n",
              "      <td>14847</td>\n",
              "      <td>1593</td>\n",
              "      <td>1322</td>\n",
              "      <td>3005479000</td>\n",
              "      <td>202430.05</td>\n",
              "      <td>2249222.81</td>\n",
              "      <td>26990673.76</td>\n",
              "    </tr>\n",
              "  </tbody>\n",
              "</table>\n",
              "</div>"
            ],
            "text/plain": [
              "                  사업장명    가입자수    신규  ...    인당고지금액       평균월급        평균연봉\n",
              "4634           삼성전자(주)  103139   485  ... 444406.42 4937849.07 59254188.85\n",
              "3586          현대자동차(주)   68010   593  ... 441641.27 4907125.23 58885502.76\n",
              "14872          엘지전자(주)   40239   395  ... 434051.73 4822796.97 57873563.59\n",
              "155649   에스케이하이닉스 주식회사   27812   121  ... 442462.49 4916249.89 58994998.71\n",
              "204863          (주)이마트   27366   297  ... 247344.87 2748276.32 32979315.84\n",
              "172766      엘지디스플레이(주)   26673    52  ... 417749.50 4641661.11 55699933.27\n",
              "221358      삼성디스플레이(주)   23189    91  ... 439495.67 4883285.26 58599423.17\n",
              "3479          주식회사 케이티   22527    15  ... 442188.61 4913206.82 58958481.82\n",
              "3529            한국전력공사   22494    34  ... 417126.53 4634739.22 55616870.63\n",
              "6561           홈플러스(주)   21338    81  ... 228218.04 2535756.05 30429072.64\n",
              "11394          (주)엘지화학   20564   140  ... 440623.19 4895813.19 58749758.28\n",
              "3659           대한항공(주)   18801   465  ... 421211.87 4680131.92 56161583.04\n",
              "165050          (주)포스코   17376   142  ... 439834.44 4887049.31 58644591.77\n",
              "5096            한국철도공사   17229    96  ... 364117.52 4045750.23 48549002.73\n",
              "5288      스타벅스커피코리아(주)   17087  1279  ... 179260.39 1991782.12 23901385.46\n",
              "3237           국민은행(주)   16976   550  ... 425773.53 4730817.02 56769804.27\n",
              "220405        농협은행주식회사   16943   152  ... 404322.57 4492473.01 53909676.13\n",
              "358021          서울교통공사   16492    24  ... 410663.01 4562922.31 54755067.67\n",
              "4184          국민건강보험공단   15363    67  ... 376440.87 4182676.39 50192116.64\n",
              "340742  쿠팡풀필먼트서비스 유한회사   14847  1593  ... 202430.05 2249222.81 26990673.76\n",
              "\n",
              "[20 rows x 8 columns]"
            ]
          },
          "metadata": {
            "tags": []
          },
          "execution_count": 36
        }
      ]
    },
    {
      "cell_type": "code",
      "metadata": {
        "id": "vAwfFbgwEXqq",
        "colab_type": "code",
        "colab": {
          "base_uri": "https://localhost:8080/",
          "height": 659
        },
        "outputId": "ff80964b-99e0-4453-d292-30a7d004697d"
      },
      "source": [
        "# 신규 입사자수가 가장 많은 순서대로 \n",
        "df_main.sort_values(by='신규', ascending=False).head(20)  "
      ],
      "execution_count": null,
      "outputs": [
        {
          "output_type": "execute_result",
          "data": {
            "text/html": [
              "<div>\n",
              "<style scoped>\n",
              "    .dataframe tbody tr th:only-of-type {\n",
              "        vertical-align: middle;\n",
              "    }\n",
              "\n",
              "    .dataframe tbody tr th {\n",
              "        vertical-align: top;\n",
              "    }\n",
              "\n",
              "    .dataframe thead th {\n",
              "        text-align: right;\n",
              "    }\n",
              "</style>\n",
              "<table border=\"1\" class=\"dataframe\">\n",
              "  <thead>\n",
              "    <tr style=\"text-align: right;\">\n",
              "      <th></th>\n",
              "      <th>사업장명</th>\n",
              "      <th>가입자수</th>\n",
              "      <th>신규</th>\n",
              "      <th>상실</th>\n",
              "      <th>고지금액</th>\n",
              "      <th>인당고지금액</th>\n",
              "      <th>평균월급</th>\n",
              "      <th>평균연봉</th>\n",
              "    </tr>\n",
              "  </thead>\n",
              "  <tbody>\n",
              "    <tr>\n",
              "      <th>485929</th>\n",
              "      <td>인천공항경비주식회사</td>\n",
              "      <td>3477</td>\n",
              "      <td>2752</td>\n",
              "      <td>15</td>\n",
              "      <td>909147360</td>\n",
              "      <td>261474.65</td>\n",
              "      <td>2905273.90</td>\n",
              "      <td>34863286.74</td>\n",
              "    </tr>\n",
              "    <tr>\n",
              "      <th>413884</th>\n",
              "      <td>쿠팡풀필먼트서비스 유한회사</td>\n",
              "      <td>8749</td>\n",
              "      <td>2655</td>\n",
              "      <td>2848</td>\n",
              "      <td>432974420</td>\n",
              "      <td>49488.45</td>\n",
              "      <td>549871.63</td>\n",
              "      <td>6598459.56</td>\n",
              "    </tr>\n",
              "    <tr>\n",
              "      <th>253925</th>\n",
              "      <td>쿠팡 주식회사</td>\n",
              "      <td>13835</td>\n",
              "      <td>1678</td>\n",
              "      <td>915</td>\n",
              "      <td>3925868620</td>\n",
              "      <td>283763.54</td>\n",
              "      <td>3152928.26</td>\n",
              "      <td>37835139.09</td>\n",
              "    </tr>\n",
              "    <tr>\n",
              "      <th>340742</th>\n",
              "      <td>쿠팡풀필먼트서비스 유한회사</td>\n",
              "      <td>14847</td>\n",
              "      <td>1593</td>\n",
              "      <td>1322</td>\n",
              "      <td>3005479000</td>\n",
              "      <td>202430.05</td>\n",
              "      <td>2249222.81</td>\n",
              "      <td>26990673.76</td>\n",
              "    </tr>\n",
              "    <tr>\n",
              "      <th>5288</th>\n",
              "      <td>스타벅스커피코리아(주)</td>\n",
              "      <td>17087</td>\n",
              "      <td>1279</td>\n",
              "      <td>518</td>\n",
              "      <td>3063022300</td>\n",
              "      <td>179260.39</td>\n",
              "      <td>1991782.12</td>\n",
              "      <td>23901385.46</td>\n",
              "    </tr>\n",
              "    <tr>\n",
              "      <th>62951</th>\n",
              "      <td>(주)인터파크</td>\n",
              "      <td>1222</td>\n",
              "      <td>1186</td>\n",
              "      <td>36</td>\n",
              "      <td>364521140</td>\n",
              "      <td>298298.81</td>\n",
              "      <td>3314431.17</td>\n",
              "      <td>39773174.03</td>\n",
              "    </tr>\n",
              "    <tr>\n",
              "      <th>514044</th>\n",
              "      <td>솔브레인(주)</td>\n",
              "      <td>1151</td>\n",
              "      <td>1151</td>\n",
              "      <td>18</td>\n",
              "      <td>424060500</td>\n",
              "      <td>368427.89</td>\n",
              "      <td>4093643.21</td>\n",
              "      <td>49123718.51</td>\n",
              "    </tr>\n",
              "    <tr>\n",
              "      <th>47417</th>\n",
              "      <td>한국맥도날드유한회사(A)</td>\n",
              "      <td>8288</td>\n",
              "      <td>1066</td>\n",
              "      <td>886</td>\n",
              "      <td>830463700</td>\n",
              "      <td>100200.74</td>\n",
              "      <td>1113341.51</td>\n",
              "      <td>13360098.13</td>\n",
              "    </tr>\n",
              "    <tr>\n",
              "      <th>139505</th>\n",
              "      <td>(주)씨에스원 파트너</td>\n",
              "      <td>1730</td>\n",
              "      <td>1061</td>\n",
              "      <td>73</td>\n",
              "      <td>428084540</td>\n",
              "      <td>247447.71</td>\n",
              "      <td>2749419.01</td>\n",
              "      <td>32993028.13</td>\n",
              "    </tr>\n",
              "    <tr>\n",
              "      <th>157341</th>\n",
              "      <td>대원고속(주)</td>\n",
              "      <td>2270</td>\n",
              "      <td>911</td>\n",
              "      <td>17</td>\n",
              "      <td>811480180</td>\n",
              "      <td>357480.26</td>\n",
              "      <td>3972002.84</td>\n",
              "      <td>47664034.07</td>\n",
              "    </tr>\n",
              "    <tr>\n",
              "      <th>513991</th>\n",
              "      <td>대아이앤씨(주)-(일용)평택FAB2기신축공사중하층서편 상층동편공사중 일반설비5공구(...</td>\n",
              "      <td>877</td>\n",
              "      <td>877</td>\n",
              "      <td>2</td>\n",
              "      <td>358220840</td>\n",
              "      <td>408461.62</td>\n",
              "      <td>4538462.44</td>\n",
              "      <td>54461549.22</td>\n",
              "    </tr>\n",
              "    <tr>\n",
              "      <th>157398</th>\n",
              "      <td>(주)경기고속</td>\n",
              "      <td>2308</td>\n",
              "      <td>869</td>\n",
              "      <td>26</td>\n",
              "      <td>836458800</td>\n",
              "      <td>362417.16</td>\n",
              "      <td>4026857.31</td>\n",
              "      <td>48322287.69</td>\n",
              "    </tr>\n",
              "    <tr>\n",
              "      <th>5602</th>\n",
              "      <td>주식회사 유베이스</td>\n",
              "      <td>10074</td>\n",
              "      <td>805</td>\n",
              "      <td>703</td>\n",
              "      <td>1834227240</td>\n",
              "      <td>182075.37</td>\n",
              "      <td>2023059.63</td>\n",
              "      <td>24276715.51</td>\n",
              "    </tr>\n",
              "    <tr>\n",
              "      <th>508965</th>\n",
              "      <td>주식회사　세보엠이씨(일용)일반설비 1공구(3-1)</td>\n",
              "      <td>2128</td>\n",
              "      <td>784</td>\n",
              "      <td>4</td>\n",
              "      <td>730369180</td>\n",
              "      <td>343218.60</td>\n",
              "      <td>3813540.00</td>\n",
              "      <td>45762479.95</td>\n",
              "    </tr>\n",
              "    <tr>\n",
              "      <th>2872</th>\n",
              "      <td>대림건설 주식회사</td>\n",
              "      <td>1581</td>\n",
              "      <td>722</td>\n",
              "      <td>36</td>\n",
              "      <td>612514240</td>\n",
              "      <td>387422.04</td>\n",
              "      <td>4304689.30</td>\n",
              "      <td>51656271.56</td>\n",
              "    </tr>\n",
              "    <tr>\n",
              "      <th>231977</th>\n",
              "      <td>주식회사제니엘시스템</td>\n",
              "      <td>741</td>\n",
              "      <td>719</td>\n",
              "      <td>388</td>\n",
              "      <td>106531920</td>\n",
              "      <td>143767.77</td>\n",
              "      <td>1597419.70</td>\n",
              "      <td>19169036.44</td>\n",
              "    </tr>\n",
              "    <tr>\n",
              "      <th>12257</th>\n",
              "      <td>(주)트랜스코스모스코리아</td>\n",
              "      <td>7614</td>\n",
              "      <td>698</td>\n",
              "      <td>465</td>\n",
              "      <td>1393826140</td>\n",
              "      <td>183060.96</td>\n",
              "      <td>2034010.65</td>\n",
              "      <td>24408127.83</td>\n",
              "    </tr>\n",
              "    <tr>\n",
              "      <th>3586</th>\n",
              "      <td>현대자동차(주)</td>\n",
              "      <td>68010</td>\n",
              "      <td>593</td>\n",
              "      <td>301</td>\n",
              "      <td>30036022820</td>\n",
              "      <td>441641.27</td>\n",
              "      <td>4907125.23</td>\n",
              "      <td>58885502.76</td>\n",
              "    </tr>\n",
              "    <tr>\n",
              "      <th>107107</th>\n",
              "      <td>(주)대원운수</td>\n",
              "      <td>816</td>\n",
              "      <td>552</td>\n",
              "      <td>12</td>\n",
              "      <td>267504400</td>\n",
              "      <td>327824.02</td>\n",
              "      <td>3642489.11</td>\n",
              "      <td>43709869.28</td>\n",
              "    </tr>\n",
              "    <tr>\n",
              "      <th>3237</th>\n",
              "      <td>국민은행(주)</td>\n",
              "      <td>16976</td>\n",
              "      <td>550</td>\n",
              "      <td>102</td>\n",
              "      <td>7227931480</td>\n",
              "      <td>425773.53</td>\n",
              "      <td>4730817.02</td>\n",
              "      <td>56769804.27</td>\n",
              "    </tr>\n",
              "  </tbody>\n",
              "</table>\n",
              "</div>"
            ],
            "text/plain": [
              "                                                     사업장명  ...        평균연봉\n",
              "485929                                         인천공항경비주식회사  ... 34863286.74\n",
              "413884                                     쿠팡풀필먼트서비스 유한회사  ...  6598459.56\n",
              "253925                                            쿠팡 주식회사  ... 37835139.09\n",
              "340742                                     쿠팡풀필먼트서비스 유한회사  ... 26990673.76\n",
              "5288                                         스타벅스커피코리아(주)  ... 23901385.46\n",
              "62951                                             (주)인터파크  ... 39773174.03\n",
              "514044                                            솔브레인(주)  ... 49123718.51\n",
              "47417                                       한국맥도날드유한회사(A)  ... 13360098.13\n",
              "139505                                        (주)씨에스원 파트너  ... 32993028.13\n",
              "157341                                            대원고속(주)  ... 47664034.07\n",
              "513991  대아이앤씨(주)-(일용)평택FAB2기신축공사중하층서편 상층동편공사중 일반설비5공구(...  ... 54461549.22\n",
              "157398                                            (주)경기고속  ... 48322287.69\n",
              "5602                                            주식회사 유베이스  ... 24276715.51\n",
              "508965                        주식회사　세보엠이씨(일용)일반설비 1공구(3-1)  ... 45762479.95\n",
              "2872                                            대림건설 주식회사  ... 51656271.56\n",
              "231977                                         주식회사제니엘시스템  ... 19169036.44\n",
              "12257                                       (주)트랜스코스모스코리아  ... 24408127.83\n",
              "3586                                             현대자동차(주)  ... 58885502.76\n",
              "107107                                            (주)대원운수  ... 43709869.28\n",
              "3237                                              국민은행(주)  ... 56769804.27\n",
              "\n",
              "[20 rows x 8 columns]"
            ]
          },
          "metadata": {
            "tags": []
          },
          "execution_count": 37
        }
      ]
    },
    {
      "cell_type": "code",
      "metadata": {
        "id": "iZtwD5rsEXqs",
        "colab_type": "code",
        "colab": {
          "base_uri": "https://localhost:8080/",
          "height": 659
        },
        "outputId": "3961a3bc-c571-4fb7-c614-122889605dfd"
      },
      "source": [
        "# 상실 입사자수가 가장 많은 순서대로 표시하기\n",
        "df_main.sort_values(by='상실', ascending=False).head(20)  "
      ],
      "execution_count": null,
      "outputs": [
        {
          "output_type": "execute_result",
          "data": {
            "text/html": [
              "<div>\n",
              "<style scoped>\n",
              "    .dataframe tbody tr th:only-of-type {\n",
              "        vertical-align: middle;\n",
              "    }\n",
              "\n",
              "    .dataframe tbody tr th {\n",
              "        vertical-align: top;\n",
              "    }\n",
              "\n",
              "    .dataframe thead th {\n",
              "        text-align: right;\n",
              "    }\n",
              "</style>\n",
              "<table border=\"1\" class=\"dataframe\">\n",
              "  <thead>\n",
              "    <tr style=\"text-align: right;\">\n",
              "      <th></th>\n",
              "      <th>사업장명</th>\n",
              "      <th>가입자수</th>\n",
              "      <th>신규</th>\n",
              "      <th>상실</th>\n",
              "      <th>고지금액</th>\n",
              "      <th>인당고지금액</th>\n",
              "      <th>평균월급</th>\n",
              "      <th>평균연봉</th>\n",
              "    </tr>\n",
              "  </thead>\n",
              "  <tbody>\n",
              "    <tr>\n",
              "      <th>413884</th>\n",
              "      <td>쿠팡풀필먼트서비스 유한회사</td>\n",
              "      <td>8749</td>\n",
              "      <td>2655</td>\n",
              "      <td>2848</td>\n",
              "      <td>432974420</td>\n",
              "      <td>49488.45</td>\n",
              "      <td>549871.63</td>\n",
              "      <td>6598459.56</td>\n",
              "    </tr>\n",
              "    <tr>\n",
              "      <th>340742</th>\n",
              "      <td>쿠팡풀필먼트서비스 유한회사</td>\n",
              "      <td>14847</td>\n",
              "      <td>1593</td>\n",
              "      <td>1322</td>\n",
              "      <td>3005479000</td>\n",
              "      <td>202430.05</td>\n",
              "      <td>2249222.81</td>\n",
              "      <td>26990673.76</td>\n",
              "    </tr>\n",
              "    <tr>\n",
              "      <th>253925</th>\n",
              "      <td>쿠팡 주식회사</td>\n",
              "      <td>13835</td>\n",
              "      <td>1678</td>\n",
              "      <td>915</td>\n",
              "      <td>3925868620</td>\n",
              "      <td>283763.54</td>\n",
              "      <td>3152928.26</td>\n",
              "      <td>37835139.09</td>\n",
              "    </tr>\n",
              "    <tr>\n",
              "      <th>47417</th>\n",
              "      <td>한국맥도날드유한회사(A)</td>\n",
              "      <td>8288</td>\n",
              "      <td>1066</td>\n",
              "      <td>886</td>\n",
              "      <td>830463700</td>\n",
              "      <td>100200.74</td>\n",
              "      <td>1113341.51</td>\n",
              "      <td>13360098.13</td>\n",
              "    </tr>\n",
              "    <tr>\n",
              "      <th>4519</th>\n",
              "      <td>(주)모두투어네트워크</td>\n",
              "      <td>867</td>\n",
              "      <td>240</td>\n",
              "      <td>760</td>\n",
              "      <td>195684780</td>\n",
              "      <td>225703.32</td>\n",
              "      <td>2507814.69</td>\n",
              "      <td>30093776.24</td>\n",
              "    </tr>\n",
              "    <tr>\n",
              "      <th>5602</th>\n",
              "      <td>주식회사 유베이스</td>\n",
              "      <td>10074</td>\n",
              "      <td>805</td>\n",
              "      <td>703</td>\n",
              "      <td>1834227240</td>\n",
              "      <td>182075.37</td>\n",
              "      <td>2023059.63</td>\n",
              "      <td>24276715.51</td>\n",
              "    </tr>\n",
              "    <tr>\n",
              "      <th>444284</th>\n",
              "      <td>(주)이랜드이츠 압구정지점</td>\n",
              "      <td>4250</td>\n",
              "      <td>134</td>\n",
              "      <td>669</td>\n",
              "      <td>630913000</td>\n",
              "      <td>148450.12</td>\n",
              "      <td>1649445.75</td>\n",
              "      <td>19793349.02</td>\n",
              "    </tr>\n",
              "    <tr>\n",
              "      <th>166824</th>\n",
              "      <td>진주시청</td>\n",
              "      <td>1080</td>\n",
              "      <td>69</td>\n",
              "      <td>583</td>\n",
              "      <td>177969640</td>\n",
              "      <td>164786.70</td>\n",
              "      <td>1830963.37</td>\n",
              "      <td>21971560.49</td>\n",
              "    </tr>\n",
              "    <tr>\n",
              "      <th>6730</th>\n",
              "      <td>푸르지오서비스(주)</td>\n",
              "      <td>555</td>\n",
              "      <td>10</td>\n",
              "      <td>555</td>\n",
              "      <td>161555240</td>\n",
              "      <td>291090.52</td>\n",
              "      <td>3234339.14</td>\n",
              "      <td>38812069.67</td>\n",
              "    </tr>\n",
              "    <tr>\n",
              "      <th>4634</th>\n",
              "      <td>삼성전자(주)</td>\n",
              "      <td>103139</td>\n",
              "      <td>485</td>\n",
              "      <td>538</td>\n",
              "      <td>45835633380</td>\n",
              "      <td>444406.42</td>\n",
              "      <td>4937849.07</td>\n",
              "      <td>59254188.85</td>\n",
              "    </tr>\n",
              "    <tr>\n",
              "      <th>86874</th>\n",
              "      <td>(주)제니엘</td>\n",
              "      <td>5772</td>\n",
              "      <td>313</td>\n",
              "      <td>519</td>\n",
              "      <td>1038855780</td>\n",
              "      <td>179981.94</td>\n",
              "      <td>1999799.38</td>\n",
              "      <td>23997592.52</td>\n",
              "    </tr>\n",
              "    <tr>\n",
              "      <th>5288</th>\n",
              "      <td>스타벅스커피코리아(주)</td>\n",
              "      <td>17087</td>\n",
              "      <td>1279</td>\n",
              "      <td>518</td>\n",
              "      <td>3063022300</td>\n",
              "      <td>179260.39</td>\n",
              "      <td>1991782.12</td>\n",
              "      <td>23901385.46</td>\n",
              "    </tr>\n",
              "    <tr>\n",
              "      <th>235976</th>\n",
              "      <td>주식회사비케이알(버거킹)</td>\n",
              "      <td>3827</td>\n",
              "      <td>511</td>\n",
              "      <td>510</td>\n",
              "      <td>387012360</td>\n",
              "      <td>101126.83</td>\n",
              "      <td>1123631.39</td>\n",
              "      <td>13483576.69</td>\n",
              "    </tr>\n",
              "    <tr>\n",
              "      <th>53987</th>\n",
              "      <td>에프알엘코리아(주)</td>\n",
              "      <td>3340</td>\n",
              "      <td>46</td>\n",
              "      <td>482</td>\n",
              "      <td>664550620</td>\n",
              "      <td>198967.25</td>\n",
              "      <td>2210747.24</td>\n",
              "      <td>26528966.87</td>\n",
              "    </tr>\n",
              "    <tr>\n",
              "      <th>62557</th>\n",
              "      <td>주식회사 아성다이소</td>\n",
              "      <td>10642</td>\n",
              "      <td>394</td>\n",
              "      <td>478</td>\n",
              "      <td>1993299260</td>\n",
              "      <td>187304.95</td>\n",
              "      <td>2081166.09</td>\n",
              "      <td>24973993.11</td>\n",
              "    </tr>\n",
              "    <tr>\n",
              "      <th>12257</th>\n",
              "      <td>(주)트랜스코스모스코리아</td>\n",
              "      <td>7614</td>\n",
              "      <td>698</td>\n",
              "      <td>465</td>\n",
              "      <td>1393826140</td>\n",
              "      <td>183060.96</td>\n",
              "      <td>2034010.65</td>\n",
              "      <td>24408127.83</td>\n",
              "    </tr>\n",
              "    <tr>\n",
              "      <th>56481</th>\n",
              "      <td>한석맨파워 주식회사</td>\n",
              "      <td>1601</td>\n",
              "      <td>379</td>\n",
              "      <td>445</td>\n",
              "      <td>195602080</td>\n",
              "      <td>122174.94</td>\n",
              "      <td>1357499.34</td>\n",
              "      <td>16289992.09</td>\n",
              "    </tr>\n",
              "    <tr>\n",
              "      <th>62360</th>\n",
              "      <td>효성ITX (주)</td>\n",
              "      <td>7219</td>\n",
              "      <td>423</td>\n",
              "      <td>441</td>\n",
              "      <td>1406181880</td>\n",
              "      <td>194789.01</td>\n",
              "      <td>2164322.36</td>\n",
              "      <td>25971868.31</td>\n",
              "    </tr>\n",
              "    <tr>\n",
              "      <th>14872</th>\n",
              "      <td>엘지전자(주)</td>\n",
              "      <td>40239</td>\n",
              "      <td>395</td>\n",
              "      <td>419</td>\n",
              "      <td>17465807440</td>\n",
              "      <td>434051.73</td>\n",
              "      <td>4822796.97</td>\n",
              "      <td>57873563.59</td>\n",
              "    </tr>\n",
              "    <tr>\n",
              "      <th>231977</th>\n",
              "      <td>주식회사제니엘시스템</td>\n",
              "      <td>741</td>\n",
              "      <td>719</td>\n",
              "      <td>388</td>\n",
              "      <td>106531920</td>\n",
              "      <td>143767.77</td>\n",
              "      <td>1597419.70</td>\n",
              "      <td>19169036.44</td>\n",
              "    </tr>\n",
              "  </tbody>\n",
              "</table>\n",
              "</div>"
            ],
            "text/plain": [
              "                  사업장명    가입자수    신규  ...    인당고지금액       평균월급        평균연봉\n",
              "413884  쿠팡풀필먼트서비스 유한회사    8749  2655  ...  49488.45  549871.63  6598459.56\n",
              "340742  쿠팡풀필먼트서비스 유한회사   14847  1593  ... 202430.05 2249222.81 26990673.76\n",
              "253925         쿠팡 주식회사   13835  1678  ... 283763.54 3152928.26 37835139.09\n",
              "47417    한국맥도날드유한회사(A)    8288  1066  ... 100200.74 1113341.51 13360098.13\n",
              "4519       (주)모두투어네트워크     867   240  ... 225703.32 2507814.69 30093776.24\n",
              "5602         주식회사 유베이스   10074   805  ... 182075.37 2023059.63 24276715.51\n",
              "444284  (주)이랜드이츠 압구정지점    4250   134  ... 148450.12 1649445.75 19793349.02\n",
              "166824            진주시청    1080    69  ... 164786.70 1830963.37 21971560.49\n",
              "6730        푸르지오서비스(주)     555    10  ... 291090.52 3234339.14 38812069.67\n",
              "4634           삼성전자(주)  103139   485  ... 444406.42 4937849.07 59254188.85\n",
              "86874           (주)제니엘    5772   313  ... 179981.94 1999799.38 23997592.52\n",
              "5288      스타벅스커피코리아(주)   17087  1279  ... 179260.39 1991782.12 23901385.46\n",
              "235976   주식회사비케이알(버거킹)    3827   511  ... 101126.83 1123631.39 13483576.69\n",
              "53987       에프알엘코리아(주)    3340    46  ... 198967.25 2210747.24 26528966.87\n",
              "62557       주식회사 아성다이소   10642   394  ... 187304.95 2081166.09 24973993.11\n",
              "12257    (주)트랜스코스모스코리아    7614   698  ... 183060.96 2034010.65 24408127.83\n",
              "56481       한석맨파워 주식회사    1601   379  ... 122174.94 1357499.34 16289992.09\n",
              "62360        효성ITX (주)    7219   423  ... 194789.01 2164322.36 25971868.31\n",
              "14872          엘지전자(주)   40239   395  ... 434051.73 4822796.97 57873563.59\n",
              "231977      주식회사제니엘시스템     741   719  ... 143767.77 1597419.70 19169036.44\n",
              "\n",
              "[20 rows x 8 columns]"
            ]
          },
          "metadata": {
            "tags": []
          },
          "execution_count": 38
        }
      ]
    },
    {
      "cell_type": "code",
      "metadata": {
        "id": "LEhwaWu2JWQ4",
        "colab_type": "code",
        "colab": {}
      },
      "source": [
        "#(?질문) 가입자 수가 0명이 아닌 가장 적은 순서부터 많은 순서로 정렬하고 싶은 경우 코드 방법 문의(?)"
      ],
      "execution_count": null,
      "outputs": []
    },
    {
      "cell_type": "markdown",
      "metadata": {
        "id": "nYnQKz_oEXqu",
        "colab_type": "text"
      },
      "source": [
        "#### 300인 이하 기업\n",
        "**고급인덱싱 기법: (참고: https://datascienceschool.net/view-notebook/704731b41f794b8ea00768f5b0904512/)\n",
        "- loc 인덱서: 라벨값 기반의 2차원 인덱싱 (예: df.loc[행 인덱싱값, 열 인덱싱값])\n",
        "- iloc 인덱서: 순서를 나타내는 정수 기반의 2차원 인덱싱 (예: df.iloc[행(정수순서), 열(정수순서)]\n",
        "- at 인덱서: 라벨값 기반의 2차원 인덱싱(한개의 스칼라 값만 찾음) (예: df.at[\"a\", \"A\"])\n",
        "- iat 인덱서: 순서를 나타내는 정수 기반의 2차원 인덱싱(한개의 스칼라 값만 찾음) (예: df.iat[1,1]) 1행 1열의 값 가져오기"
      ]
    },
    {
      "cell_type": "code",
      "metadata": {
        "id": "ciNv3iedEXqv",
        "colab_type": "code",
        "colab": {}
      },
      "source": [
        "people_limit = 300"
      ],
      "execution_count": null,
      "outputs": []
    },
    {
      "cell_type": "code",
      "metadata": {
        "id": "M7OiTCLmEXqy",
        "colab_type": "code",
        "colab": {}
      },
      "source": [
        "small = df_main.loc[(df_main['가입자수'].notnull()) & (df_main['가입자수'] < people_limit)]"
      ],
      "execution_count": null,
      "outputs": []
    },
    {
      "cell_type": "code",
      "metadata": {
        "id": "RetqdLrHEXqz",
        "colab_type": "code",
        "colab": {
          "base_uri": "https://localhost:8080/",
          "height": 35
        },
        "outputId": "dcce7981-e1e9-450b-c6a8-fad879cb0233"
      },
      "source": [
        "small['가입자수'].isnull().sum()"
      ],
      "execution_count": null,
      "outputs": [
        {
          "output_type": "execute_result",
          "data": {
            "text/plain": [
              "0"
            ]
          },
          "metadata": {
            "tags": []
          },
          "execution_count": 100
        }
      ]
    },
    {
      "cell_type": "code",
      "metadata": {
        "id": "-hDRxTNIEXq1",
        "colab_type": "code",
        "colab": {
          "base_uri": "https://localhost:8080/",
          "height": 463
        },
        "outputId": "3c1d55bc-7829-4ce9-eb34-575d278318ad"
      },
      "source": [
        "plt.figure(figsize=(10,7))\n",
        "sns.distplot(small['가입자수'])\n",
        "plt.title('가입자', fontsize=18)\n",
        "plt.show()"
      ],
      "execution_count": null,
      "outputs": [
        {
          "output_type": "display_data",
          "data": {
            "image/png": "[encoded data removed]",
            "text/plain": [
              "<Figure size 720x504 with 1 Axes>"
            ]
          },
          "metadata": {
            "tags": [],
            "needs_background": "light"
          }
        }
      ]
    },
    {
      "cell_type": "code",
      "metadata": {
        "id": "zDYZTO9AEXq3",
        "colab_type": "code",
        "colab": {
          "base_uri": "https://localhost:8080/",
          "height": 413
        },
        "outputId": "dd349bb8-505c-42e1-be73-a023b790e894"
      },
      "source": [
        "small.sort_values(by='상실', ascending=False)"
      ],
      "execution_count": null,
      "outputs": [
        {
          "output_type": "execute_result",
          "data": {
            "text/html": [
              "<div>\n",
              "<style scoped>\n",
              "    .dataframe tbody tr th:only-of-type {\n",
              "        vertical-align: middle;\n",
              "    }\n",
              "\n",
              "    .dataframe tbody tr th {\n",
              "        vertical-align: top;\n",
              "    }\n",
              "\n",
              "    .dataframe thead th {\n",
              "        text-align: right;\n",
              "    }\n",
              "</style>\n",
              "<table border=\"1\" class=\"dataframe\">\n",
              "  <thead>\n",
              "    <tr style=\"text-align: right;\">\n",
              "      <th></th>\n",
              "      <th>사업장명</th>\n",
              "      <th>가입자수</th>\n",
              "      <th>신규</th>\n",
              "      <th>상실</th>\n",
              "      <th>고지금액</th>\n",
              "      <th>인당고지금액</th>\n",
              "      <th>평균월급</th>\n",
              "      <th>평균연봉</th>\n",
              "    </tr>\n",
              "  </thead>\n",
              "  <tbody>\n",
              "    <tr>\n",
              "      <th>319922</th>\n",
              "      <td>대구시청/교육협력정책관</td>\n",
              "      <td>277</td>\n",
              "      <td>0</td>\n",
              "      <td>277</td>\n",
              "      <td>12089720</td>\n",
              "      <td>43645.20</td>\n",
              "      <td>484946.65</td>\n",
              "      <td>5819359.81</td>\n",
              "    </tr>\n",
              "    <tr>\n",
              "      <th>491845</th>\n",
              "      <td>달서구청/일자리지원과 코로나19단기일자리</td>\n",
              "      <td>253</td>\n",
              "      <td>17</td>\n",
              "      <td>253</td>\n",
              "      <td>26676980</td>\n",
              "      <td>105442.61</td>\n",
              "      <td>1171584.54</td>\n",
              "      <td>14059014.49</td>\n",
              "    </tr>\n",
              "    <tr>\n",
              "      <th>349665</th>\n",
              "      <td>포항시청</td>\n",
              "      <td>253</td>\n",
              "      <td>13</td>\n",
              "      <td>252</td>\n",
              "      <td>35648640</td>\n",
              "      <td>140903.72</td>\n",
              "      <td>1565596.84</td>\n",
              "      <td>18787162.06</td>\n",
              "    </tr>\n",
              "    <tr>\n",
              "      <th>36026</th>\n",
              "      <td>서구청 경제과</td>\n",
              "      <td>252</td>\n",
              "      <td>4</td>\n",
              "      <td>246</td>\n",
              "      <td>30881700</td>\n",
              "      <td>122546.43</td>\n",
              "      <td>1361626.98</td>\n",
              "      <td>16339523.81</td>\n",
              "    </tr>\n",
              "    <tr>\n",
              "      <th>503301</th>\n",
              "      <td>동구청/경제지원과/방역 및 기타</td>\n",
              "      <td>236</td>\n",
              "      <td>0</td>\n",
              "      <td>236</td>\n",
              "      <td>23220160</td>\n",
              "      <td>98390.51</td>\n",
              "      <td>1093227.87</td>\n",
              "      <td>13118734.46</td>\n",
              "    </tr>\n",
              "    <tr>\n",
              "      <th>...</th>\n",
              "      <td>...</td>\n",
              "      <td>...</td>\n",
              "      <td>...</td>\n",
              "      <td>...</td>\n",
              "      <td>...</td>\n",
              "      <td>...</td>\n",
              "      <td>...</td>\n",
              "      <td>...</td>\n",
              "    </tr>\n",
              "    <tr>\n",
              "      <th>200413</th>\n",
              "      <td>백경이엔에스</td>\n",
              "      <td>10</td>\n",
              "      <td>0</td>\n",
              "      <td>0</td>\n",
              "      <td>2408640</td>\n",
              "      <td>240864.00</td>\n",
              "      <td>2676266.67</td>\n",
              "      <td>32115200.00</td>\n",
              "    </tr>\n",
              "    <tr>\n",
              "      <th>200412</th>\n",
              "      <td>경기정보통신</td>\n",
              "      <td>5</td>\n",
              "      <td>0</td>\n",
              "      <td>0</td>\n",
              "      <td>1438180</td>\n",
              "      <td>287636.00</td>\n",
              "      <td>3195955.56</td>\n",
              "      <td>38351466.67</td>\n",
              "    </tr>\n",
              "    <tr>\n",
              "      <th>200410</th>\n",
              "      <td>（주）남이제약</td>\n",
              "      <td>5</td>\n",
              "      <td>0</td>\n",
              "      <td>0</td>\n",
              "      <td>837160</td>\n",
              "      <td>167432.00</td>\n",
              "      <td>1860355.56</td>\n",
              "      <td>22324266.67</td>\n",
              "    </tr>\n",
              "    <tr>\n",
              "      <th>200409</th>\n",
              "      <td>우리숲어린이집</td>\n",
              "      <td>8</td>\n",
              "      <td>0</td>\n",
              "      <td>0</td>\n",
              "      <td>1096320</td>\n",
              "      <td>137040.00</td>\n",
              "      <td>1522666.67</td>\n",
              "      <td>18272000.00</td>\n",
              "    </tr>\n",
              "    <tr>\n",
              "      <th>258972</th>\n",
              "      <td>노인요양공동생활가정선한복지센터</td>\n",
              "      <td>5</td>\n",
              "      <td>0</td>\n",
              "      <td>0</td>\n",
              "      <td>925000</td>\n",
              "      <td>185000.00</td>\n",
              "      <td>2055555.56</td>\n",
              "      <td>24666666.67</td>\n",
              "    </tr>\n",
              "  </tbody>\n",
              "</table>\n",
              "<p>512881 rows × 8 columns</p>\n",
              "</div>"
            ],
            "text/plain": [
              "                          사업장명  가입자수  신규  ...    인당고지금액       평균월급        평균연봉\n",
              "319922            대구시청/교육협력정책관   277   0  ...  43645.20  484946.65  5819359.81\n",
              "491845  달서구청/일자리지원과 코로나19단기일자리   253  17  ... 105442.61 1171584.54 14059014.49\n",
              "349665                    포항시청   253  13  ... 140903.72 1565596.84 18787162.06\n",
              "36026                  서구청 경제과   252   4  ... 122546.43 1361626.98 16339523.81\n",
              "503301       동구청/경제지원과/방역 및 기타   236   0  ...  98390.51 1093227.87 13118734.46\n",
              "...                        ...   ...  ..  ...       ...        ...         ...\n",
              "200413                  백경이엔에스    10   0  ... 240864.00 2676266.67 32115200.00\n",
              "200412                  경기정보통신     5   0  ... 287636.00 3195955.56 38351466.67\n",
              "200410                 （주）남이제약     5   0  ... 167432.00 1860355.56 22324266.67\n",
              "200409                 우리숲어린이집     8   0  ... 137040.00 1522666.67 18272000.00\n",
              "258972        노인요양공동생활가정선한복지센터     5   0  ... 185000.00 2055555.56 24666666.67\n",
              "\n",
              "[512881 rows x 8 columns]"
            ]
          },
          "metadata": {
            "tags": []
          },
          "execution_count": 102
        }
      ]
    },
    {
      "cell_type": "markdown",
      "metadata": {
        "id": "eqv57V_HJbh5",
        "colab_type": "text"
      },
      "source": [
        "### 사업장명 데이터 정제 (Cleansing)"
      ]
    },
    {
      "cell_type": "code",
      "metadata": {
        "id": "r4aXQtQ3EXq5",
        "colab_type": "code",
        "colab": {}
      },
      "source": [
        "import re     # API 기능 확인\n",
        "\n",
        "# 괄호안에 문자열 제거\n",
        "pattern_1 = '\\(.*\\)'\n",
        "pattern_2 = '\\ (.*\\) '\n",
        "pattern_3 = '주식회사'"
      ],
      "execution_count": null,
      "outputs": []
    },
    {
      "cell_type": "markdown",
      "metadata": {
        "id": "_T24jTpfKvjd",
        "colab_type": "text"
      },
      "source": [
        "# (주), (주식회사) 문자열 제거"
      ]
    },
    {
      "cell_type": "code",
      "metadata": {
        "id": "cdMsl5rXEXq7",
        "colab_type": "code",
        "colab": {
          "base_uri": "https://localhost:8080/",
          "height": 35
        },
        "outputId": "8d826dae-79fc-499b-cb4f-30f0893ef9cb"
      },
      "source": [
        "re.sub(pattern_1, '', '브레인크루(주)')"
      ],
      "execution_count": null,
      "outputs": [
        {
          "output_type": "execute_result",
          "data": {
            "application/vnd.google.colaboratory.intrinsic+json": {
              "type": "string"
            },
            "text/plain": [
              "'브레인크루'"
            ]
          },
          "metadata": {
            "tags": []
          },
          "execution_count": 104
        }
      ]
    },
    {
      "cell_type": "code",
      "metadata": {
        "id": "kzWtyYoMEXq9",
        "colab_type": "code",
        "colab": {
          "base_uri": "https://localhost:8080/",
          "height": 35
        },
        "outputId": "d742489f-03ef-48e8-f48e-bdc5da0c1a22"
      },
      "source": [
        "re.sub(pattern_3, '', '브레인크루(주식회사)')"
      ],
      "execution_count": null,
      "outputs": [
        {
          "output_type": "execute_result",
          "data": {
            "application/vnd.google.colaboratory.intrinsic+json": {
              "type": "string"
            },
            "text/plain": [
              "'브레인크루()'"
            ]
          },
          "metadata": {
            "tags": []
          },
          "execution_count": 105
        }
      ]
    },
    {
      "cell_type": "code",
      "metadata": {
        "id": "akjXeROfEXrB",
        "colab_type": "code",
        "colab": {}
      },
      "source": [
        "# re.sub(pattern_2, '', ' (주) 타워홀딩스')  # pattern_2 에러의 원인? "
      ],
      "execution_count": null,
      "outputs": []
    },
    {
      "cell_type": "markdown",
      "metadata": {
        "id": "-v2DrXD-L9D2",
        "colab_type": "text"
      },
      "source": [
        "## 주식회사 문자열 제거하기"
      ]
    },
    {
      "cell_type": "code",
      "metadata": {
        "id": "VCrDg70SEXrD",
        "colab_type": "code",
        "colab": {
          "base_uri": "https://localhost:8080/",
          "height": 35
        },
        "outputId": "1f942c7c-faa0-4430-de47-863d79bb5f77"
      },
      "source": [
        "re.sub(pattern_3, '', '브레인크루 주식회사')"
      ],
      "execution_count": null,
      "outputs": [
        {
          "output_type": "execute_result",
          "data": {
            "application/vnd.google.colaboratory.intrinsic+json": {
              "type": "string"
            },
            "text/plain": [
              "'브레인크루 '"
            ]
          },
          "metadata": {
            "tags": []
          },
          "execution_count": 107
        }
      ]
    },
    {
      "cell_type": "code",
      "metadata": {
        "id": "zNYDPYPEEXrF",
        "colab_type": "code",
        "colab": {}
      },
      "source": [
        "def text_preprocess(text):\n",
        "    text = re.sub(pattern_1, '', text)\n",
        "    text = re.sub(pattern_2, '', text)\n",
        "    text = re.sub(pattern_3, '', text)\n",
        "    \n",
        "    return text"
      ],
      "execution_count": null,
      "outputs": []
    },
    {
      "cell_type": "code",
      "metadata": {
        "id": "dJetr2oBEXrH",
        "colab_type": "code",
        "colab": {
          "base_uri": "https://localhost:8080/",
          "height": 363
        },
        "outputId": "8da22077-9a94-434c-aa9e-9de82e9d1b01"
      },
      "source": [
        "df_main['사업장명'] = df_main['사업장명'].apply(text_preprocess)"
      ],
      "execution_count": null,
      "outputs": [
        {
          "output_type": "error",
          "ename": "error",
          "evalue": "ignored",
          "traceback": [
            "\u001b[0;31m---------------------------------------------------------------------------\u001b[0m",
            "\u001b[0;31merror\u001b[0m                                     Traceback (most recent call last)",
            "\u001b[0;32m<ipython-input-109-0530193df7d9>\u001b[0m in \u001b[0;36m<module>\u001b[0;34m()\u001b[0m\n\u001b[0;32m----> 1\u001b[0;31m \u001b[0mdf_main\u001b[0m\u001b[0;34m[\u001b[0m\u001b[0;34m'사업장명'\u001b[0m\u001b[0;34m]\u001b[0m \u001b[0;34m=\u001b[0m \u001b[0mdf_main\u001b[0m\u001b[0;34m[\u001b[0m\u001b[0;34m'사업장명'\u001b[0m\u001b[0;34m]\u001b[0m\u001b[0;34m.\u001b[0m\u001b[0mapply\u001b[0m\u001b[0;34m(\u001b[0m\u001b[0mtext_preprocess\u001b[0m\u001b[0;34m)\u001b[0m\u001b[0;34m\u001b[0m\u001b[0;34m\u001b[0m\u001b[0m\n\u001b[0m",
            "\u001b[0;32m/usr/local/lib/python3.6/dist-packages/pandas/core/series.py\u001b[0m in \u001b[0;36mapply\u001b[0;34m(self, func, convert_dtype, args, **kwds)\u001b[0m\n\u001b[1;32m   3846\u001b[0m             \u001b[0;32melse\u001b[0m\u001b[0;34m:\u001b[0m\u001b[0;34m\u001b[0m\u001b[0;34m\u001b[0m\u001b[0m\n\u001b[1;32m   3847\u001b[0m                 \u001b[0mvalues\u001b[0m \u001b[0;34m=\u001b[0m \u001b[0mself\u001b[0m\u001b[0;34m.\u001b[0m\u001b[0mastype\u001b[0m\u001b[0;34m(\u001b[0m\u001b[0mobject\u001b[0m\u001b[0;34m)\u001b[0m\u001b[0;34m.\u001b[0m\u001b[0mvalues\u001b[0m\u001b[0;34m\u001b[0m\u001b[0;34m\u001b[0m\u001b[0m\n\u001b[0;32m-> 3848\u001b[0;31m                 \u001b[0mmapped\u001b[0m \u001b[0;34m=\u001b[0m \u001b[0mlib\u001b[0m\u001b[0;34m.\u001b[0m\u001b[0mmap_infer\u001b[0m\u001b[0;34m(\u001b[0m\u001b[0mvalues\u001b[0m\u001b[0;34m,\u001b[0m \u001b[0mf\u001b[0m\u001b[0;34m,\u001b[0m \u001b[0mconvert\u001b[0m\u001b[0;34m=\u001b[0m\u001b[0mconvert_dtype\u001b[0m\u001b[0;34m)\u001b[0m\u001b[0;34m\u001b[0m\u001b[0;34m\u001b[0m\u001b[0m\n\u001b[0m\u001b[1;32m   3849\u001b[0m \u001b[0;34m\u001b[0m\u001b[0m\n\u001b[1;32m   3850\u001b[0m         \u001b[0;32mif\u001b[0m \u001b[0mlen\u001b[0m\u001b[0;34m(\u001b[0m\u001b[0mmapped\u001b[0m\u001b[0;34m)\u001b[0m \u001b[0;32mand\u001b[0m \u001b[0misinstance\u001b[0m\u001b[0;34m(\u001b[0m\u001b[0mmapped\u001b[0m\u001b[0;34m[\u001b[0m\u001b[0;36m0\u001b[0m\u001b[0;34m]\u001b[0m\u001b[0;34m,\u001b[0m \u001b[0mSeries\u001b[0m\u001b[0;34m)\u001b[0m\u001b[0;34m:\u001b[0m\u001b[0;34m\u001b[0m\u001b[0;34m\u001b[0m\u001b[0m\n",
            "\u001b[0;32mpandas/_libs/lib.pyx\u001b[0m in \u001b[0;36mpandas._libs.lib.map_infer\u001b[0;34m()\u001b[0m\n",
            "\u001b[0;32m<ipython-input-108-ce42420eb1c2>\u001b[0m in \u001b[0;36mtext_preprocess\u001b[0;34m(text)\u001b[0m\n\u001b[1;32m      1\u001b[0m \u001b[0;32mdef\u001b[0m \u001b[0mtext_preprocess\u001b[0m\u001b[0;34m(\u001b[0m\u001b[0mtext\u001b[0m\u001b[0;34m)\u001b[0m\u001b[0;34m:\u001b[0m\u001b[0;34m\u001b[0m\u001b[0;34m\u001b[0m\u001b[0m\n\u001b[1;32m      2\u001b[0m     \u001b[0mtext\u001b[0m \u001b[0;34m=\u001b[0m \u001b[0mre\u001b[0m\u001b[0;34m.\u001b[0m\u001b[0msub\u001b[0m\u001b[0;34m(\u001b[0m\u001b[0mpattern_1\u001b[0m\u001b[0;34m,\u001b[0m \u001b[0;34m''\u001b[0m\u001b[0;34m,\u001b[0m \u001b[0mtext\u001b[0m\u001b[0;34m)\u001b[0m\u001b[0;34m\u001b[0m\u001b[0;34m\u001b[0m\u001b[0m\n\u001b[0;32m----> 3\u001b[0;31m     \u001b[0mtext\u001b[0m \u001b[0;34m=\u001b[0m \u001b[0mre\u001b[0m\u001b[0;34m.\u001b[0m\u001b[0msub\u001b[0m\u001b[0;34m(\u001b[0m\u001b[0mpattern_2\u001b[0m\u001b[0;34m,\u001b[0m \u001b[0;34m''\u001b[0m\u001b[0;34m,\u001b[0m \u001b[0mtext\u001b[0m\u001b[0;34m)\u001b[0m\u001b[0;34m\u001b[0m\u001b[0;34m\u001b[0m\u001b[0m\n\u001b[0m\u001b[1;32m      4\u001b[0m     \u001b[0mtext\u001b[0m \u001b[0;34m=\u001b[0m \u001b[0mre\u001b[0m\u001b[0;34m.\u001b[0m\u001b[0msub\u001b[0m\u001b[0;34m(\u001b[0m\u001b[0mpattern_3\u001b[0m\u001b[0;34m,\u001b[0m \u001b[0;34m''\u001b[0m\u001b[0;34m,\u001b[0m \u001b[0mtext\u001b[0m\u001b[0;34m)\u001b[0m\u001b[0;34m\u001b[0m\u001b[0;34m\u001b[0m\u001b[0m\n\u001b[1;32m      5\u001b[0m \u001b[0;34m\u001b[0m\u001b[0m\n",
            "\u001b[0;32m/usr/lib/python3.6/re.py\u001b[0m in \u001b[0;36msub\u001b[0;34m(pattern, repl, string, count, flags)\u001b[0m\n\u001b[1;32m    189\u001b[0m     \u001b[0ma\u001b[0m \u001b[0mcallable\u001b[0m\u001b[0;34m,\u001b[0m \u001b[0mit\u001b[0m\u001b[0;31m'\u001b[0m\u001b[0ms\u001b[0m \u001b[0mpassed\u001b[0m \u001b[0mthe\u001b[0m \u001b[0mmatch\u001b[0m \u001b[0mobject\u001b[0m \u001b[0;32mand\u001b[0m \u001b[0mmust\u001b[0m \u001b[0;32mreturn\u001b[0m\u001b[0;34m\u001b[0m\u001b[0;34m\u001b[0m\u001b[0m\n\u001b[1;32m    190\u001b[0m     a replacement string to be used.\"\"\"\n\u001b[0;32m--> 191\u001b[0;31m     \u001b[0;32mreturn\u001b[0m \u001b[0m_compile\u001b[0m\u001b[0;34m(\u001b[0m\u001b[0mpattern\u001b[0m\u001b[0;34m,\u001b[0m \u001b[0mflags\u001b[0m\u001b[0;34m)\u001b[0m\u001b[0;34m.\u001b[0m\u001b[0msub\u001b[0m\u001b[0;34m(\u001b[0m\u001b[0mrepl\u001b[0m\u001b[0;34m,\u001b[0m \u001b[0mstring\u001b[0m\u001b[0;34m,\u001b[0m \u001b[0mcount\u001b[0m\u001b[0;34m)\u001b[0m\u001b[0;34m\u001b[0m\u001b[0;34m\u001b[0m\u001b[0m\n\u001b[0m\u001b[1;32m    192\u001b[0m \u001b[0;34m\u001b[0m\u001b[0m\n\u001b[1;32m    193\u001b[0m \u001b[0;32mdef\u001b[0m \u001b[0msubn\u001b[0m\u001b[0;34m(\u001b[0m\u001b[0mpattern\u001b[0m\u001b[0;34m,\u001b[0m \u001b[0mrepl\u001b[0m\u001b[0;34m,\u001b[0m \u001b[0mstring\u001b[0m\u001b[0;34m,\u001b[0m \u001b[0mcount\u001b[0m\u001b[0;34m=\u001b[0m\u001b[0;36m0\u001b[0m\u001b[0;34m,\u001b[0m \u001b[0mflags\u001b[0m\u001b[0;34m=\u001b[0m\u001b[0;36m0\u001b[0m\u001b[0;34m)\u001b[0m\u001b[0;34m:\u001b[0m\u001b[0;34m\u001b[0m\u001b[0;34m\u001b[0m\u001b[0m\n",
            "\u001b[0;32m/usr/lib/python3.6/re.py\u001b[0m in \u001b[0;36m_compile\u001b[0;34m(pattern, flags)\u001b[0m\n\u001b[1;32m    299\u001b[0m     \u001b[0;32mif\u001b[0m \u001b[0;32mnot\u001b[0m \u001b[0msre_compile\u001b[0m\u001b[0;34m.\u001b[0m\u001b[0misstring\u001b[0m\u001b[0;34m(\u001b[0m\u001b[0mpattern\u001b[0m\u001b[0;34m)\u001b[0m\u001b[0;34m:\u001b[0m\u001b[0;34m\u001b[0m\u001b[0;34m\u001b[0m\u001b[0m\n\u001b[1;32m    300\u001b[0m         \u001b[0;32mraise\u001b[0m \u001b[0mTypeError\u001b[0m\u001b[0;34m(\u001b[0m\u001b[0;34m\"first argument must be string or compiled pattern\"\u001b[0m\u001b[0;34m)\u001b[0m\u001b[0;34m\u001b[0m\u001b[0;34m\u001b[0m\u001b[0m\n\u001b[0;32m--> 301\u001b[0;31m     \u001b[0mp\u001b[0m \u001b[0;34m=\u001b[0m \u001b[0msre_compile\u001b[0m\u001b[0;34m.\u001b[0m\u001b[0mcompile\u001b[0m\u001b[0;34m(\u001b[0m\u001b[0mpattern\u001b[0m\u001b[0;34m,\u001b[0m \u001b[0mflags\u001b[0m\u001b[0;34m)\u001b[0m\u001b[0;34m\u001b[0m\u001b[0;34m\u001b[0m\u001b[0m\n\u001b[0m\u001b[1;32m    302\u001b[0m     \u001b[0;32mif\u001b[0m \u001b[0;32mnot\u001b[0m \u001b[0;34m(\u001b[0m\u001b[0mflags\u001b[0m \u001b[0;34m&\u001b[0m \u001b[0mDEBUG\u001b[0m\u001b[0;34m)\u001b[0m\u001b[0;34m:\u001b[0m\u001b[0;34m\u001b[0m\u001b[0;34m\u001b[0m\u001b[0m\n\u001b[1;32m    303\u001b[0m         \u001b[0;32mif\u001b[0m \u001b[0mlen\u001b[0m\u001b[0;34m(\u001b[0m\u001b[0m_cache\u001b[0m\u001b[0;34m)\u001b[0m \u001b[0;34m>=\u001b[0m \u001b[0m_MAXCACHE\u001b[0m\u001b[0;34m:\u001b[0m\u001b[0;34m\u001b[0m\u001b[0;34m\u001b[0m\u001b[0m\n",
            "\u001b[0;32m/usr/lib/python3.6/sre_compile.py\u001b[0m in \u001b[0;36mcompile\u001b[0;34m(p, flags)\u001b[0m\n\u001b[1;32m    560\u001b[0m     \u001b[0;32mif\u001b[0m \u001b[0misstring\u001b[0m\u001b[0;34m(\u001b[0m\u001b[0mp\u001b[0m\u001b[0;34m)\u001b[0m\u001b[0;34m:\u001b[0m\u001b[0;34m\u001b[0m\u001b[0;34m\u001b[0m\u001b[0m\n\u001b[1;32m    561\u001b[0m         \u001b[0mpattern\u001b[0m \u001b[0;34m=\u001b[0m \u001b[0mp\u001b[0m\u001b[0;34m\u001b[0m\u001b[0;34m\u001b[0m\u001b[0m\n\u001b[0;32m--> 562\u001b[0;31m         \u001b[0mp\u001b[0m \u001b[0;34m=\u001b[0m \u001b[0msre_parse\u001b[0m\u001b[0;34m.\u001b[0m\u001b[0mparse\u001b[0m\u001b[0;34m(\u001b[0m\u001b[0mp\u001b[0m\u001b[0;34m,\u001b[0m \u001b[0mflags\u001b[0m\u001b[0;34m)\u001b[0m\u001b[0;34m\u001b[0m\u001b[0;34m\u001b[0m\u001b[0m\n\u001b[0m\u001b[1;32m    563\u001b[0m     \u001b[0;32melse\u001b[0m\u001b[0;34m:\u001b[0m\u001b[0;34m\u001b[0m\u001b[0;34m\u001b[0m\u001b[0m\n\u001b[1;32m    564\u001b[0m         \u001b[0mpattern\u001b[0m \u001b[0;34m=\u001b[0m \u001b[0;32mNone\u001b[0m\u001b[0;34m\u001b[0m\u001b[0;34m\u001b[0m\u001b[0m\n",
            "\u001b[0;32m/usr/lib/python3.6/sre_parse.py\u001b[0m in \u001b[0;36mparse\u001b[0;34m(str, flags, pattern)\u001b[0m\n\u001b[1;32m    853\u001b[0m \u001b[0;34m\u001b[0m\u001b[0m\n\u001b[1;32m    854\u001b[0m     \u001b[0;32mtry\u001b[0m\u001b[0;34m:\u001b[0m\u001b[0;34m\u001b[0m\u001b[0;34m\u001b[0m\u001b[0m\n\u001b[0;32m--> 855\u001b[0;31m         \u001b[0mp\u001b[0m \u001b[0;34m=\u001b[0m \u001b[0m_parse_sub\u001b[0m\u001b[0;34m(\u001b[0m\u001b[0msource\u001b[0m\u001b[0;34m,\u001b[0m \u001b[0mpattern\u001b[0m\u001b[0;34m,\u001b[0m \u001b[0mflags\u001b[0m \u001b[0;34m&\u001b[0m \u001b[0mSRE_FLAG_VERBOSE\u001b[0m\u001b[0;34m,\u001b[0m \u001b[0;36m0\u001b[0m\u001b[0;34m)\u001b[0m\u001b[0;34m\u001b[0m\u001b[0;34m\u001b[0m\u001b[0m\n\u001b[0m\u001b[1;32m    856\u001b[0m     \u001b[0;32mexcept\u001b[0m \u001b[0mVerbose\u001b[0m\u001b[0;34m:\u001b[0m\u001b[0;34m\u001b[0m\u001b[0;34m\u001b[0m\u001b[0m\n\u001b[1;32m    857\u001b[0m         \u001b[0;31m# the VERBOSE flag was switched on inside the pattern.  to be\u001b[0m\u001b[0;34m\u001b[0m\u001b[0;34m\u001b[0m\u001b[0;34m\u001b[0m\u001b[0m\n",
            "\u001b[0;32m/usr/lib/python3.6/sre_parse.py\u001b[0m in \u001b[0;36m_parse_sub\u001b[0;34m(source, state, verbose, nested)\u001b[0m\n\u001b[1;32m    414\u001b[0m     \u001b[0;32mwhile\u001b[0m \u001b[0;32mTrue\u001b[0m\u001b[0;34m:\u001b[0m\u001b[0;34m\u001b[0m\u001b[0;34m\u001b[0m\u001b[0m\n\u001b[1;32m    415\u001b[0m         itemsappend(_parse(source, state, verbose, nested + 1,\n\u001b[0;32m--> 416\u001b[0;31m                            not nested and not items))\n\u001b[0m\u001b[1;32m    417\u001b[0m         \u001b[0;32mif\u001b[0m \u001b[0;32mnot\u001b[0m \u001b[0msourcematch\u001b[0m\u001b[0;34m(\u001b[0m\u001b[0;34m\"|\"\u001b[0m\u001b[0;34m)\u001b[0m\u001b[0;34m:\u001b[0m\u001b[0;34m\u001b[0m\u001b[0;34m\u001b[0m\u001b[0m\n\u001b[1;32m    418\u001b[0m             \u001b[0;32mbreak\u001b[0m\u001b[0;34m\u001b[0m\u001b[0;34m\u001b[0m\u001b[0m\n",
            "\u001b[0;32m/usr/lib/python3.6/sre_parse.py\u001b[0m in \u001b[0;36m_parse\u001b[0;34m(source, state, verbose, nested, first)\u001b[0m\n\u001b[1;32m    766\u001b[0m             \u001b[0;32mif\u001b[0m \u001b[0;32mnot\u001b[0m \u001b[0msource\u001b[0m\u001b[0;34m.\u001b[0m\u001b[0mmatch\u001b[0m\u001b[0;34m(\u001b[0m\u001b[0;34m\")\"\u001b[0m\u001b[0;34m)\u001b[0m\u001b[0;34m:\u001b[0m\u001b[0;34m\u001b[0m\u001b[0;34m\u001b[0m\u001b[0m\n\u001b[1;32m    767\u001b[0m                 raise source.error(\"missing ), unterminated subpattern\",\n\u001b[0;32m--> 768\u001b[0;31m                                    source.tell() - start)\n\u001b[0m\u001b[1;32m    769\u001b[0m             \u001b[0;32mif\u001b[0m \u001b[0mgroup\u001b[0m \u001b[0;32mis\u001b[0m \u001b[0;32mnot\u001b[0m \u001b[0;32mNone\u001b[0m\u001b[0;34m:\u001b[0m\u001b[0;34m\u001b[0m\u001b[0;34m\u001b[0m\u001b[0m\n\u001b[1;32m    770\u001b[0m                 \u001b[0mstate\u001b[0m\u001b[0;34m.\u001b[0m\u001b[0mclosegroup\u001b[0m\u001b[0;34m(\u001b[0m\u001b[0mgroup\u001b[0m\u001b[0;34m,\u001b[0m \u001b[0mp\u001b[0m\u001b[0;34m)\u001b[0m\u001b[0;34m\u001b[0m\u001b[0;34m\u001b[0m\u001b[0m\n",
            "\u001b[0;31merror\u001b[0m: missing ), unterminated subpattern at position 2"
          ]
        }
      ]
    },
    {
      "cell_type": "code",
      "metadata": {
        "id": "BP2JtW4mEXrI",
        "colab_type": "code",
        "colab": {}
      },
      "source": [
        "df_main[df_main['사업장명'] == '패스트캠퍼스']"
      ],
      "execution_count": null,
      "outputs": []
    },
    {
      "cell_type": "code",
      "metadata": {
        "id": "EPebdAbpEXrK",
        "colab_type": "code",
        "colab": {}
      },
      "source": [
        "df['사업장명'] = df['사업장명'].apply(text_preprocess)"
      ],
      "execution_count": null,
      "outputs": []
    },
    {
      "cell_type": "code",
      "metadata": {
        "id": "CyMUUkRdEXrM",
        "colab_type": "code",
        "colab": {
          "base_uri": "https://localhost:8080/",
          "height": 90
        },
        "outputId": "21db9dd2-b385-4dc0-8487-29fe4caf8b3c"
      },
      "source": [
        "df.columns"
      ],
      "execution_count": null,
      "outputs": [
        {
          "output_type": "execute_result",
          "data": {
            "text/plain": [
              "Index(['자료생성년월', '사업장명', '사업자번호', '가입상태', '우편번호', '지번주소', '도로명주소', '법정주소코드',\n",
              "       '행정주소코드', '광역시코드', '시군구코드', '읍면동코드', '사업장형태', '업종코드', '업종코드명', '적용일',\n",
              "       '재등록일', '탈퇴일', '가입자수', '고지금액', '신규', '상실', '인당고지금액', '평균월급', '평균연봉'],\n",
              "      dtype='object')"
            ]
          },
          "metadata": {
            "tags": []
          },
          "execution_count": 82
        }
      ]
    },
    {
      "cell_type": "code",
      "metadata": {
        "id": "fPE3D92vRBOF",
        "colab_type": "code",
        "colab": {
          "base_uri": "https://localhost:8080/",
          "height": 411
        },
        "outputId": "e937a3e8-3e6e-4abf-b42b-78d5606e02df"
      },
      "source": [
        "plt.figure(figsize = (16,6))\n",
        "sns.barplot(x=df.groupby('시군구코드')['가입자수'].mean().index, y=df.groupby('시군구코드')['가입자수'].mean())\n",
        "plt.title('시군구 별 가입자수')\n",
        "plt.xticks(rotation=90)\n",
        "plt.show()"
      ],
      "execution_count": null,
      "outputs": [
        {
          "output_type": "display_data",
          "data": {
            "image/png": "[encoded data removed]",
            "text/plain": [
              "<Figure size 1152x432 with 1 Axes>"
            ]
          },
          "metadata": {
            "tags": [],
            "needs_background": "light"
          }
        }
      ]
    },
    {
      "cell_type": "code",
      "metadata": {
        "id": "CPASxgNoRBRK",
        "colab_type": "code",
        "colab": {
          "base_uri": "https://localhost:8080/",
          "height": 411
        },
        "outputId": "e76a6ab7-f850-499c-ecf6-969c2280b446"
      },
      "source": [
        "plt.figure(figsize=(16,6))\n",
        "sns.barplot(x=df.groupby('시군구코드')['상실'].mean().index, y=df.groupby('시군구코드')['상실'].mean())\n",
        "plt.title('시군구 별 신규인력')\n",
        "plt.xticks(rotation=90)\n",
        "plt.show()"
      ],
      "execution_count": null,
      "outputs": [
        {
          "output_type": "display_data",
          "data": {
            "image/png": "[encoded data removed]",
            "text/plain": [
              "<Figure size 1152x432 with 1 Axes>"
            ]
          },
          "metadata": {
            "tags": [],
            "needs_background": "light"
          }
        }
      ]
    },
    {
      "cell_type": "code",
      "metadata": {
        "id": "KdbOWO4IRBT3",
        "colab_type": "code",
        "colab": {
          "base_uri": "https://localhost:8080/",
          "height": 304
        },
        "outputId": "5f708b90-8d28-47a5-de71-69e8bfb20d32"
      },
      "source": [
        "df.head()"
      ],
      "execution_count": null,
      "outputs": [
        {
          "output_type": "execute_result",
          "data": {
            "text/html": [
              "<div>\n",
              "<style scoped>\n",
              "    .dataframe tbody tr th:only-of-type {\n",
              "        vertical-align: middle;\n",
              "    }\n",
              "\n",
              "    .dataframe tbody tr th {\n",
              "        vertical-align: top;\n",
              "    }\n",
              "\n",
              "    .dataframe thead th {\n",
              "        text-align: right;\n",
              "    }\n",
              "</style>\n",
              "<table border=\"1\" class=\"dataframe\">\n",
              "  <thead>\n",
              "    <tr style=\"text-align: right;\">\n",
              "      <th></th>\n",
              "      <th>자료생성년월</th>\n",
              "      <th>사업장명</th>\n",
              "      <th>사업자번호</th>\n",
              "      <th>가입상태</th>\n",
              "      <th>우편번호</th>\n",
              "      <th>지번주소</th>\n",
              "      <th>도로명주소</th>\n",
              "      <th>법정주소코드</th>\n",
              "      <th>행정주소코드</th>\n",
              "      <th>광역시코드</th>\n",
              "      <th>시군구코드</th>\n",
              "      <th>읍면동코드</th>\n",
              "      <th>사업장형태</th>\n",
              "      <th>업종코드</th>\n",
              "      <th>업종코드명</th>\n",
              "      <th>적용일</th>\n",
              "      <th>재등록일</th>\n",
              "      <th>탈퇴일</th>\n",
              "      <th>가입자수</th>\n",
              "      <th>고지금액</th>\n",
              "      <th>신규</th>\n",
              "      <th>상실</th>\n",
              "      <th>인당고지금액</th>\n",
              "      <th>평균월급</th>\n",
              "      <th>평균연봉</th>\n",
              "    </tr>\n",
              "  </thead>\n",
              "  <tbody>\n",
              "    <tr>\n",
              "      <th>0</th>\n",
              "      <td>202007</td>\n",
              "      <td>우성기전(주)</td>\n",
              "      <td>126811</td>\n",
              "      <td>1</td>\n",
              "      <td>12816</td>\n",
              "      <td>경기도 광주시 도척면</td>\n",
              "      <td>경기도 광주시 도척면 도척윗로</td>\n",
              "      <td>4161033025</td>\n",
              "      <td>4161033025</td>\n",
              "      <td>41</td>\n",
              "      <td>610</td>\n",
              "      <td>330</td>\n",
              "      <td>1</td>\n",
              "      <td>292201</td>\n",
              "      <td>동력식 수지 공구 제조업</td>\n",
              "      <td>19880101</td>\n",
              "      <td>10101</td>\n",
              "      <td>10101</td>\n",
              "      <td>5</td>\n",
              "      <td>792720</td>\n",
              "      <td>0</td>\n",
              "      <td>0</td>\n",
              "      <td>158544.00</td>\n",
              "      <td>1761600.00</td>\n",
              "      <td>21139200.00</td>\n",
              "    </tr>\n",
              "    <tr>\n",
              "      <th>1</th>\n",
              "      <td>202007</td>\n",
              "      <td>서능공원묘지운영회(재)</td>\n",
              "      <td>102820</td>\n",
              "      <td>1</td>\n",
              "      <td>11191</td>\n",
              "      <td>경기도 포천시 내촌면</td>\n",
              "      <td></td>\n",
              "      <td>4165032022</td>\n",
              "      <td>4165032022</td>\n",
              "      <td>41</td>\n",
              "      <td>650</td>\n",
              "      <td>320</td>\n",
              "      <td>1</td>\n",
              "      <td>701700</td>\n",
              "      <td>화장터 운영  묘지 분양 및 관리업</td>\n",
              "      <td>19880101</td>\n",
              "      <td>10101</td>\n",
              "      <td>10101</td>\n",
              "      <td>13</td>\n",
              "      <td>3278460</td>\n",
              "      <td>0</td>\n",
              "      <td>0</td>\n",
              "      <td>252189.23</td>\n",
              "      <td>2802102.56</td>\n",
              "      <td>33625230.77</td>\n",
              "    </tr>\n",
              "    <tr>\n",
              "      <th>2</th>\n",
              "      <td>202007</td>\n",
              "      <td>노들새마을금고</td>\n",
              "      <td>108820</td>\n",
              "      <td>1</td>\n",
              "      <td>6923</td>\n",
              "      <td>서울특별시 동작구 노량진동</td>\n",
              "      <td>서울특별시 동작구 만양로</td>\n",
              "      <td>1159010100</td>\n",
              "      <td>1159051000</td>\n",
              "      <td>11</td>\n",
              "      <td>590</td>\n",
              "      <td>101</td>\n",
              "      <td>1</td>\n",
              "      <td>659202</td>\n",
              "      <td>신용조합</td>\n",
              "      <td>19880101</td>\n",
              "      <td>10101</td>\n",
              "      <td>10101</td>\n",
              "      <td>14</td>\n",
              "      <td>4839540</td>\n",
              "      <td>0</td>\n",
              "      <td>1</td>\n",
              "      <td>345681.43</td>\n",
              "      <td>3840904.76</td>\n",
              "      <td>46090857.14</td>\n",
              "    </tr>\n",
              "    <tr>\n",
              "      <th>3</th>\n",
              "      <td>202007</td>\n",
              "      <td>유창성업(주)</td>\n",
              "      <td>122812</td>\n",
              "      <td>1</td>\n",
              "      <td>22849</td>\n",
              "      <td>인천광역시 서구 오류동</td>\n",
              "      <td>인천광역시 서구 갑문2로</td>\n",
              "      <td>2826011900</td>\n",
              "      <td>2826072000</td>\n",
              "      <td>28</td>\n",
              "      <td>260</td>\n",
              "      <td>119</td>\n",
              "      <td>1</td>\n",
              "      <td>749604</td>\n",
              "      <td>그 외 기타 분류 안된 사업 지원 서비스업(기타임가공</td>\n",
              "      <td>19880101</td>\n",
              "      <td>10101</td>\n",
              "      <td>10101</td>\n",
              "      <td>28</td>\n",
              "      <td>5575460</td>\n",
              "      <td>0</td>\n",
              "      <td>0</td>\n",
              "      <td>199123.57</td>\n",
              "      <td>2212484.13</td>\n",
              "      <td>26549809.52</td>\n",
              "    </tr>\n",
              "    <tr>\n",
              "      <th>4</th>\n",
              "      <td>202007</td>\n",
              "      <td>희성전자(주)</td>\n",
              "      <td>106810</td>\n",
              "      <td>1</td>\n",
              "      <td>4410</td>\n",
              "      <td>서울특별시 용산구 한남동</td>\n",
              "      <td>서울특별시 용산구 독서당로14길</td>\n",
              "      <td>1117013100</td>\n",
              "      <td>1117067000</td>\n",
              "      <td>11</td>\n",
              "      <td>170</td>\n",
              "      <td>131</td>\n",
              "      <td>1</td>\n",
              "      <td>701201</td>\n",
              "      <td>비주거용 건물 임대업(점포  자기땅)</td>\n",
              "      <td>19880101</td>\n",
              "      <td>10101</td>\n",
              "      <td>10101</td>\n",
              "      <td>496</td>\n",
              "      <td>208935540</td>\n",
              "      <td>0</td>\n",
              "      <td>2</td>\n",
              "      <td>421241.01</td>\n",
              "      <td>4680455.65</td>\n",
              "      <td>56165467.74</td>\n",
              "    </tr>\n",
              "  </tbody>\n",
              "</table>\n",
              "</div>"
            ],
            "text/plain": [
              "   자료생성년월          사업장명   사업자번호  가입상태  ...  상실    인당고지금액       평균월급        평균연봉\n",
              "0  202007       우성기전(주)  126811     1  ...   0 158544.00 1761600.00 21139200.00\n",
              "1  202007  서능공원묘지운영회(재)  102820     1  ...   0 252189.23 2802102.56 33625230.77\n",
              "2  202007       노들새마을금고  108820     1  ...   1 345681.43 3840904.76 46090857.14\n",
              "3  202007       유창성업(주)  122812     1  ...   0 199123.57 2212484.13 26549809.52\n",
              "4  202007       희성전자(주)  106810     1  ...   2 421241.01 4680455.65 56165467.74\n",
              "\n",
              "[5 rows x 25 columns]"
            ]
          },
          "metadata": {
            "tags": []
          },
          "execution_count": 86
        }
      ]
    },
    {
      "cell_type": "code",
      "metadata": {
        "id": "oCCyQAMhRBZs",
        "colab_type": "code",
        "colab": {
          "base_uri": "https://localhost:8080/",
          "height": 659
        },
        "outputId": "6fceaa7a-722f-43a5-c3ba-7ce2e956eb28"
      },
      "source": [
        "df.loc[df['시군구코드'] == 220][['사업장명', '지번주소', '신규']].sort_values(by='신규', ascending=False).head(20)"
      ],
      "execution_count": null,
      "outputs": [
        {
          "output_type": "execute_result",
          "data": {
            "text/html": [
              "<div>\n",
              "<style scoped>\n",
              "    .dataframe tbody tr th:only-of-type {\n",
              "        vertical-align: middle;\n",
              "    }\n",
              "\n",
              "    .dataframe tbody tr th {\n",
              "        vertical-align: top;\n",
              "    }\n",
              "\n",
              "    .dataframe thead th {\n",
              "        text-align: right;\n",
              "    }\n",
              "</style>\n",
              "<table border=\"1\" class=\"dataframe\">\n",
              "  <thead>\n",
              "    <tr style=\"text-align: right;\">\n",
              "      <th></th>\n",
              "      <th>사업장명</th>\n",
              "      <th>지번주소</th>\n",
              "      <th>신규</th>\n",
              "    </tr>\n",
              "  </thead>\n",
              "  <tbody>\n",
              "    <tr>\n",
              "      <th>513991</th>\n",
              "      <td>대아이앤씨(주)-(일용)평택FAB2기신축공사중하층서편 상층동편공사중 일반설비5공구(...</td>\n",
              "      <td>경기도 평택시 고덕면</td>\n",
              "      <td>877</td>\n",
              "    </tr>\n",
              "    <tr>\n",
              "      <th>508965</th>\n",
              "      <td>주식회사　세보엠이씨(일용)일반설비 1공구(3-1)</td>\n",
              "      <td>경기도 평택시 고덕면</td>\n",
              "      <td>784</td>\n",
              "    </tr>\n",
              "    <tr>\n",
              "      <th>493806</th>\n",
              "      <td>(주）세방테크-(일용)평택FAB2기신축공사중하층서편 상층동편 공사 중 일반설비4공구...</td>\n",
              "      <td>경기도 평택시 고덕면</td>\n",
              "      <td>371</td>\n",
              "    </tr>\n",
              "    <tr>\n",
              "      <th>4029</th>\n",
              "      <td>미공군경리처(오산충당)</td>\n",
              "      <td>경기도 평택시 지산동</td>\n",
              "      <td>366</td>\n",
              "    </tr>\n",
              "    <tr>\n",
              "      <th>498697</th>\n",
              "      <td>(주）삼진일렉스-(일용)평택 FAB 2기 신축공사(하층서편) 중 일반전기공사 3-1 공구</td>\n",
              "      <td>경기도 평택시 장당동</td>\n",
              "      <td>250</td>\n",
              "    </tr>\n",
              "    <tr>\n",
              "      <th>498573</th>\n",
              "      <td>주식회사　세보엠이씨(일용)P2-하층서편 상층동편 기계배관공사(A)</td>\n",
              "      <td>경기도 평택시 고덕면</td>\n",
              "      <td>244</td>\n",
              "    </tr>\n",
              "    <tr>\n",
              "      <th>503992</th>\n",
              "      <td>（주）통광-(일용)평택전자P2-PJT UT동 중 P2L CT동 하층서편 일반전기공사...</td>\n",
              "      <td>경기도 평택시 고덕면</td>\n",
              "      <td>243</td>\n",
              "    </tr>\n",
              "    <tr>\n",
              "      <th>488036</th>\n",
              "      <td>(주）세방테크-(일용)평택전자P2-PJT UT동P2LUT동하층서편 상층동편기계배관공...</td>\n",
              "      <td>경기도 평택시 고덕면</td>\n",
              "      <td>239</td>\n",
              "    </tr>\n",
              "    <tr>\n",
              "      <th>492563</th>\n",
              "      <td>대명지이씨（주）-(일용)평택 FAB2기 신축공사(하층서편)중 일반전기공사 3-2공구</td>\n",
              "      <td>경기도 평택시 고덕면</td>\n",
              "      <td>170</td>\n",
              "    </tr>\n",
              "    <tr>\n",
              "      <th>512740</th>\n",
              "      <td>(주)케이씨이앤씨-(일용)평택FAB2기신축공사중하층서편 상층동편공사GAS/PCW2공...</td>\n",
              "      <td>경기도 평택시 고덕면</td>\n",
              "      <td>169</td>\n",
              "    </tr>\n",
              "    <tr>\n",
              "      <th>508649</th>\n",
              "      <td>（주）신보-일용/P2L UT동 하층 서편 일반전기공사</td>\n",
              "      <td>경기도 평택시 고덕면</td>\n",
              "      <td>130</td>\n",
              "    </tr>\n",
              "    <tr>\n",
              "      <th>514873</th>\n",
              "      <td>대아이앤씨(주)/일용/평택소방기계1공구</td>\n",
              "      <td>경기도 평택시 고덕면</td>\n",
              "      <td>130</td>\n",
              "    </tr>\n",
              "    <tr>\n",
              "      <th>514085</th>\n",
              "      <td>（주）환승이엔지(일용)[P2]하층동편 소방설비공사</td>\n",
              "      <td>경기도 평택시 고덕면</td>\n",
              "      <td>118</td>\n",
              "    </tr>\n",
              "    <tr>\n",
              "      <th>507761</th>\n",
              "      <td>신안산업개발(주)/일용/평택 P2L 하층서편 마감 중 해체철거 비계공사(3-1공구)</td>\n",
              "      <td>경기도 평택시 고덕면</td>\n",
              "      <td>111</td>\n",
              "    </tr>\n",
              "    <tr>\n",
              "      <th>505556</th>\n",
              "      <td>（주）협성기전-(일용)평택 FAB 2기 신축공사(하층서편) 중 자동제어공사 3-1공구</td>\n",
              "      <td>경기도 평택시 고덕면</td>\n",
              "      <td>105</td>\n",
              "    </tr>\n",
              "    <tr>\n",
              "      <th>474707</th>\n",
              "      <td>(주）케이세웅건설 - (일용) 평택 지제세교지구 1블록 공동주택</td>\n",
              "      <td>경기도 평택시 지제동</td>\n",
              "      <td>104</td>\n",
              "    </tr>\n",
              "    <tr>\n",
              "      <th>500051</th>\n",
              "      <td>대아이앤씨（주）-(일용)소방기계 4공구 (상동)</td>\n",
              "      <td>경기도 평택시 고덕면</td>\n",
              "      <td>88</td>\n",
              "    </tr>\n",
              "    <tr>\n",
              "      <th>498498</th>\n",
              "      <td>(주)화성건설이엔지-(일용)평택전자P2-PJT UT동 중 P2 UT동PH.2&amp;3통합...</td>\n",
              "      <td>경기도 평택시 고덕면</td>\n",
              "      <td>87</td>\n",
              "    </tr>\n",
              "    <tr>\n",
              "      <th>431772</th>\n",
              "      <td>（주）세방테크-(일용)평택전자 P2-PJT대기방지(PH1)일반배관(FAB)</td>\n",
              "      <td>경기도 평택시 장당동</td>\n",
              "      <td>84</td>\n",
              "    </tr>\n",
              "    <tr>\n",
              "      <th>489738</th>\n",
              "      <td>한성크린텍(주)-(일용)평택 전자 P2-PJT 초순수 [PH2  3] UT동 설비공사</td>\n",
              "      <td>경기도 평택시 고덕면</td>\n",
              "      <td>83</td>\n",
              "    </tr>\n",
              "  </tbody>\n",
              "</table>\n",
              "</div>"
            ],
            "text/plain": [
              "                                                     사업장명         지번주소   신규\n",
              "513991  대아이앤씨(주)-(일용)평택FAB2기신축공사중하층서편 상층동편공사중 일반설비5공구(...  경기도 평택시 고덕면  877\n",
              "508965                        주식회사　세보엠이씨(일용)일반설비 1공구(3-1)  경기도 평택시 고덕면  784\n",
              "493806  (주）세방테크-(일용)평택FAB2기신축공사중하층서편 상층동편 공사 중 일반설비4공구...  경기도 평택시 고덕면  371\n",
              "4029                                         미공군경리처(오산충당)  경기도 평택시 지산동  366\n",
              "498697  (주）삼진일렉스-(일용)평택 FAB 2기 신축공사(하층서편) 중 일반전기공사 3-1 공구  경기도 평택시 장당동  250\n",
              "498573               주식회사　세보엠이씨(일용)P2-하층서편 상층동편 기계배관공사(A)  경기도 평택시 고덕면  244\n",
              "503992  （주）통광-(일용)평택전자P2-PJT UT동 중 P2L CT동 하층서편 일반전기공사...  경기도 평택시 고덕면  243\n",
              "488036  (주）세방테크-(일용)평택전자P2-PJT UT동P2LUT동하층서편 상층동편기계배관공...  경기도 평택시 고덕면  239\n",
              "492563     대명지이씨（주）-(일용)평택 FAB2기 신축공사(하층서편)중 일반전기공사 3-2공구  경기도 평택시 고덕면  170\n",
              "512740  (주)케이씨이앤씨-(일용)평택FAB2기신축공사중하층서편 상층동편공사GAS/PCW2공...  경기도 평택시 고덕면  169\n",
              "508649                      （주）신보-일용/P2L UT동 하층 서편 일반전기공사  경기도 평택시 고덕면  130\n",
              "514873                              대아이앤씨(주)/일용/평택소방기계1공구  경기도 평택시 고덕면  130\n",
              "514085                        （주）환승이엔지(일용)[P2]하층동편 소방설비공사  경기도 평택시 고덕면  118\n",
              "507761     신안산업개발(주)/일용/평택 P2L 하층서편 마감 중 해체철거 비계공사(3-1공구)  경기도 평택시 고덕면  111\n",
              "505556    （주）협성기전-(일용)평택 FAB 2기 신축공사(하층서편) 중 자동제어공사 3-1공구  경기도 평택시 고덕면  105\n",
              "474707                (주）케이세웅건설 - (일용) 평택 지제세교지구 1블록 공동주택  경기도 평택시 지제동  104\n",
              "500051                         대아이앤씨（주）-(일용)소방기계 4공구 (상동)  경기도 평택시 고덕면   88\n",
              "498498  (주)화성건설이엔지-(일용)평택전자P2-PJT UT동 중 P2 UT동PH.2&3통합...  경기도 평택시 고덕면   87\n",
              "431772          （주）세방테크-(일용)평택전자 P2-PJT대기방지(PH1)일반배관(FAB)  경기도 평택시 장당동   84\n",
              "489738    한성크린텍(주)-(일용)평택 전자 P2-PJT 초순수 [PH2  3] UT동 설비공사  경기도 평택시 고덕면   83"
            ]
          },
          "metadata": {
            "tags": []
          },
          "execution_count": 87
        }
      ]
    },
    {
      "cell_type": "code",
      "metadata": {
        "id": "dAF2w2zITP6O",
        "colab_type": "code",
        "colab": {
          "base_uri": "https://localhost:8080/",
          "height": 659
        },
        "outputId": "ada6f053-4c2b-4b42-9135-622ceed6a81f"
      },
      "source": [
        "# 시군구코드 == 220 은 어느 지역을 의미하는지 알수 있는 방법?\n",
        "df.loc[df['시군구코드'] == 220][['사업장명', '지번주소', '신규']].sort_values(by='신규', ascending=False).head(20)"
      ],
      "execution_count": null,
      "outputs": [
        {
          "output_type": "execute_result",
          "data": {
            "text/html": [
              "<div>\n",
              "<style scoped>\n",
              "    .dataframe tbody tr th:only-of-type {\n",
              "        vertical-align: middle;\n",
              "    }\n",
              "\n",
              "    .dataframe tbody tr th {\n",
              "        vertical-align: top;\n",
              "    }\n",
              "\n",
              "    .dataframe thead th {\n",
              "        text-align: right;\n",
              "    }\n",
              "</style>\n",
              "<table border=\"1\" class=\"dataframe\">\n",
              "  <thead>\n",
              "    <tr style=\"text-align: right;\">\n",
              "      <th></th>\n",
              "      <th>사업장명</th>\n",
              "      <th>지번주소</th>\n",
              "      <th>신규</th>\n",
              "    </tr>\n",
              "  </thead>\n",
              "  <tbody>\n",
              "    <tr>\n",
              "      <th>513991</th>\n",
              "      <td>대아이앤씨(주)-(일용)평택FAB2기신축공사중하층서편 상층동편공사중 일반설비5공구(...</td>\n",
              "      <td>경기도 평택시 고덕면</td>\n",
              "      <td>877</td>\n",
              "    </tr>\n",
              "    <tr>\n",
              "      <th>508965</th>\n",
              "      <td>주식회사　세보엠이씨(일용)일반설비 1공구(3-1)</td>\n",
              "      <td>경기도 평택시 고덕면</td>\n",
              "      <td>784</td>\n",
              "    </tr>\n",
              "    <tr>\n",
              "      <th>493806</th>\n",
              "      <td>(주）세방테크-(일용)평택FAB2기신축공사중하층서편 상층동편 공사 중 일반설비4공구...</td>\n",
              "      <td>경기도 평택시 고덕면</td>\n",
              "      <td>371</td>\n",
              "    </tr>\n",
              "    <tr>\n",
              "      <th>4029</th>\n",
              "      <td>미공군경리처(오산충당)</td>\n",
              "      <td>경기도 평택시 지산동</td>\n",
              "      <td>366</td>\n",
              "    </tr>\n",
              "    <tr>\n",
              "      <th>498697</th>\n",
              "      <td>(주）삼진일렉스-(일용)평택 FAB 2기 신축공사(하층서편) 중 일반전기공사 3-1 공구</td>\n",
              "      <td>경기도 평택시 장당동</td>\n",
              "      <td>250</td>\n",
              "    </tr>\n",
              "    <tr>\n",
              "      <th>498573</th>\n",
              "      <td>주식회사　세보엠이씨(일용)P2-하층서편 상층동편 기계배관공사(A)</td>\n",
              "      <td>경기도 평택시 고덕면</td>\n",
              "      <td>244</td>\n",
              "    </tr>\n",
              "    <tr>\n",
              "      <th>503992</th>\n",
              "      <td>（주）통광-(일용)평택전자P2-PJT UT동 중 P2L CT동 하층서편 일반전기공사...</td>\n",
              "      <td>경기도 평택시 고덕면</td>\n",
              "      <td>243</td>\n",
              "    </tr>\n",
              "    <tr>\n",
              "      <th>488036</th>\n",
              "      <td>(주）세방테크-(일용)평택전자P2-PJT UT동P2LUT동하층서편 상층동편기계배관공...</td>\n",
              "      <td>경기도 평택시 고덕면</td>\n",
              "      <td>239</td>\n",
              "    </tr>\n",
              "    <tr>\n",
              "      <th>492563</th>\n",
              "      <td>대명지이씨（주）-(일용)평택 FAB2기 신축공사(하층서편)중 일반전기공사 3-2공구</td>\n",
              "      <td>경기도 평택시 고덕면</td>\n",
              "      <td>170</td>\n",
              "    </tr>\n",
              "    <tr>\n",
              "      <th>512740</th>\n",
              "      <td>(주)케이씨이앤씨-(일용)평택FAB2기신축공사중하층서편 상층동편공사GAS/PCW2공...</td>\n",
              "      <td>경기도 평택시 고덕면</td>\n",
              "      <td>169</td>\n",
              "    </tr>\n",
              "    <tr>\n",
              "      <th>508649</th>\n",
              "      <td>（주）신보-일용/P2L UT동 하층 서편 일반전기공사</td>\n",
              "      <td>경기도 평택시 고덕면</td>\n",
              "      <td>130</td>\n",
              "    </tr>\n",
              "    <tr>\n",
              "      <th>514873</th>\n",
              "      <td>대아이앤씨(주)/일용/평택소방기계1공구</td>\n",
              "      <td>경기도 평택시 고덕면</td>\n",
              "      <td>130</td>\n",
              "    </tr>\n",
              "    <tr>\n",
              "      <th>514085</th>\n",
              "      <td>（주）환승이엔지(일용)[P2]하층동편 소방설비공사</td>\n",
              "      <td>경기도 평택시 고덕면</td>\n",
              "      <td>118</td>\n",
              "    </tr>\n",
              "    <tr>\n",
              "      <th>507761</th>\n",
              "      <td>신안산업개발(주)/일용/평택 P2L 하층서편 마감 중 해체철거 비계공사(3-1공구)</td>\n",
              "      <td>경기도 평택시 고덕면</td>\n",
              "      <td>111</td>\n",
              "    </tr>\n",
              "    <tr>\n",
              "      <th>505556</th>\n",
              "      <td>（주）협성기전-(일용)평택 FAB 2기 신축공사(하층서편) 중 자동제어공사 3-1공구</td>\n",
              "      <td>경기도 평택시 고덕면</td>\n",
              "      <td>105</td>\n",
              "    </tr>\n",
              "    <tr>\n",
              "      <th>474707</th>\n",
              "      <td>(주）케이세웅건설 - (일용) 평택 지제세교지구 1블록 공동주택</td>\n",
              "      <td>경기도 평택시 지제동</td>\n",
              "      <td>104</td>\n",
              "    </tr>\n",
              "    <tr>\n",
              "      <th>500051</th>\n",
              "      <td>대아이앤씨（주）-(일용)소방기계 4공구 (상동)</td>\n",
              "      <td>경기도 평택시 고덕면</td>\n",
              "      <td>88</td>\n",
              "    </tr>\n",
              "    <tr>\n",
              "      <th>498498</th>\n",
              "      <td>(주)화성건설이엔지-(일용)평택전자P2-PJT UT동 중 P2 UT동PH.2&amp;3통합...</td>\n",
              "      <td>경기도 평택시 고덕면</td>\n",
              "      <td>87</td>\n",
              "    </tr>\n",
              "    <tr>\n",
              "      <th>431772</th>\n",
              "      <td>（주）세방테크-(일용)평택전자 P2-PJT대기방지(PH1)일반배관(FAB)</td>\n",
              "      <td>경기도 평택시 장당동</td>\n",
              "      <td>84</td>\n",
              "    </tr>\n",
              "    <tr>\n",
              "      <th>489738</th>\n",
              "      <td>한성크린텍(주)-(일용)평택 전자 P2-PJT 초순수 [PH2  3] UT동 설비공사</td>\n",
              "      <td>경기도 평택시 고덕면</td>\n",
              "      <td>83</td>\n",
              "    </tr>\n",
              "  </tbody>\n",
              "</table>\n",
              "</div>"
            ],
            "text/plain": [
              "                                                     사업장명         지번주소   신규\n",
              "513991  대아이앤씨(주)-(일용)평택FAB2기신축공사중하층서편 상층동편공사중 일반설비5공구(...  경기도 평택시 고덕면  877\n",
              "508965                        주식회사　세보엠이씨(일용)일반설비 1공구(3-1)  경기도 평택시 고덕면  784\n",
              "493806  (주）세방테크-(일용)평택FAB2기신축공사중하층서편 상층동편 공사 중 일반설비4공구...  경기도 평택시 고덕면  371\n",
              "4029                                         미공군경리처(오산충당)  경기도 평택시 지산동  366\n",
              "498697  (주）삼진일렉스-(일용)평택 FAB 2기 신축공사(하층서편) 중 일반전기공사 3-1 공구  경기도 평택시 장당동  250\n",
              "498573               주식회사　세보엠이씨(일용)P2-하층서편 상층동편 기계배관공사(A)  경기도 평택시 고덕면  244\n",
              "503992  （주）통광-(일용)평택전자P2-PJT UT동 중 P2L CT동 하층서편 일반전기공사...  경기도 평택시 고덕면  243\n",
              "488036  (주）세방테크-(일용)평택전자P2-PJT UT동P2LUT동하층서편 상층동편기계배관공...  경기도 평택시 고덕면  239\n",
              "492563     대명지이씨（주）-(일용)평택 FAB2기 신축공사(하층서편)중 일반전기공사 3-2공구  경기도 평택시 고덕면  170\n",
              "512740  (주)케이씨이앤씨-(일용)평택FAB2기신축공사중하층서편 상층동편공사GAS/PCW2공...  경기도 평택시 고덕면  169\n",
              "508649                      （주）신보-일용/P2L UT동 하층 서편 일반전기공사  경기도 평택시 고덕면  130\n",
              "514873                              대아이앤씨(주)/일용/평택소방기계1공구  경기도 평택시 고덕면  130\n",
              "514085                        （주）환승이엔지(일용)[P2]하층동편 소방설비공사  경기도 평택시 고덕면  118\n",
              "507761     신안산업개발(주)/일용/평택 P2L 하층서편 마감 중 해체철거 비계공사(3-1공구)  경기도 평택시 고덕면  111\n",
              "505556    （주）협성기전-(일용)평택 FAB 2기 신축공사(하층서편) 중 자동제어공사 3-1공구  경기도 평택시 고덕면  105\n",
              "474707                (주）케이세웅건설 - (일용) 평택 지제세교지구 1블록 공동주택  경기도 평택시 지제동  104\n",
              "500051                         대아이앤씨（주）-(일용)소방기계 4공구 (상동)  경기도 평택시 고덕면   88\n",
              "498498  (주)화성건설이엔지-(일용)평택전자P2-PJT UT동 중 P2 UT동PH.2&3통합...  경기도 평택시 고덕면   87\n",
              "431772          （주）세방테크-(일용)평택전자 P2-PJT대기방지(PH1)일반배관(FAB)  경기도 평택시 장당동   84\n",
              "489738    한성크린텍(주)-(일용)평택 전자 P2-PJT 초순수 [PH2  3] UT동 설비공사  경기도 평택시 고덕면   83"
            ]
          },
          "metadata": {
            "tags": []
          },
          "execution_count": 88
        }
      ]
    },
    {
      "cell_type": "code",
      "metadata": {
        "id": "dwxWKenFTP91",
        "colab_type": "code",
        "colab": {
          "base_uri": "https://localhost:8080/",
          "height": 659
        },
        "outputId": "a8cf8391-521d-41b4-e8cc-5a38ca7bb244"
      },
      "source": [
        "df.loc[df['시군구코드'] == 560][['사업장명', '지번주소', '상실']].sort_values(by='상실', ascending=False).head(20)"
      ],
      "execution_count": null,
      "outputs": [
        {
          "output_type": "execute_result",
          "data": {
            "text/html": [
              "<div>\n",
              "<style scoped>\n",
              "    .dataframe tbody tr th:only-of-type {\n",
              "        vertical-align: middle;\n",
              "    }\n",
              "\n",
              "    .dataframe tbody tr th {\n",
              "        vertical-align: top;\n",
              "    }\n",
              "\n",
              "    .dataframe thead th {\n",
              "        text-align: right;\n",
              "    }\n",
              "</style>\n",
              "<table border=\"1\" class=\"dataframe\">\n",
              "  <thead>\n",
              "    <tr style=\"text-align: right;\">\n",
              "      <th></th>\n",
              "      <th>사업장명</th>\n",
              "      <th>지번주소</th>\n",
              "      <th>상실</th>\n",
              "    </tr>\n",
              "  </thead>\n",
              "  <tbody>\n",
              "    <tr>\n",
              "      <th>62360</th>\n",
              "      <td>효성ITX (주)</td>\n",
              "      <td>서울특별시 영등포구 양평동4가</td>\n",
              "      <td>441</td>\n",
              "    </tr>\n",
              "    <tr>\n",
              "      <th>14872</th>\n",
              "      <td>엘지전자(주)</td>\n",
              "      <td>서울특별시 영등포구 여의도동</td>\n",
              "      <td>419</td>\n",
              "    </tr>\n",
              "    <tr>\n",
              "      <th>12843</th>\n",
              "      <td>(주)케이티아이에스</td>\n",
              "      <td>서울특별시 영등포구 여의도동</td>\n",
              "      <td>225</td>\n",
              "    </tr>\n",
              "    <tr>\n",
              "      <th>80024</th>\n",
              "      <td>(주)윌앤비전</td>\n",
              "      <td>서울특별시 영등포구 당산동4가</td>\n",
              "      <td>208</td>\n",
              "    </tr>\n",
              "    <tr>\n",
              "      <th>11394</th>\n",
              "      <td>(주)엘지화학</td>\n",
              "      <td>서울특별시 영등포구 여의도동</td>\n",
              "      <td>183</td>\n",
              "    </tr>\n",
              "    <tr>\n",
              "      <th>51238</th>\n",
              "      <td>(주)조은시스템</td>\n",
              "      <td>서울특별시 영등포구 문래동3가</td>\n",
              "      <td>157</td>\n",
              "    </tr>\n",
              "    <tr>\n",
              "      <th>187476</th>\n",
              "      <td>주식회사 발렉스서비스</td>\n",
              "      <td>서울특별시 영등포구 여의도동</td>\n",
              "      <td>157</td>\n",
              "    </tr>\n",
              "    <tr>\n",
              "      <th>723</th>\n",
              "      <td>(주)제이앤비컨설팅</td>\n",
              "      <td>서울특별시 영등포구 문래동3가</td>\n",
              "      <td>121</td>\n",
              "    </tr>\n",
              "    <tr>\n",
              "      <th>50923</th>\n",
              "      <td>(주)에프에이모스트</td>\n",
              "      <td>서울특별시 영등포구 양평동3가</td>\n",
              "      <td>113</td>\n",
              "    </tr>\n",
              "    <tr>\n",
              "      <th>74734</th>\n",
              "      <td>미성엠프로 주식회사</td>\n",
              "      <td>서울특별시 영등포구 당산동3가</td>\n",
              "      <td>110</td>\n",
              "    </tr>\n",
              "    <tr>\n",
              "      <th>82363</th>\n",
              "      <td>주식회사우림맨테크</td>\n",
              "      <td>서울특별시 영등포구 양평동3가</td>\n",
              "      <td>104</td>\n",
              "    </tr>\n",
              "    <tr>\n",
              "      <th>3237</th>\n",
              "      <td>국민은행(주)</td>\n",
              "      <td>서울특별시 영등포구 여의도동</td>\n",
              "      <td>102</td>\n",
              "    </tr>\n",
              "    <tr>\n",
              "      <th>247408</th>\n",
              "      <td>(주)우리엔유</td>\n",
              "      <td>서울특별시 영등포구 여의도동</td>\n",
              "      <td>100</td>\n",
              "    </tr>\n",
              "    <tr>\n",
              "      <th>1868</th>\n",
              "      <td>한국피자헛 유한회사</td>\n",
              "      <td>서울특별시 영등포구 여의도동</td>\n",
              "      <td>88</td>\n",
              "    </tr>\n",
              "    <tr>\n",
              "      <th>172766</th>\n",
              "      <td>엘지디스플레이(주)</td>\n",
              "      <td>서울특별시 영등포구 여의도동</td>\n",
              "      <td>87</td>\n",
              "    </tr>\n",
              "    <tr>\n",
              "      <th>30064</th>\n",
              "      <td>(주)반도티에스</td>\n",
              "      <td>서울특별시 영등포구 당산동6가</td>\n",
              "      <td>85</td>\n",
              "    </tr>\n",
              "    <tr>\n",
              "      <th>87380</th>\n",
              "      <td>신우산업관리(주)</td>\n",
              "      <td>서울특별시 영등포구 당산동4가</td>\n",
              "      <td>82</td>\n",
              "    </tr>\n",
              "    <tr>\n",
              "      <th>341010</th>\n",
              "      <td>(주)크릭앤리버엔터테인먼트</td>\n",
              "      <td>서울특별시 영등포구 여의도동</td>\n",
              "      <td>75</td>\n",
              "    </tr>\n",
              "    <tr>\n",
              "      <th>69779</th>\n",
              "      <td>현대캐피탈(주)</td>\n",
              "      <td>서울특별시 영등포구 여의도동</td>\n",
              "      <td>68</td>\n",
              "    </tr>\n",
              "    <tr>\n",
              "      <th>29651</th>\n",
              "      <td>본푸드서비스 주식회사</td>\n",
              "      <td>서울특별시 영등포구 양평동3가</td>\n",
              "      <td>64</td>\n",
              "    </tr>\n",
              "  </tbody>\n",
              "</table>\n",
              "</div>"
            ],
            "text/plain": [
              "                  사업장명              지번주소   상실\n",
              "62360        효성ITX (주)  서울특별시 영등포구 양평동4가  441\n",
              "14872          엘지전자(주)   서울특별시 영등포구 여의도동  419\n",
              "12843       (주)케이티아이에스   서울특별시 영등포구 여의도동  225\n",
              "80024          (주)윌앤비전  서울특별시 영등포구 당산동4가  208\n",
              "11394          (주)엘지화학   서울특별시 영등포구 여의도동  183\n",
              "51238         (주)조은시스템  서울특별시 영등포구 문래동3가  157\n",
              "187476     주식회사 발렉스서비스   서울특별시 영등포구 여의도동  157\n",
              "723         (주)제이앤비컨설팅  서울특별시 영등포구 문래동3가  121\n",
              "50923       (주)에프에이모스트  서울특별시 영등포구 양평동3가  113\n",
              "74734       미성엠프로 주식회사  서울특별시 영등포구 당산동3가  110\n",
              "82363        주식회사우림맨테크  서울특별시 영등포구 양평동3가  104\n",
              "3237           국민은행(주)   서울특별시 영등포구 여의도동  102\n",
              "247408         (주)우리엔유   서울특별시 영등포구 여의도동  100\n",
              "1868        한국피자헛 유한회사   서울특별시 영등포구 여의도동   88\n",
              "172766      엘지디스플레이(주)   서울특별시 영등포구 여의도동   87\n",
              "30064         (주)반도티에스  서울특별시 영등포구 당산동6가   85\n",
              "87380        신우산업관리(주)  서울특별시 영등포구 당산동4가   82\n",
              "341010  (주)크릭앤리버엔터테인먼트   서울특별시 영등포구 여의도동   75\n",
              "69779         현대캐피탈(주)   서울특별시 영등포구 여의도동   68\n",
              "29651      본푸드서비스 주식회사  서울특별시 영등포구 양평동3가   64"
            ]
          },
          "metadata": {
            "tags": []
          },
          "execution_count": 89
        }
      ]
    },
    {
      "cell_type": "markdown",
      "metadata": {
        "id": "toHWmTuDVvya",
        "colab_type": "text"
      },
      "source": [
        "### 업종별 신규 인력 현황"
      ]
    },
    {
      "cell_type": "code",
      "metadata": {
        "id": "DxrW8GZuTQBQ",
        "colab_type": "code",
        "colab": {
          "base_uri": "https://localhost:8080/",
          "height": 255
        },
        "outputId": "0376de51-ae0f-4e4d-c6fc-7e37a19f26f9"
      },
      "source": [
        "df.groupby('업종코드명')['신규'].mean()"
      ],
      "execution_count": null,
      "outputs": [
        {
          "output_type": "execute_result",
          "data": {
            "text/plain": [
              "업종코드명\n",
              "1차 금속제품 도매업         0.18\n",
              "BIZ_NO미존재사업장        0.57\n",
              "가공 및 정제염 제조업        0.14\n",
              "가구 내 고용활동           1.44\n",
              "가구 소매업              0.38\n",
              "                    ... \n",
              "화훼류 및 식물 도매업        0.27\n",
              "화훼작물 재배업            0.67\n",
              "환경 관련 엔지니어링 서비스업    0.67\n",
              "환경설비 건설업            0.22\n",
              "휴양 콘도 운영업          15.14\n",
              "Name: 신규, Length: 1142, dtype: float64"
            ]
          },
          "metadata": {
            "tags": []
          },
          "execution_count": 110
        }
      ]
    },
    {
      "cell_type": "code",
      "metadata": {
        "id": "YWblmIWqTQEa",
        "colab_type": "code",
        "colab": {
          "base_uri": "https://localhost:8080/",
          "height": 255
        },
        "outputId": "b6edfa35-9da6-45e4-8446-f31d7889ec96"
      },
      "source": [
        "df_1 = df.groupby('업종코드명')['신규'].mean()\n",
        "df_1"
      ],
      "execution_count": null,
      "outputs": [
        {
          "output_type": "execute_result",
          "data": {
            "text/plain": [
              "업종코드명\n",
              "1차 금속제품 도매업         0.18\n",
              "BIZ_NO미존재사업장        0.57\n",
              "가공 및 정제염 제조업        0.14\n",
              "가구 내 고용활동           1.44\n",
              "가구 소매업              0.38\n",
              "                    ... \n",
              "화훼류 및 식물 도매업        0.27\n",
              "화훼작물 재배업            0.67\n",
              "환경 관련 엔지니어링 서비스업    0.67\n",
              "환경설비 건설업            0.22\n",
              "휴양 콘도 운영업          15.14\n",
              "Name: 신규, Length: 1142, dtype: float64"
            ]
          },
          "metadata": {
            "tags": []
          },
          "execution_count": 113
        }
      ]
    },
    {
      "cell_type": "code",
      "metadata": {
        "id": "Oue4jdu9TQId",
        "colab_type": "code",
        "colab": {
          "base_uri": "https://localhost:8080/",
          "height": 35
        },
        "outputId": "9c156cbb-adfd-4e03-f2f5-30ec9e3d9fc6"
      },
      "source": [
        "df_1.sort_values(ascending=False).count()"
      ],
      "execution_count": null,
      "outputs": [
        {
          "output_type": "execute_result",
          "data": {
            "text/plain": [
              "1142"
            ]
          },
          "metadata": {
            "tags": []
          },
          "execution_count": 115
        }
      ]
    },
    {
      "cell_type": "code",
      "metadata": {
        "id": "zxeDoe6GRBcx",
        "colab_type": "code",
        "colab": {}
      },
      "source": [
        "df_top100 = df_1.sort_values(ascending=False).head(50)"
      ],
      "execution_count": null,
      "outputs": []
    },
    {
      "cell_type": "code",
      "metadata": {
        "id": "TevIIhwcRBfg",
        "colab_type": "code",
        "colab": {
          "base_uri": "https://localhost:8080/",
          "height": 564
        },
        "outputId": "356db7ed-151b-4fd3-b48a-9dfee7fc6c6a"
      },
      "source": [
        "plt.figure(figsize = (16,6))\n",
        "sns.barplot(x=df_top100.index, y=df_top100)\n",
        "plt.title('업종별 신규인력')\n",
        "plt.xticks(rotation = 90)\n",
        "plt.show()"
      ],
      "execution_count": null,
      "outputs": [
        {
          "output_type": "display_data",
          "data": {
            "image/png": "[encoded data removed]",
            "text/plain": [
              "<Figure size 1152x432 with 1 Axes>"
            ]
          },
          "metadata": {
            "tags": [],
            "needs_background": "light"
          }
        }
      ]
    },
    {
      "cell_type": "code",
      "metadata": {
        "id": "sHcvikxyRBkv",
        "colab_type": "code",
        "colab": {}
      },
      "source": [
        "def compare_and_visualize(company):\n",
        "    code = df[df['사업장명'] == company]['업종코드']\n",
        "    cols = ['가입자수', '평균월급', '평균연봉', '신규', '상실', '업종코드']\n",
        "    filtered = df.loc[df['업종코드']==code.item()][cols]\n",
        "    df_company = df.loc[df['사업장명'] == company][cols]\n",
        "    df_company = df_company.append(pd.Series(filtered.mean()), ignore_index=True)\n",
        "    \n",
        "    compare_cols = ['가입자수', '평균월급', '평균연봉', '신규', '상실']\n",
        "    for col in compare_cols:\n",
        "        plt.figure(figsize=(10, 5))\n",
        "        sns.barplot(x=[company, '업종평균'], y=col, data=df_company)\n",
        "        plt.title('{} vs 업종평균'.format(col), fontsize=18)\n",
        "        plt.show()"
      ],
      "execution_count": null,
      "outputs": []
    },
    {
      "cell_type": "code",
      "metadata": {
        "id": "bx9umXOURBn5",
        "colab_type": "code",
        "colab": {
          "base_uri": "https://localhost:8080/",
          "height": 326
        },
        "outputId": "de7447aa-ca7b-4aec-de03-7ef210c742df"
      },
      "source": [
        "compare_and_visualize('패스트캠퍼스')"
      ],
      "execution_count": null,
      "outputs": [
        {
          "output_type": "error",
          "ename": "ValueError",
          "evalue": "ignored",
          "traceback": [
            "\u001b[0;31m---------------------------------------------------------------------------\u001b[0m",
            "\u001b[0;31mValueError\u001b[0m                                Traceback (most recent call last)",
            "\u001b[0;32m<ipython-input-128-74f116945b0c>\u001b[0m in \u001b[0;36m<module>\u001b[0;34m()\u001b[0m\n\u001b[0;32m----> 1\u001b[0;31m \u001b[0mcompare_and_visualize\u001b[0m\u001b[0;34m(\u001b[0m\u001b[0;34m'패스트캠퍼스'\u001b[0m\u001b[0;34m)\u001b[0m\u001b[0;34m\u001b[0m\u001b[0;34m\u001b[0m\u001b[0m\n\u001b[0m",
            "\u001b[0;32m<ipython-input-127-e308449c2889>\u001b[0m in \u001b[0;36mcompare_and_visualize\u001b[0;34m(company)\u001b[0m\n\u001b[1;32m      2\u001b[0m     \u001b[0mcode\u001b[0m \u001b[0;34m=\u001b[0m \u001b[0mdf\u001b[0m\u001b[0;34m[\u001b[0m\u001b[0mdf\u001b[0m\u001b[0;34m[\u001b[0m\u001b[0;34m'사업장명'\u001b[0m\u001b[0;34m]\u001b[0m \u001b[0;34m==\u001b[0m \u001b[0mcompany\u001b[0m\u001b[0;34m]\u001b[0m\u001b[0;34m[\u001b[0m\u001b[0;34m'업종코드'\u001b[0m\u001b[0;34m]\u001b[0m\u001b[0;34m\u001b[0m\u001b[0;34m\u001b[0m\u001b[0m\n\u001b[1;32m      3\u001b[0m     \u001b[0mcols\u001b[0m \u001b[0;34m=\u001b[0m \u001b[0;34m[\u001b[0m\u001b[0;34m'가입자수'\u001b[0m\u001b[0;34m,\u001b[0m \u001b[0;34m'평균월급'\u001b[0m\u001b[0;34m,\u001b[0m \u001b[0;34m'평균연봉'\u001b[0m\u001b[0;34m,\u001b[0m \u001b[0;34m'신규'\u001b[0m\u001b[0;34m,\u001b[0m \u001b[0;34m'상실'\u001b[0m\u001b[0;34m,\u001b[0m \u001b[0;34m'업종코드'\u001b[0m\u001b[0;34m]\u001b[0m\u001b[0;34m\u001b[0m\u001b[0;34m\u001b[0m\u001b[0m\n\u001b[0;32m----> 4\u001b[0;31m     \u001b[0mfiltered\u001b[0m \u001b[0;34m=\u001b[0m \u001b[0mdf\u001b[0m\u001b[0;34m.\u001b[0m\u001b[0mloc\u001b[0m\u001b[0;34m[\u001b[0m\u001b[0mdf\u001b[0m\u001b[0;34m[\u001b[0m\u001b[0;34m'업종코드'\u001b[0m\u001b[0;34m]\u001b[0m\u001b[0;34m==\u001b[0m\u001b[0mcode\u001b[0m\u001b[0;34m.\u001b[0m\u001b[0mitem\u001b[0m\u001b[0;34m(\u001b[0m\u001b[0;34m)\u001b[0m\u001b[0;34m]\u001b[0m\u001b[0;34m[\u001b[0m\u001b[0mcols\u001b[0m\u001b[0;34m]\u001b[0m\u001b[0;34m\u001b[0m\u001b[0;34m\u001b[0m\u001b[0m\n\u001b[0m\u001b[1;32m      5\u001b[0m     \u001b[0mdf_company\u001b[0m \u001b[0;34m=\u001b[0m \u001b[0mdf\u001b[0m\u001b[0;34m.\u001b[0m\u001b[0mloc\u001b[0m\u001b[0;34m[\u001b[0m\u001b[0mdf\u001b[0m\u001b[0;34m[\u001b[0m\u001b[0;34m'사업장명'\u001b[0m\u001b[0;34m]\u001b[0m \u001b[0;34m==\u001b[0m \u001b[0mcompany\u001b[0m\u001b[0;34m]\u001b[0m\u001b[0;34m[\u001b[0m\u001b[0mcols\u001b[0m\u001b[0;34m]\u001b[0m\u001b[0;34m\u001b[0m\u001b[0;34m\u001b[0m\u001b[0m\n\u001b[1;32m      6\u001b[0m     \u001b[0mdf_company\u001b[0m \u001b[0;34m=\u001b[0m \u001b[0mdf_company\u001b[0m\u001b[0;34m.\u001b[0m\u001b[0mappend\u001b[0m\u001b[0;34m(\u001b[0m\u001b[0mpd\u001b[0m\u001b[0;34m.\u001b[0m\u001b[0mSeries\u001b[0m\u001b[0;34m(\u001b[0m\u001b[0mfiltered\u001b[0m\u001b[0;34m.\u001b[0m\u001b[0mmean\u001b[0m\u001b[0;34m(\u001b[0m\u001b[0;34m)\u001b[0m\u001b[0;34m)\u001b[0m\u001b[0;34m,\u001b[0m \u001b[0mignore_index\u001b[0m\u001b[0;34m=\u001b[0m\u001b[0;32mTrue\u001b[0m\u001b[0;34m)\u001b[0m\u001b[0;34m\u001b[0m\u001b[0;34m\u001b[0m\u001b[0m\n",
            "\u001b[0;32m/usr/local/lib/python3.6/dist-packages/pandas/core/base.py\u001b[0m in \u001b[0;36mitem\u001b[0;34m(self)\u001b[0m\n\u001b[1;32m    650\u001b[0m             \u001b[0;31m# numpy returns ints instead of datetime64/timedelta64 objects,\u001b[0m\u001b[0;34m\u001b[0m\u001b[0;34m\u001b[0m\u001b[0;34m\u001b[0m\u001b[0m\n\u001b[1;32m    651\u001b[0m             \u001b[0;31m#  which we need to wrap in Timestamp/Timedelta/Period regardless.\u001b[0m\u001b[0;34m\u001b[0m\u001b[0;34m\u001b[0m\u001b[0;34m\u001b[0m\u001b[0m\n\u001b[0;32m--> 652\u001b[0;31m             \u001b[0;32mreturn\u001b[0m \u001b[0mself\u001b[0m\u001b[0;34m.\u001b[0m\u001b[0mvalues\u001b[0m\u001b[0;34m.\u001b[0m\u001b[0mitem\u001b[0m\u001b[0;34m(\u001b[0m\u001b[0;34m)\u001b[0m\u001b[0;34m\u001b[0m\u001b[0;34m\u001b[0m\u001b[0m\n\u001b[0m\u001b[1;32m    653\u001b[0m \u001b[0;34m\u001b[0m\u001b[0m\n\u001b[1;32m    654\u001b[0m         \u001b[0;32mif\u001b[0m \u001b[0mlen\u001b[0m\u001b[0;34m(\u001b[0m\u001b[0mself\u001b[0m\u001b[0;34m)\u001b[0m \u001b[0;34m==\u001b[0m \u001b[0;36m1\u001b[0m\u001b[0;34m:\u001b[0m\u001b[0;34m\u001b[0m\u001b[0;34m\u001b[0m\u001b[0m\n",
            "\u001b[0;31mValueError\u001b[0m: can only convert an array of size 1 to a Python scalar"
          ]
        }
      ]
    },
    {
      "cell_type": "markdown",
      "metadata": {
        "id": "rcSU4ZwZY6TS",
        "colab_type": "text"
      },
      "source": [
        "# 2주차 수업 내용에 관한 자가 평가\n",
        "## Description: Self-assessment for the Impact of Learning(IOL) about Learning intention  \n",
        "### (1) 목표: pandas를 활용해 간단한 통계 분석과 함께 데이터 전처리에 대해 학습목표를 이해하였나? 체크: 그렇다\n",
        "### (2) 내용: 탐색적 데이터 분석 방법과 기초 통계에 관한 이해력 향상에 도움이 되었는가? 체크: 아직 모르겠음\n",
        "- (1 단계) EDA(Extrapolatory Data Analysis): 탐색적 데이터 분석\n",
        "- (2 단계) 데이터 전처리 \n",
        "- (3 단계) 판다스로 데이터 읽기 및 값 불러오기\n",
        "- (4 단계) 기초 통계 방법에 관한 이해: p-value, 신뢰구간 등  \n",
        "\n",
        "### (3) 실습 완료 평가: [경제 데이터를 분석]\n",
        "- 국민연금 데이터를 통한 포스트 코로나 시대 경제 상황 분석 보고서를 이용하였나? 체크: 그렇다\n",
        "- Pandas 사용하였나? 체크: 그렇다 \n",
        "- EDA 방법을 적용해 보았나? 체크: 그렇지 않다\n",
        "- 국민연금기관에서 국민연금에 가입한 고용인에 대한 연봉 데이터를 통한 연금보험액 납부 자료를 이용하여 \"데이터 전처리\" 실습을 해보았나? 체크: text-prepocess 함수를 배움\n"
      ]
    },
    {
      "cell_type": "code",
      "metadata": {
        "id": "nFBC-YnNYVde",
        "colab_type": "code",
        "colab": {}
      },
      "source": [
        ""
      ],
      "execution_count": null,
      "outputs": []
    },
    {
      "cell_type": "code",
      "metadata": {
        "id": "I51qV9mPYVn-",
        "colab_type": "code",
        "colab": {}
      },
      "source": [
        ""
      ],
      "execution_count": null,
      "outputs": []
    },
    {
      "cell_type": "code",
      "metadata": {
        "id": "Ew-KE2S_YVyL",
        "colab_type": "code",
        "colab": {}
      },
      "source": [
        ""
      ],
      "execution_count": null,
      "outputs": []
    },
    {
      "cell_type": "code",
      "metadata": {
        "id": "iDZgt1NmRBqV",
        "colab_type": "code",
        "colab": {}
      },
      "source": [
        ""
      ],
      "execution_count": null,
      "outputs": []
    },
    {
      "cell_type": "code",
      "metadata": {
        "id": "LgqIdN-kRBiu",
        "colab_type": "code",
        "colab": {}
      },
      "source": [
        ""
      ],
      "execution_count": null,
      "outputs": []
    },
    {
      "cell_type": "code",
      "metadata": {
        "id": "_y-C0yaORBYB",
        "colab_type": "code",
        "colab": {}
      },
      "source": [
        ""
      ],
      "execution_count": null,
      "outputs": []
    }
  ]
}